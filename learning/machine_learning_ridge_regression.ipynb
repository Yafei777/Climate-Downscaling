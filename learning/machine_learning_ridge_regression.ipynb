{
 "cells": [
  {
   "cell_type": "code",
   "execution_count": 1,
   "metadata": {
    "collapsed": true
   },
   "outputs": [],
   "source": [
    "%matplotlib inline\n",
    "\n",
    "import numpy as np\n",
    "from pandas import Series, DataFrame\n",
    "import pandas as pd\n",
    "\n",
    "import matplotlib.pyplot as plt\n",
    "import seaborn as sns"
   ]
  },
  {
   "cell_type": "code",
   "execution_count": 3,
   "metadata": {
    "collapsed": false
   },
   "outputs": [],
   "source": [
    "kz_temp_series = pd.read_pickle('/home/ek777/Documents/Downscaling/Climate-Downscaling/KZ_paper/KZ_downscaling_code/kz_temp_series.pkl')"
   ]
  },
  {
   "cell_type": "code",
   "execution_count": 5,
   "metadata": {
    "collapsed": false
   },
   "outputs": [],
   "source": [
    "kz_temp_series = kz_temp_series['AKTOBE']"
   ]
  },
  {
   "cell_type": "code",
   "execution_count": 6,
   "metadata": {
    "collapsed": false,
    "scrolled": true
   },
   "outputs": [
    {
     "data": {
      "text/plain": [
       "DATE\n",
       "1960-01-01   -11.5\n",
       "1960-02-01   -12.7\n",
       "1960-03-01   -13.9\n",
       "1960-04-01     6.4\n",
       "1960-05-01    10.3\n",
       "1960-06-01    21.0\n",
       "1960-07-01    20.3\n",
       "1960-08-01    20.0\n",
       "1960-09-01    13.0\n",
       "1960-10-01     4.0\n",
       "1960-11-01    -8.1\n",
       "1960-12-01   -10.7\n",
       "1961-01-01   -13.1\n",
       "1961-02-01   -12.2\n",
       "1961-03-01    -3.4\n",
       "1961-04-01     6.9\n",
       "1961-05-01    18.1\n",
       "1961-06-01    20.6\n",
       "1961-07-01    22.1\n",
       "1961-08-01    20.7\n",
       "1961-09-01    12.3\n",
       "1961-10-01     4.5\n",
       "1961-11-01    -3.2\n",
       "1961-12-01    -5.9\n",
       "1962-01-01   -11.4\n",
       "1962-02-01   -10.5\n",
       "1962-03-01     0.4\n",
       "1962-04-01     9.0\n",
       "1962-05-01    15.3\n",
       "1962-06-01    19.5\n",
       "              ... \n",
       "2007-07-01    23.5\n",
       "2007-08-01    24.3\n",
       "2007-09-01    18.0\n",
       "2007-10-01    10.4\n",
       "2007-11-01    -7.9\n",
       "2007-12-01   -19.1\n",
       "2008-01-01   -17.1\n",
       "2008-02-01    -7.2\n",
       "2008-03-01     2.7\n",
       "2008-04-01     7.5\n",
       "2008-05-01    13.2\n",
       "2008-06-01    22.6\n",
       "2008-07-01    24.9\n",
       "2008-08-01    23.7\n",
       "2008-09-01     8.0\n",
       "2008-10-01     9.0\n",
       "2008-11-01     2.2\n",
       "2008-12-01    -2.4\n",
       "2009-01-01   -14.0\n",
       "2009-02-01   -10.3\n",
       "2009-03-01    -0.9\n",
       "2009-04-01     2.0\n",
       "2009-05-01    15.6\n",
       "2009-06-01    21.2\n",
       "2009-07-01    22.7\n",
       "2009-08-01    19.5\n",
       "2009-09-01    17.1\n",
       "2009-10-01     3.5\n",
       "2009-11-01    -1.2\n",
       "2009-12-01   -10.4\n",
       "Name: AKTOBE, dtype: float64"
      ]
     },
     "execution_count": 6,
     "metadata": {},
     "output_type": "execute_result"
    }
   ],
   "source": [
    "kz_temp_series"
   ]
  },
  {
   "cell_type": "code",
   "execution_count": null,
   "metadata": {
    "collapsed": true
   },
   "outputs": [],
   "source": []
  },
  {
   "cell_type": "code",
   "execution_count": null,
   "metadata": {
    "collapsed": true
   },
   "outputs": [],
   "source": []
  },
  {
   "cell_type": "code",
   "execution_count": null,
   "metadata": {
    "collapsed": true
   },
   "outputs": [],
   "source": []
  },
  {
   "cell_type": "code",
   "execution_count": null,
   "metadata": {
    "collapsed": true
   },
   "outputs": [],
   "source": []
  },
  {
   "cell_type": "code",
   "execution_count": null,
   "metadata": {
    "collapsed": true
   },
   "outputs": [],
   "source": []
  }
 ],
 "metadata": {
  "kernelspec": {
   "display_name": "Python 2",
   "language": "python",
   "name": "python2"
  },
  "language_info": {
   "codemirror_mode": {
    "name": "ipython",
    "version": 2
   },
   "file_extension": ".py",
   "mimetype": "text/x-python",
   "name": "python",
   "nbconvert_exporter": "python",
   "pygments_lexer": "ipython2",
   "version": "2.7.10"
  }
 },
 "nbformat": 4,
 "nbformat_minor": 0
}
