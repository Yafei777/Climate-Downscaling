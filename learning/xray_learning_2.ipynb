{
 "cells": [
  {
   "cell_type": "code",
   "execution_count": 1,
   "metadata": {
    "collapsed": true
   },
   "outputs": [],
   "source": [
    "%matplotlib inline"
   ]
  },
  {
   "cell_type": "code",
   "execution_count": 2,
   "metadata": {
    "collapsed": true
   },
   "outputs": [],
   "source": [
    "import os"
   ]
  },
  {
   "cell_type": "code",
   "execution_count": 3,
   "metadata": {
    "collapsed": true
   },
   "outputs": [],
   "source": [
    "import xray"
   ]
  },
  {
   "cell_type": "code",
   "execution_count": 4,
   "metadata": {
    "collapsed": true
   },
   "outputs": [],
   "source": [
    "nc_path = '/home/ek777/Documents/Downscaling/ncep_monthly_mean/surface'\n",
    "nc_name = 'air.mon.mean.nc'\n",
    "dset = xray.open_dataset(os.path.join(nc_path, nc_name))"
   ]
  },
  {
   "cell_type": "code",
   "execution_count": 5,
   "metadata": {
    "collapsed": false
   },
   "outputs": [
    {
     "data": {
      "text/plain": [
       "<xray.Dataset>\n",
       "Dimensions:  (lat: 73, level: 17, lon: 144, time: 811)\n",
       "Coordinates:\n",
       "  * level    (level) float32 1000.0 925.0 850.0 700.0 600.0 500.0 400.0 ...\n",
       "  * lat      (lat) float32 90.0 87.5 85.0 82.5 80.0 77.5 75.0 72.5 70.0 67.5 ...\n",
       "  * lon      (lon) float32 0.0 2.5 5.0 7.5 10.0 12.5 15.0 17.5 20.0 22.5 ...\n",
       "  * time     (time) datetime64[ns] 1948-01-01 1948-02-01 1948-03-01 ...\n",
       "Data variables:\n",
       "    air      (time, level, lat, lon) float64 -33.91 -33.91 -33.91 -33.91 ...\n",
       "Attributes:\n",
       "    description:  Data from NCEP initialized reanalysis (4x/day).  These are interpolated to pressure surfaces from model (sigma) surfaces.\n",
       "    platform: Model\n",
       "    Conventions: COARDS\n",
       "    references: http://www.esrl.noaa.gov/psd/data/gridded/data.ncep.reanalysis.derived.html\n",
       "    NCO: 20121012\n",
       "    history: Mon Jul  5 21:45:36 1999: ncrcat air.mon.mean.nc /Datasets/ncep.reanalysis.derived/pressure/air.mon.mean.nc /dm/dmwork/nmc.rean.ingest/combinedMMs/air.mon.mean.nc\n",
       "/home/hoop/crdc/cpreanjuke2farm/cpreanjuke2farm Tue Oct 17 20:07:08 1995 from air.85.nc\n",
       "created 95/02/06 by Hoop (netCDF2.3)\n",
       "Converted to chunked, deflated non-packed NetCDF4 2014/09\n",
       "    title: monthly mean air from the NCEP Reanalysis"
      ]
     },
     "execution_count": 5,
     "metadata": {},
     "output_type": "execute_result"
    }
   ],
   "source": [
    "dset"
   ]
  },
  {
   "cell_type": "code",
   "execution_count": 6,
   "metadata": {
    "collapsed": false
   },
   "outputs": [],
   "source": [
    "da = dset.sel(time='1990-06', level=850).to_array()"
   ]
  },
  {
   "cell_type": "code",
   "execution_count": 7,
   "metadata": {
    "collapsed": false
   },
   "outputs": [
    {
     "data": {
      "text/plain": [
       "<xray.DataArray (variable: 1, time: 1, lat: 73, lon: 144)>\n",
       "array([[[[ -4.44998932,  -4.44998932,  -4.44998932, ...,  -4.44998932,\n",
       "           -4.44998932,  -4.44998932],\n",
       "         [ -4.12000275,  -4.15000153,  -4.18999481, ...,  -4.01000214,\n",
       "           -4.04999542,  -4.0799942 ],\n",
       "         [ -3.49999237,  -3.58998871,  -3.68000031, ...,  -3.21999359,\n",
       "           -3.30998993,  -3.40000153],\n",
       "         ..., \n",
       "         [-43.40999603, -43.93999481, -44.43000031, ..., -41.52999115,\n",
       "          -42.19998932, -42.8299942 ],\n",
       "         [-44.84999847, -45.08998871, -45.30998993, ..., -44.08998871,\n",
       "          -44.34999847, -44.60999298],\n",
       "         [-45.13999176, -45.13999176, -45.13999176, ..., -45.13999176,\n",
       "          -45.13999176, -45.13999176]]]])\n",
       "Coordinates:\n",
       "    level     float32 850.0\n",
       "  * lat       (lat) float32 90.0 87.5 85.0 82.5 80.0 77.5 75.0 72.5 70.0 ...\n",
       "  * variable  (variable) <U3 u'air'\n",
       "  * time      (time) datetime64[ns] 1990-06-01\n",
       "  * lon       (lon) float32 0.0 2.5 5.0 7.5 10.0 12.5 15.0 17.5 20.0 22.5 ...\n",
       "Attributes:\n",
       "    description:  Data from NCEP initialized reanalysis (4x/day).  These are interpolated to pressure surfaces from model (sigma) surfaces.\n",
       "    platform: Model\n",
       "    Conventions: COARDS\n",
       "    references: http://www.esrl.noaa.gov/psd/data/gridded/data.ncep.reanalysis.derived.html\n",
       "    NCO: 20121012\n",
       "    history: Mon Jul  5 21:45:36 1999: ncrcat air.mon.mean.nc /Datasets/ncep.reanalysis.derived/pressure/air.mon.mean.nc /dm/dmwork/nmc.rean.ingest/combinedMMs/air.mon.mean.nc\n",
       "/home/hoop/crdc/cpreanjuke2farm/cpreanjuke2farm Tue Oct 17 20:07:08 1995 from air.85.nc\n",
       "created 95/02/06 by Hoop (netCDF2.3)\n",
       "Converted to chunked, deflated non-packed NetCDF4 2014/09\n",
       "    title: monthly mean air from the NCEP Reanalysis"
      ]
     },
     "execution_count": 7,
     "metadata": {},
     "output_type": "execute_result"
    }
   ],
   "source": [
    "da"
   ]
  },
  {
   "cell_type": "code",
   "execution_count": 8,
   "metadata": {
    "collapsed": false,
    "scrolled": true
   },
   "outputs": [
    {
     "data": {
      "text/plain": [
       "<xray.DataArray (variable: 1, time: 1, lat: 2)>\n",
       "array([[[ 15.54000092,  17.69000244]]])\n",
       "Coordinates:\n",
       "    level     float32 850.0\n",
       "  * lat       (lat) float32 50.0 47.5\n",
       "  * variable  (variable) <U3 u'air'\n",
       "  * time      (time) datetime64[ns] 1990-06-01\n",
       "    lon       float32 70.0\n",
       "Attributes:\n",
       "    description:  Data from NCEP initialized reanalysis (4x/day).  These are interpolated to pressure surfaces from model (sigma) surfaces.\n",
       "    platform: Model\n",
       "    Conventions: COARDS\n",
       "    references: http://www.esrl.noaa.gov/psd/data/gridded/data.ncep.reanalysis.derived.html\n",
       "    NCO: 20121012\n",
       "    history: Mon Jul  5 21:45:36 1999: ncrcat air.mon.mean.nc /Datasets/ncep.reanalysis.derived/pressure/air.mon.mean.nc /dm/dmwork/nmc.rean.ingest/combinedMMs/air.mon.mean.nc\n",
       "/home/hoop/crdc/cpreanjuke2farm/cpreanjuke2farm Tue Oct 17 20:07:08 1995 from air.85.nc\n",
       "created 95/02/06 by Hoop (netCDF2.3)\n",
       "Converted to chunked, deflated non-packed NetCDF4 2014/09\n",
       "    title: monthly mean air from the NCEP Reanalysis"
      ]
     },
     "execution_count": 8,
     "metadata": {},
     "output_type": "execute_result"
    }
   ],
   "source": [
    "da.sel(lat=[50,47],lon=70.8, method='nearest')"
   ]
  },
  {
   "cell_type": "code",
   "execution_count": 9,
   "metadata": {
    "collapsed": false
   },
   "outputs": [
    {
     "data": {
      "text/plain": [
       "<xray.DataArray (variable: 1, time: 1)>\n",
       "array([[ 15.54000092]])\n",
       "Coordinates:\n",
       "    level     float32 850.0\n",
       "    lat       float32 50.0\n",
       "  * variable  (variable) <U3 u'air'\n",
       "  * time      (time) datetime64[ns] 1990-06-01\n",
       "    lon       float32 70.0\n",
       "Attributes:\n",
       "    description:  Data from NCEP initialized reanalysis (4x/day).  These are interpolated to pressure surfaces from model (sigma) surfaces.\n",
       "    platform: Model\n",
       "    Conventions: COARDS\n",
       "    references: http://www.esrl.noaa.gov/psd/data/gridded/data.ncep.reanalysis.derived.html\n",
       "    NCO: 20121012\n",
       "    history: Mon Jul  5 21:45:36 1999: ncrcat air.mon.mean.nc /Datasets/ncep.reanalysis.derived/pressure/air.mon.mean.nc /dm/dmwork/nmc.rean.ingest/combinedMMs/air.mon.mean.nc\n",
       "/home/hoop/crdc/cpreanjuke2farm/cpreanjuke2farm Tue Oct 17 20:07:08 1995 from air.85.nc\n",
       "created 95/02/06 by Hoop (netCDF2.3)\n",
       "Converted to chunked, deflated non-packed NetCDF4 2014/09\n",
       "    title: monthly mean air from the NCEP Reanalysis"
      ]
     },
     "execution_count": 9,
     "metadata": {},
     "output_type": "execute_result"
    }
   ],
   "source": [
    "da.sel(lat=50,lon=70)"
   ]
  },
  {
   "cell_type": "code",
   "execution_count": 10,
   "metadata": {
    "collapsed": true
   },
   "outputs": [],
   "source": [
    "y = [45.6, 47.8, 39.5, 50.1]\n",
    "x = [66, 77, 88, 99.9]"
   ]
  },
  {
   "cell_type": "code",
   "execution_count": 11,
   "metadata": {
    "collapsed": true
   },
   "outputs": [],
   "source": [
    "import numpy as np"
   ]
  },
  {
   "cell_type": "code",
   "execution_count": 15,
   "metadata": {
    "collapsed": false
   },
   "outputs": [
    {
     "data": {
      "text/plain": [
       "<xray.DataArray (points: 4, variable: 1, time: 1)>\n",
       "array([[[ 19.02000427]],\n",
       "\n",
       "       [[ 17.16000366]],\n",
       "\n",
       "       [[ 23.80000305]],\n",
       "\n",
       "       [[ 10.02000427]]])\n",
       "Coordinates:\n",
       "    level     float32 850.0\n",
       "  * variable  (variable) <U3 u'air'\n",
       "  * time      (time) datetime64[ns] 1990-06-01\n",
       "    lat       (points) float32 45.0 47.5 40.0 50.0\n",
       "    lon       (points) float32 65.0 77.5 87.5 100.0\n",
       "  * points    (points) int64 0 1 2 3\n",
       "Attributes:\n",
       "    description:  Data from NCEP initialized reanalysis (4x/day).  These are interpolated to pressure surfaces from model (sigma) surfaces.\n",
       "    platform: Model\n",
       "    Conventions: COARDS\n",
       "    references: http://www.esrl.noaa.gov/psd/data/gridded/data.ncep.reanalysis.derived.html\n",
       "    NCO: 20121012\n",
       "    history: Mon Jul  5 21:45:36 1999: ncrcat air.mon.mean.nc /Datasets/ncep.reanalysis.derived/pressure/air.mon.mean.nc /dm/dmwork/nmc.rean.ingest/combinedMMs/air.mon.mean.nc\n",
       "/home/hoop/crdc/cpreanjuke2farm/cpreanjuke2farm Tue Oct 17 20:07:08 1995 from air.85.nc\n",
       "created 95/02/06 by Hoop (netCDF2.3)\n",
       "Converted to chunked, deflated non-packed NetCDF4 2014/09\n",
       "    title: monthly mean air from the NCEP Reanalysis"
      ]
     },
     "execution_count": 15,
     "metadata": {},
     "output_type": "execute_result"
    }
   ],
   "source": [
    "da.sel_points(lat=y, lon=x, method='nearest')"
   ]
  },
  {
   "cell_type": "code",
   "execution_count": 16,
   "metadata": {
    "collapsed": false
   },
   "outputs": [
    {
     "data": {
      "text/plain": [
       "'0.6.1'"
      ]
     },
     "execution_count": 16,
     "metadata": {},
     "output_type": "execute_result"
    }
   ],
   "source": [
    "xray.__version__"
   ]
  },
  {
   "cell_type": "code",
   "execution_count": 91,
   "metadata": {
    "collapsed": true
   },
   "outputs": [],
   "source": [
    "def point_to_node_dict(pLat = 37, pLon = 116,iLat = 2.5,iLon = 2.5):\n",
    "    \n",
    "    pLat = np.array(pLat)\n",
    "    pLon = np.array(pLon)\n",
    "    \n",
    "    cLat = ((pLat + iLat / 2) / iLat).astype(int) * iLat\n",
    "    cLon = ((pLon + iLon / 2) / iLon).astype(int) * iLon\n",
    "\n",
    "    return {'lat':cLat, 'lon':cLon}"
   ]
  },
  {
   "cell_type": "code",
   "execution_count": 92,
   "metadata": {
    "collapsed": false
   },
   "outputs": [
    {
     "data": {
      "text/plain": [
       "{'lat': 37.5, 'lon': 115.0}"
      ]
     },
     "execution_count": 92,
     "metadata": {},
     "output_type": "execute_result"
    }
   ],
   "source": [
    "point_to_node_dict()"
   ]
  },
  {
   "cell_type": "code",
   "execution_count": 21,
   "metadata": {
    "collapsed": true
   },
   "outputs": [],
   "source": [
    "point_lat = 51.8167\n",
    "point_lon = 68.3667"
   ]
  },
  {
   "cell_type": "code",
   "execution_count": 22,
   "metadata": {
    "collapsed": true
   },
   "outputs": [],
   "source": [
    "resolution_lat = 2.5\n",
    "resolution_lon = 2.5"
   ]
  },
  {
   "cell_type": "code",
   "execution_count": 23,
   "metadata": {
    "collapsed": false
   },
   "outputs": [
    {
     "data": {
      "text/plain": [
       "(52.5, 67.5)"
      ]
     },
     "execution_count": 23,
     "metadata": {},
     "output_type": "execute_result"
    }
   ],
   "source": [
    "point_to_node(point_lat, point_lon, resolution_lat, resolution_lon)"
   ]
  },
  {
   "cell_type": "code",
   "execution_count": 27,
   "metadata": {
    "collapsed": true
   },
   "outputs": [],
   "source": [
    "import cartopy.crs as ccrs\n",
    "import matplotlib.pyplot as plt\n",
    "\n",
    "import cartopy.feature as cfeature"
   ]
  },
  {
   "cell_type": "code",
   "execution_count": 97,
   "metadata": {
    "collapsed": true
   },
   "outputs": [],
   "source": [
    "def point_to_domain_dict(pLat, pLon, iLat=2.5, iLon=2.5, nodes_expanded=1):\n",
    "    \n",
    "    pLat = pLat\n",
    "    pLon = pLon\n",
    "    \n",
    "    cLat = int((pLat + iLat / 2) / iLat) * iLat  # c means CENTRER\n",
    "    cLon = int((pLon + iLon / 2) / iLon) * iLon\n",
    "    \n",
    "    cExtent = [cLon - 2 * (nodes_expanded * iLon), cLon + 2 * (nodes_expanded * iLon),\n",
    "               cLat - 2 * (nodes_expanded * iLat), cLat + 2 * (nodes_expanded * iLat)]\n",
    "    \n",
    "    return dict(domain_dict = dict(lat=slice(cLat + nodes_expanded * iLat, cLat - nodes_expanded * iLat),\n",
    "                lon=slice(cLon - nodes_expanded * iLon, cLon + nodes_expanded * iLon)),\n",
    "                extent=cExtent)\n"
   ]
  },
  {
   "cell_type": "code",
   "execution_count": 98,
   "metadata": {
    "collapsed": false,
    "scrolled": true
   },
   "outputs": [
    {
     "data": {
      "text/plain": [
       "{'domain_dict': {'lat': slice(55.0, 50.0, None),\n",
       "  'lon': slice(65.0, 70.0, None)},\n",
       " 'extent': [62.5, 72.5, 47.5, 57.5]}"
      ]
     },
     "execution_count": 98,
     "metadata": {},
     "output_type": "execute_result"
    }
   ],
   "source": [
    "point_to_domain_dict(51.8167, 68.3667)"
   ]
  },
  {
   "cell_type": "code",
   "execution_count": 71,
   "metadata": {
    "collapsed": true
   },
   "outputs": [],
   "source": [
    "e = point_to_domain_dict(51.8167, 68.3667)"
   ]
  },
  {
   "cell_type": "code",
   "execution_count": null,
   "metadata": {
    "collapsed": true
   },
   "outputs": [],
   "source": []
  },
  {
   "cell_type": "code",
   "execution_count": null,
   "metadata": {
    "collapsed": true
   },
   "outputs": [],
   "source": []
  },
  {
   "cell_type": "code",
   "execution_count": 68,
   "metadata": {
    "collapsed": false
   },
   "outputs": [
    {
     "data": {
      "text/plain": [
       "{'lat': slice(52.5, 47.5, None), 'lon': slice(67.4, 72.5, None)}"
      ]
     },
     "execution_count": 68,
     "metadata": {},
     "output_type": "execute_result"
    }
   ],
   "source": [
    "d"
   ]
  },
  {
   "cell_type": "code",
   "execution_count": 51,
   "metadata": {
    "collapsed": false
   },
   "outputs": [],
   "source": [
    "d = dict(lon=slice(67.4,72.5), lat=slice(52.5,47.5))"
   ]
  },
  {
   "cell_type": "code",
   "execution_count": 59,
   "metadata": {
    "collapsed": false
   },
   "outputs": [
    {
     "data": {
      "text/plain": [
       "<xray.DataArray (variable: 1, time: 1, lat: 3, lon: 3)>\n",
       "array([[[[ 13.39000702,  13.32000732,  13.15000153],\n",
       "         [ 15.19000244,  15.54000092,  15.64000702],\n",
       "         [ 17.11000061,  17.69000244,  17.9200058 ]]]])\n",
       "Coordinates:\n",
       "    level     float32 850.0\n",
       "  * lat       (lat) float32 52.5 50.0 47.5\n",
       "  * variable  (variable) <U3 u'air'\n",
       "  * time      (time) datetime64[ns] 1990-06-01\n",
       "  * lon       (lon) float32 67.5 70.0 72.5\n",
       "Attributes:\n",
       "    description:  Data from NCEP initialized reanalysis (4x/day).  These are interpolated to pressure surfaces from model (sigma) surfaces.\n",
       "    platform: Model\n",
       "    Conventions: COARDS\n",
       "    references: http://www.esrl.noaa.gov/psd/data/gridded/data.ncep.reanalysis.derived.html\n",
       "    NCO: 20121012\n",
       "    history: Mon Jul  5 21:45:36 1999: ncrcat air.mon.mean.nc /Datasets/ncep.reanalysis.derived/pressure/air.mon.mean.nc /dm/dmwork/nmc.rean.ingest/combinedMMs/air.mon.mean.nc\n",
       "/home/hoop/crdc/cpreanjuke2farm/cpreanjuke2farm Tue Oct 17 20:07:08 1995 from air.85.nc\n",
       "created 95/02/06 by Hoop (netCDF2.3)\n",
       "Converted to chunked, deflated non-packed NetCDF4 2014/09\n",
       "    title: monthly mean air from the NCEP Reanalysis"
      ]
     },
     "execution_count": 59,
     "metadata": {},
     "output_type": "execute_result"
    }
   ],
   "source": [
    "da.loc[d]"
   ]
  },
  {
   "cell_type": "code",
   "execution_count": 72,
   "metadata": {
    "collapsed": false
   },
   "outputs": [],
   "source": [
    "air_kz = da.loc[e]"
   ]
  },
  {
   "cell_type": "code",
   "execution_count": 83,
   "metadata": {
    "collapsed": true
   },
   "outputs": [],
   "source": [
    "import matplotlib.ticker as mticker"
   ]
  },
  {
   "cell_type": "code",
   "execution_count": 101,
   "metadata": {
    "collapsed": false
   },
   "outputs": [
    {
     "data": {
      "image/png": "[encoded data removed]",
      "text/plain": [
       "<matplotlib.figure.Figure at 0x7f44731405d0>"
      ]
     },
     "metadata": {},
     "output_type": "display_data"
    }
   ],
   "source": [
    "ax = plt.axes(projection=ccrs.PlateCarree())\n",
    "\n",
    "ax.stock_img()\n",
    "ax.set_extent([55,80,40,60])\n",
    "ax.add_feature(cfeature.BORDERS)\n",
    "\n",
    "air_kz.plot(ax=ax)\n",
    "\n",
    "gl = ax.gridlines(crs=ccrs.PlateCarree(), draw_labels=True,\n",
    "                  linewidth=2, color='gray', alpha=0.5, linestyle='--')\n",
    "gl.xlocator = mticker.FixedLocator(np.arange(62.5,75,2.5))\n",
    "gl.ylocator = mticker.FixedLocator(np.arange(47.5,60,2.5))\n",
    "\n",
    "ax.scatter(68.3667, 51.8167, color='r',transform=ccrs.PlateCarree(),label='Stations')\n",
    "\n",
    "gl.xlabels_top = False\n",
    "gl.ylabels_right = False"
   ]
  },
  {
   "cell_type": "code",
   "execution_count": 100,
   "metadata": {
    "collapsed": false
   },
   "outputs": [
    {
     "data": {
      "image/png": "[encoded data removed]",
      "text/plain": [
       "<matplotlib.figure.Figure at 0x7f4473335210>"
      ]
     },
     "metadata": {},
     "output_type": "display_data"
    }
   ],
   "source": [
    "show_point(da,51.8167, 68.3667)"
   ]
  },
  {
   "cell_type": "code",
   "execution_count": 99,
   "metadata": {
    "collapsed": false
   },
   "outputs": [],
   "source": [
    "def show_point(da,lat,lon):\n",
    "    domain_dict = point_to_domain_dict(lat, lon)\n",
    "    ax = plt.axes(projection=ccrs.PlateCarree())\n",
    "\n",
    "    ax.stock_img()\n",
    "    ax.set_extent(domain_dict['extent'])\n",
    "    ax.add_feature(cfeature.BORDERS)\n",
    "\n",
    "    da.loc[domain_dict['domain_dict']].plot(ax=ax)\n",
    "\n",
    "    gl = ax.gridlines(crs=ccrs.PlateCarree(), draw_labels=True,\n",
    "                      linewidth=2, color='gray', alpha=0.5, linestyle='--')\n",
    "    gl.xlocator = mticker.FixedLocator(np.arange(62.5,75,2.5))\n",
    "    gl.ylocator = mticker.FixedLocator(np.arange(47.5,60,2.5))\n",
    "\n",
    "    ax.scatter(lon, lat, color='r',transform=ccrs.PlateCarree(),label='Stations')\n",
    "\n",
    "    gl.xlabels_top = False\n",
    "    gl.ylabels_right = False"
   ]
  },
  {
   "cell_type": "code",
   "execution_count": 109,
   "metadata": {
    "collapsed": true
   },
   "outputs": [],
   "source": [
    "\n",
    "# i for interested\n",
    "\n",
    "i_month = 7\n",
    "i_year_start = 1960\n",
    "i_year_end = 2009\n",
    "i_level = 850\n",
    "i_point_lat = 51.8167\n",
    "i_point_lon = 68.3667\n",
    "i_var = 'air'\n"
   ]
  },
  {
   "cell_type": "code",
   "execution_count": 105,
   "metadata": {
    "collapsed": false
   },
   "outputs": [
    {
     "data": {
      "text/plain": [
       "{'domain_dict': {'lat': slice(55.0, 50.0, None),\n",
       "  'lon': slice(65.0, 70.0, None)},\n",
       " 'extent': [62.5, 72.5, 47.5, 57.5]}"
      ]
     },
     "execution_count": 105,
     "metadata": {},
     "output_type": "execute_result"
    }
   ],
   "source": [
    "point_to_domain_dict(i_point_lat, i_point_lon)"
   ]
  },
  {
   "cell_type": "code",
   "execution_count": 107,
   "metadata": {
    "collapsed": false
   },
   "outputs": [
    {
     "data": {
      "text/plain": [
       "{'lat': slice(55.0, 50.0, None), 'lon': slice(65.0, 70.0, None)}"
      ]
     },
     "execution_count": 107,
     "metadata": {},
     "output_type": "execute_result"
    }
   ],
   "source": [
    "p_domain = point_to_domain_dict(i_point_lat, i_point_lon)\n",
    "parameter_dict = dict(lat=p_domain['domain_dict']['lat'],lon=p_domain['domain_dict']['lon'])\n",
    "parameter_dict"
   ]
  },
  {
   "cell_type": "code",
   "execution_count": 108,
   "metadata": {
    "collapsed": false
   },
   "outputs": [
    {
     "data": {
      "text/plain": [
       "{'lat': slice(55.0, 50.0, None), 'level': 850, 'lon': slice(65.0, 70.0, None)}"
      ]
     },
     "execution_count": 108,
     "metadata": {},
     "output_type": "execute_result"
    }
   ],
   "source": [
    "parameter_dict.update({'level':i_level})\n",
    "parameter_dict"
   ]
  },
  {
   "cell_type": "code",
   "execution_count": null,
   "metadata": {
    "collapsed": true
   },
   "outputs": [],
   "source": [
    "time=slice('1980-1-1','2000-12-31',12)"
   ]
  },
  {
   "cell_type": "code",
   "execution_count": 110,
   "metadata": {
    "collapsed": false
   },
   "outputs": [
    {
     "data": {
      "text/plain": [
       "'1960-7'"
      ]
     },
     "execution_count": 110,
     "metadata": {},
     "output_type": "execute_result"
    }
   ],
   "source": [
    "str(i_year_start) + '-' + str(i_month)"
   ]
  },
  {
   "cell_type": "code",
   "execution_count": 112,
   "metadata": {
    "collapsed": true
   },
   "outputs": [],
   "source": [
    "def get_interested_month_slice(interested_month, start_year, end_year):\n",
    "\n",
    "    start = str(start_year) + '-' + str(interested_month)\n",
    "\n",
    "    end = str(end_year) + '-' + str(interested_month)\n",
    "    \n",
    "    return slice(start,end,12)"
   ]
  },
  {
   "cell_type": "code",
   "execution_count": 113,
   "metadata": {
    "collapsed": false
   },
   "outputs": [
    {
     "data": {
      "text/plain": [
       "slice('1960-7', '2009-7', 12)"
      ]
     },
     "execution_count": 113,
     "metadata": {},
     "output_type": "execute_result"
    }
   ],
   "source": [
    "get_interested_month_slice(i_month,i_year_start, i_year_end)"
   ]
  },
  {
   "cell_type": "code",
   "execution_count": 149,
   "metadata": {
    "collapsed": false
   },
   "outputs": [
    {
     "data": {
      "text/plain": [
       "{'lat': slice(55.0, 50.0, None),\n",
       " 'level': 850,\n",
       " 'lon': slice(65.0, 70.0, None),\n",
       " 'time': slice('1960-7', '2009-7', 12)}"
      ]
     },
     "execution_count": 149,
     "metadata": {},
     "output_type": "execute_result"
    }
   ],
   "source": [
    "parameter_dict.update(dict(time=get_interested_month_slice(i_month,i_year_start, i_year_end)))\n",
    "parameter_dict"
   ]
  },
  {
   "cell_type": "code",
   "execution_count": 175,
   "metadata": {
    "collapsed": false
   },
   "outputs": [],
   "source": [
    "def point_to_center_dict(pLat, pLon, iLat=2.5, iLon=2.5):\n",
    "    \n",
    "    # iLat and iLon are the intervals between nodes\n",
    "    \n",
    "    cLat = int((pLat + iLat / 2) / iLat) * iLat  # c means CENTRER\n",
    "    cLon = int((pLon + iLon / 2) / iLon) * iLon\n",
    "\n",
    "    return {'cLat':cLat, 'cLon':cLon}\n",
    "\n",
    "\n",
    "\n",
    "def get_interested_month_slice(interested_month, start_year, end_year):\n",
    "\n",
    "    start = str(start_year) + '-' + str(interested_month)\n",
    "\n",
    "    end = str(end_year) + '-' + str(interested_month)\n",
    "    \n",
    "    return slice(start,end,12)\n",
    "\n",
    "\n",
    "\n",
    "def extract_subset_dict_for_month_and_point(i_month=7,\n",
    "                                            i_year_start=1960,\n",
    "                                            i_year_end=2009,\n",
    "                                            i_level=850,\n",
    "                                            i_point_lat=51.8167,\n",
    "                                            i_point_lon=68.3667,\n",
    "                                            i_nodes_expanded=1, \n",
    "                                            i_Lat=2.5, \n",
    "                                            i_Lon=2.5):\n",
    "    \n",
    "    # construct a dict containing all selection info\n",
    "    \n",
    "    domain_dict = point_to_center_dict( i_point_lat , i_point_lon , i_Lat, i_Lon)\n",
    "    \n",
    "    cLat = domain_dict['cLat']\n",
    "    cLon = domain_dict['cLon']\n",
    "    \n",
    "    lat=slice(cLat + i_nodes_expanded * i_Lat, cLat - i_nodes_expanded * i_Lat)\n",
    "    lon=slice(cLon - i_nodes_expanded * i_Lon, cLon + i_nodes_expanded * i_Lon)\n",
    "        \n",
    "    parameter_dict = {'lat':lat, 'lon':lon}\n",
    "    \n",
    "    \n",
    "    time_dict = dict(time=get_interested_month_slice(i_month,i_year_start, i_year_end))    \n",
    "    parameter_dict.update(time_dict)\n",
    "    \n",
    "    \n",
    "    level_dict = {'level':i_level}\n",
    "    parameter_dict.update(level_dict)\n",
    "    \n",
    "    return parameter_dict"
   ]
  },
  {
   "cell_type": "code",
   "execution_count": 187,
   "metadata": {
    "collapsed": false
   },
   "outputs": [
    {
     "data": {
      "text/plain": [
       "{'lat': slice(55.0, 50.0, None),\n",
       " 'level': 850,\n",
       " 'lon': slice(65.0, 70.0, None),\n",
       " 'time': slice('1960-8', '2009-8', 12)}"
      ]
     },
     "execution_count": 187,
     "metadata": {},
     "output_type": "execute_result"
    }
   ],
   "source": [
    "extract_subset_dict_for_month_and_point(i_month=8)\n"
   ]
  },
  {
   "cell_type": "code",
   "execution_count": 186,
   "metadata": {
    "collapsed": false
   },
   "outputs": [
    {
     "data": {
      "text/plain": [
       "(50, 3, 3)"
      ]
     },
     "execution_count": 186,
     "metadata": {},
     "output_type": "execute_result"
    }
   ],
   "source": [
    "dset[i_var].loc[extract_subset_dict_for_month_and_point()].shape"
   ]
  },
  {
   "cell_type": "code",
   "execution_count": 124,
   "metadata": {
    "collapsed": false
   },
   "outputs": [
    {
     "data": {
      "text/plain": [
       "<xray.DataArray 'air' (lat: 3, lon: 3)>\n",
       "array([[ 11.13850441,  10.85050354,  10.64300461],\n",
       "       [ 12.758004  ,  12.74450455,  12.76650352],\n",
       "       [ 14.21050377,  14.52150459,  14.84300499]])\n",
       "Coordinates:\n",
       "  * lat      (lat) float32 55.0 52.5 50.0\n",
       "    level    float32 850.0\n",
       "  * lon      (lon) float32 65.0 67.5 70.0\n",
       "    time     datetime64[ns] 1960-07-01"
      ]
     },
     "execution_count": 124,
     "metadata": {},
     "output_type": "execute_result"
    }
   ],
   "source": [
    "sum = 0\n",
    "\n",
    "\n",
    "for i in range(0,20):   \n",
    "    sum += dset.loc[parameter_dict].air[dict(time=i)]\n",
    "    \n",
    "sum/20"
   ]
  },
  {
   "cell_type": "code",
   "execution_count": 133,
   "metadata": {
    "collapsed": false
   },
   "outputs": [
    {
     "data": {
      "text/plain": [
       "<matplotlib.contour.QuadContourSet instance at 0x7f4472671998>"
      ]
     },
     "execution_count": 133,
     "metadata": {},
     "output_type": "execute_result"
    },
    {
     "data": {
      "image/png": "[encoded data removed]",
      "text/plain": [
       "<matplotlib.figure.Figure at 0x7f44730d6550>"
      ]
     },
     "metadata": {},
     "output_type": "display_data"
    }
   ],
   "source": [
    "xray.plot.contourf(dset.loc[parameter_dict].air.mean(dim='time'))\n"
   ]
  },
  {
   "cell_type": "code",
   "execution_count": null,
   "metadata": {
    "collapsed": true
   },
   "outputs": [],
   "source": []
  },
  {
   "cell_type": "code",
   "execution_count": null,
   "metadata": {
    "collapsed": true
   },
   "outputs": [],
   "source": []
  },
  {
   "cell_type": "markdown",
   "metadata": {},
   "source": [
    "### Xray can work with scikit-learn"
   ]
  },
  {
   "cell_type": "code",
   "execution_count": 129,
   "metadata": {
    "collapsed": true
   },
   "outputs": [],
   "source": [
    "from sklearn.metrics import mean_squared_error"
   ]
  },
  {
   "cell_type": "code",
   "execution_count": 150,
   "metadata": {
    "collapsed": false
   },
   "outputs": [
    {
     "data": {
      "text/plain": [
       "<xray.DataArray 'air' (lat: 3, lon: 3)>\n",
       "array([[ 10.59000397,  10.3500061 ,  10.06000519],\n",
       "       [ 13.00000763,  12.82000732,  12.56000519],\n",
       "       [ 15.11000061,  15.11000061,  15.11000061]])\n",
       "Coordinates:\n",
       "  * lat      (lat) float32 55.0 52.5 50.0\n",
       "    level    float32 850.0\n",
       "  * lon      (lon) float32 65.0 67.5 70.0\n",
       "    time     datetime64[ns] 1980-07-01\n",
       "Attributes:\n",
       "    long_name: Monthly Mean of Air temperature\n",
       "    units: degC\n",
       "    precision: 2\n",
       "    var_desc: Air Temperature\n",
       "    dataset: CDC Derived NCEP Reanalysis Products\n",
       "    level_desc: Multiple levels\n",
       "    statistic: Mean\n",
       "    parent_stat: Other\n",
       "    valid_range: [-200.  300.]\n",
       "    actual_range: [-108.64998627   43.24000549]"
      ]
     },
     "execution_count": 150,
     "metadata": {},
     "output_type": "execute_result"
    }
   ],
   "source": [
    "dset.loc[parameter_dict].air.loc[dict(time='1980')].squeeze()"
   ]
  },
  {
   "cell_type": "code",
   "execution_count": 151,
   "metadata": {
    "collapsed": false
   },
   "outputs": [
    {
     "data": {
      "text/plain": [
       "<xray.DataArray 'air' (lat: 3, lon: 3)>\n",
       "array([[ 11.30960403,  11.076604  ,  10.91240402],\n",
       "       [ 12.84280411,  12.81880463,  12.83700363],\n",
       "       [ 14.35240372,  14.60420441,  14.88360428]])\n",
       "Coordinates:\n",
       "  * lat      (lat) float32 55.0 52.5 50.0\n",
       "    level    float32 850.0\n",
       "  * lon      (lon) float32 65.0 67.5 70.0"
      ]
     },
     "execution_count": 151,
     "metadata": {},
     "output_type": "execute_result"
    }
   ],
   "source": [
    "dset.loc[parameter_dict].air.mean(dim='time')"
   ]
  },
  {
   "cell_type": "code",
   "execution_count": 152,
   "metadata": {
    "collapsed": false
   },
   "outputs": [],
   "source": [
    "RMSE = mean_squared_error(dset.loc[parameter_dict].air.loc[dict(time='1980')].squeeze(), dset.loc[parameter_dict].air.mean(dim='time')) ** 0.5"
   ]
  },
  {
   "cell_type": "code",
   "execution_count": 153,
   "metadata": {
    "collapsed": false
   },
   "outputs": [
    {
     "data": {
      "text/plain": [
       "0.55325634212830621"
      ]
     },
     "execution_count": 153,
     "metadata": {},
     "output_type": "execute_result"
    }
   ],
   "source": [
    "RMSE"
   ]
  },
  {
   "cell_type": "code",
   "execution_count": null,
   "metadata": {
    "collapsed": true
   },
   "outputs": [],
   "source": []
  },
  {
   "cell_type": "markdown",
   "metadata": {},
   "source": [
    "### principal component analysis"
   ]
  },
  {
   "cell_type": "code",
   "execution_count": 192,
   "metadata": {
    "collapsed": false
   },
   "outputs": [
    {
     "data": {
      "text/plain": [
       "<xray.Dataset>\n",
       "Dimensions:  (lat: 73, level: 17, lon: 144, time: 811)\n",
       "Coordinates:\n",
       "  * level    (level) float32 1000.0 925.0 850.0 700.0 600.0 500.0 400.0 ...\n",
       "  * lat      (lat) float32 90.0 87.5 85.0 82.5 80.0 77.5 75.0 72.5 70.0 67.5 ...\n",
       "  * lon      (lon) float32 0.0 2.5 5.0 7.5 10.0 12.5 15.0 17.5 20.0 22.5 ...\n",
       "  * time     (time) datetime64[ns] 1948-01-01 1948-02-01 1948-03-01 ...\n",
       "Data variables:\n",
       "    air      (time, level, lat, lon) float64 -33.91 -33.91 -33.91 -33.91 ...\n",
       "Attributes:\n",
       "    description:  Data from NCEP initialized reanalysis (4x/day).  These are interpolated to pressure surfaces from model (sigma) surfaces.\n",
       "    platform: Model\n",
       "    Conventions: COARDS\n",
       "    references: http://www.esrl.noaa.gov/psd/data/gridded/data.ncep.reanalysis.derived.html\n",
       "    NCO: 20121012\n",
       "    history: Mon Jul  5 21:45:36 1999: ncrcat air.mon.mean.nc /Datasets/ncep.reanalysis.derived/pressure/air.mon.mean.nc /dm/dmwork/nmc.rean.ingest/combinedMMs/air.mon.mean.nc\n",
       "/home/hoop/crdc/cpreanjuke2farm/cpreanjuke2farm Tue Oct 17 20:07:08 1995 from air.85.nc\n",
       "created 95/02/06 by Hoop (netCDF2.3)\n",
       "Converted to chunked, deflated non-packed NetCDF4 2014/09\n",
       "    title: monthly mean air from the NCEP Reanalysis"
      ]
     },
     "execution_count": 192,
     "metadata": {},
     "output_type": "execute_result"
    }
   ],
   "source": [
    "dset"
   ]
  },
  {
   "cell_type": "code",
   "execution_count": 167,
   "metadata": {
    "collapsed": true
   },
   "outputs": [],
   "source": [
    "from sklearn import preprocessing\n",
    "from sklearn.decomposition import pca"
   ]
  },
  {
   "cell_type": "code",
   "execution_count": 158,
   "metadata": {
    "collapsed": false
   },
   "outputs": [],
   "source": [
    "import pandas as pd"
   ]
  },
  {
   "cell_type": "code",
   "execution_count": 193,
   "metadata": {
    "collapsed": true
   },
   "outputs": [],
   "source": [
    "\n",
    "# i for interested\n",
    "\n",
    "i_month = 11\n",
    "i_year_start = 1960\n",
    "i_year_end = 2009\n",
    "i_level = 850\n",
    "i_point_lat = 51.8167\n",
    "i_point_lon = 68.3667\n",
    "\n",
    "i_var = 'air'\n"
   ]
  },
  {
   "cell_type": "code",
   "execution_count": 194,
   "metadata": {
    "collapsed": false
   },
   "outputs": [],
   "source": [
    "subset_parameters_dict = extract_subset_dict_for_month_and_point(   i_month = i_month,\n",
    "                                                                    i_year_start = i_year_start,\n",
    "                                                                    i_year_end = i_year_end,\n",
    "                                                                    i_level = i_level,\n",
    "                                                                    i_point_lat = i_point_lat,\n",
    "                                                                    i_point_lon = i_point_lon)"
   ]
  },
  {
   "cell_type": "code",
   "execution_count": 198,
   "metadata": {
    "collapsed": false
   },
   "outputs": [
    {
     "data": {
      "text/plain": [
       "<xray.DataArray 'lat' (lat: 3)>\n",
       "array([ 55. ,  52.5,  50. ], dtype=float32)\n",
       "Coordinates:\n",
       "  * lat      (lat) float32 55.0 52.5 50.0\n",
       "    level    float32 850.0\n",
       "Attributes:\n",
       "    units: degrees_north\n",
       "    actual_range: [ 90. -90.]\n",
       "    long_name: Latitude\n",
       "    standard_name: latitude\n",
       "    axis: Y"
      ]
     },
     "execution_count": 198,
     "metadata": {},
     "output_type": "execute_result"
    }
   ],
   "source": [
    "dsub = dset[i_var].loc[subset_parameters_dict]"
   ]
  },
  {
   "cell_type": "code",
   "execution_count": 199,
   "metadata": {
    "collapsed": false
   },
   "outputs": [
    {
     "data": {
      "text/plain": [
       "(50, 3, 3)"
      ]
     },
     "execution_count": 199,
     "metadata": {},
     "output_type": "execute_result"
    }
   ],
   "source": [
    "dsub.shape"
   ]
  },
  {
   "cell_type": "code",
   "execution_count": 206,
   "metadata": {
    "collapsed": false
   },
   "outputs": [],
   "source": [
    "dim_lat = dsub['lat'].values\n",
    "dim_lon = dsub['lon'].values\n",
    "var_values = dsub.values\n",
    "\n",
    "var_values = np.reshape(var_values, (var_values.shape[0], len(dim_lat) * len(dim_lon)), order='F')"
   ]
  },
  {
   "cell_type": "code",
   "execution_count": 207,
   "metadata": {
    "collapsed": false
   },
   "outputs": [
    {
     "data": {
      "text/plain": [
       "(50, 9)"
      ]
     },
     "execution_count": 207,
     "metadata": {},
     "output_type": "execute_result"
    }
   ],
   "source": [
    "var_values.shape"
   ]
  },
  {
   "cell_type": "code",
   "execution_count": 208,
   "metadata": {
    "collapsed": true
   },
   "outputs": [],
   "source": [
    "var_values_scaled = preprocessing.scale(var_values)"
   ]
  },
  {
   "cell_type": "code",
   "execution_count": 212,
   "metadata": {
    "collapsed": false
   },
   "outputs": [
    {
     "data": {
      "text/plain": [
       "array([ 1.,  1.,  1.,  1.,  1.,  1.,  1.,  1.,  1.])"
      ]
     },
     "execution_count": 212,
     "metadata": {},
     "output_type": "execute_result"
    }
   ],
   "source": [
    "var_values_scaled.std(0)"
   ]
  },
  {
   "cell_type": "code",
   "execution_count": 241,
   "metadata": {
    "collapsed": true
   },
   "outputs": [],
   "source": [
    "skpca = pca.PCA()\n",
    "skpca.fit(var_values_scaled)\n",
    "    \n",
    "PCs = skpca.transform(var_values_scaled)"
   ]
  },
  {
   "cell_type": "code",
   "execution_count": 242,
   "metadata": {
    "collapsed": false
   },
   "outputs": [
    {
     "data": {
      "text/plain": [
       "(50, 9)"
      ]
     },
     "execution_count": 242,
     "metadata": {},
     "output_type": "execute_result"
    }
   ],
   "source": [
    "PCs.shape"
   ]
  },
  {
   "cell_type": "code",
   "execution_count": 244,
   "metadata": {
    "collapsed": false
   },
   "outputs": [
    {
     "data": {
      "text/html": [
       "<div>\n",
       "<table border=\"1\" class=\"dataframe\">\n",
       "  <thead>\n",
       "    <tr style=\"text-align: right;\">\n",
       "      <th></th>\n",
       "      <th>EV</th>\n",
       "      <th>LEVEL</th>\n",
       "      <th>PC_VALUE</th>\n",
       "      <th>VAR_NAME</th>\n",
       "    </tr>\n",
       "  </thead>\n",
       "  <tbody>\n",
       "    <tr>\n",
       "      <th>0</th>\n",
       "      <td>0.940543</td>\n",
       "      <td>850</td>\n",
       "      <td>[-2.54894072146, -1.82229086053, -1.9601484465...</td>\n",
       "      <td>air</td>\n",
       "    </tr>\n",
       "  </tbody>\n",
       "</table>\n",
       "</div>"
      ],
      "text/plain": [
       "         EV  LEVEL                                           PC_VALUE VAR_NAME\n",
       "0  0.940543    850  [-2.54894072146, -1.82229086053, -1.9601484465...      air"
      ]
     },
     "execution_count": 244,
     "metadata": {},
     "output_type": "execute_result"
    }
   ],
   "source": [
    "THRESHOLD = 0.9\n",
    "\n",
    "i = 0\n",
    "pc_info_list = []\n",
    "while True:\n",
    "    \n",
    "    explained_variance = skpca.explained_variance_ratio_[i]\n",
    "    pc_value = PCs[:,i]\n",
    "    \n",
    "    row = {'VAR_NAME':i_var, 'LEVEL':i_level, 'EV':explained_variance, 'PC_VALUE':pc_value}\n",
    "    \n",
    "    pc_info_list.append(row)    \n",
    "    if skpca.explained_variance_ratio_.cumsum()[i] >= THRESHOLD:\n",
    "        break\n",
    "    i = i+1\n",
    "pd.DataFrame(pc_info_list)"
   ]
  },
  {
   "cell_type": "code",
   "execution_count": 264,
   "metadata": {
    "collapsed": false
   },
   "outputs": [
    {
     "data": {
      "text/plain": [
       "<xray.DataArray 'time' ()>\n",
       "numpy.datetime64('1960-11-01T00:00:00.000000000Z')\n",
       "Coordinates:\n",
       "    time     datetime64[ns] 1960-11-01\n",
       "    level    float32 850.0\n",
       "Attributes:\n",
       "    long_name: Time\n",
       "    delta_t: 0000-01-00 00:00:00\n",
       "    avg_period: 0000-01-00 00:00:00\n",
       "    prev_avg_period: 0000-00-01 00:00:00\n",
       "    standard_name: time\n",
       "    axis: T\n",
       "    actual_range: [ 1297320.  1888992.]"
      ]
     },
     "execution_count": 264,
     "metadata": {},
     "output_type": "execute_result"
    }
   ],
   "source": [
    "dsub.time[0]"
   ]
  },
  {
   "cell_type": "code",
   "execution_count": 306,
   "metadata": {
    "collapsed": true
   },
   "outputs": [],
   "source": [
    "def get_PCs_info(dsub, threshold=0.9):\n",
    "    dim_lat = dsub['lat'].values\n",
    "    dim_lon = dsub['lon'].values\n",
    "    var_values = dsub.values\n",
    "\n",
    "    var_values = np.reshape(var_values, (var_values.shape[0], len(dim_lat) * len(dim_lon)), order='F')\n",
    "    \n",
    "    var_values_scaled = preprocessing.scale(var_values)\n",
    "    \n",
    "    skpca = pca.PCA()\n",
    "    skpca.fit(var_values_scaled)\n",
    "    PCs = skpca.transform(var_values_scaled)\n",
    "\n",
    "    i = 0\n",
    "    pc_info_list = []\n",
    "    while True:\n",
    "\n",
    "        explained_variance = skpca.explained_variance_ratio_[i]\n",
    "        pc_value = PCs[:,i]\n",
    "\n",
    "        row = {'EV':explained_variance, 'PC_VALUE':pc_value}\n",
    "\n",
    "        pc_info_list.append(row)    \n",
    "        if skpca.explained_variance_ratio_.cumsum()[i] >= threshold:\n",
    "            break\n",
    "        i = i+1\n",
    "    return pd.DataFrame(pc_info_list)"
   ]
  },
  {
   "cell_type": "code",
   "execution_count": 246,
   "metadata": {
    "collapsed": true
   },
   "outputs": [],
   "source": [
    "dsub = dset[i_var].loc[subset_parameters_dict]"
   ]
  },
  {
   "cell_type": "code",
   "execution_count": 252,
   "metadata": {
    "collapsed": false
   },
   "outputs": [
    {
     "data": {
      "text/plain": [
       "<xray.DataArray 'air' (time: 50, lat: 3, lon: 3)>\n",
       "array([[[ -8.26000214,  -8.9799881 ,  -9.80998993],\n",
       "        [ -7.37000275,  -8.04999542,  -8.7299881 ],\n",
       "        [ -6.16999054,  -6.83998871,  -7.38999176]],\n",
       "\n",
       "       [[ -8.4799881 ,  -8.76000214,  -9.01000214],\n",
       "        [ -7.21999359,  -7.62000275,  -7.81999969],\n",
       "        [ -5.40000153,  -5.79000092,  -5.88999176]],\n",
       "\n",
       "       [[ -6.80998993,  -7.91999054,  -9.02999115],\n",
       "        [ -6.76999664,  -7.73999786,  -8.56999969],\n",
       "        [ -5.99999237,  -6.74999237,  -7.3299942 ]],\n",
       "\n",
       "       [[ -6.13999176,  -6.26999664,  -6.34999847],\n",
       "        [ -4.91999054,  -4.9799881 ,  -4.90999603],\n",
       "        [ -3.70999908,  -3.69998932,  -3.48999786]],\n",
       "\n",
       "       [[ -7.29000092,  -7.24999237,  -7.26999664],\n",
       "        [ -5.38999176,  -5.33998871,  -5.23999786],\n",
       "        [ -3.5799942 ,  -3.51000214,  -3.31999969]],\n",
       "\n",
       "       [[ -8.18000031,  -8.41999054,  -8.81999969],\n",
       "        [ -5.70999908,  -5.94998932,  -6.23999786],\n",
       "        [ -3.3299942 ,  -3.4799881 ,  -3.55998993]],\n",
       "\n",
       "       [[ -6.15999603,  -6.99999237,  -7.8299942 ],\n",
       "        [ -5.04999542,  -5.93000031,  -6.77999115],\n",
       "        [ -3.46999359,  -4.35999298,  -5.24999237]],\n",
       "\n",
       "       [[ -0.28999329,  -1.12000275,  -2.04999542],\n",
       "        [ -0.88999176,  -1.71999359,  -2.4799881 ],\n",
       "        [ -0.73999786,  -1.46999359,  -2.06999969]],\n",
       "\n",
       "       [[ -9.71999359, -10.90000153, -12.10999298],\n",
       "        [ -6.63999176,  -7.70999908,  -8.74999237],\n",
       "        [ -4.19998932,  -4.98999786,  -5.73999786]],\n",
       "\n",
       "       [[ -3.12000275,  -3.41999054,  -3.79999542],\n",
       "        [ -2.60999298,  -2.94998932,  -3.29999542],\n",
       "        [ -1.81999969,  -2.04000092,  -2.18999481]],\n",
       "\n",
       "       [[ -9.46999359,  -9.87999725, -10.33998871],\n",
       "        [ -8.52999115,  -9.15999603,  -9.66999054],\n",
       "        [ -7.13999176,  -7.84999847,  -8.29999542]],\n",
       "\n",
       "       [[ -2.73999786,  -2.93000031,  -3.2299881 ],\n",
       "        [ -2.20999908,  -2.2299881 ,  -2.23999786],\n",
       "        [ -1.38999176,  -1.0799942 ,  -0.73999786]],\n",
       "\n",
       "       [[ -6.26999664,  -6.5799942 ,  -6.96999359],\n",
       "        [ -5.10999298,  -5.40999603,  -5.66999054],\n",
       "        [ -3.26000214,  -3.26000214,  -3.23999786]],\n",
       "\n",
       "       [[ -5.95999908,  -5.99999237,  -6.05998993],\n",
       "        [ -4.33998871,  -4.33998871,  -4.26999664],\n",
       "        [ -2.21999359,  -2.02999115,  -1.79000092]],\n",
       "\n",
       "       [[-10.24999237, -11.12999725, -11.87000275],\n",
       "        [ -8.04999542,  -8.93999481,  -9.7299881 ],\n",
       "        [ -5.30998993,  -6.09999847,  -6.87999725]],\n",
       "\n",
       "       [[ -8.71999359,  -9.35999298,  -9.94998932],\n",
       "        [ -7.7299881 ,  -8.40999603,  -9.01999664],\n",
       "        [ -6.88999176,  -7.40000153,  -7.81999969]],\n",
       "\n",
       "       [[ -6.06999969,  -6.49999237,  -7.01000214],\n",
       "        [ -6.12000275,  -6.62999725,  -7.15000153],\n",
       "        [ -5.95999908,  -6.29999542,  -6.56999969]],\n",
       "\n",
       "       [[ -3.09999847,  -3.16999054,  -3.29000092],\n",
       "        [ -2.54000092,  -2.46999359,  -2.44998932],\n",
       "        [ -1.90999603,  -1.60999298,  -1.33998871]],\n",
       "\n",
       "       [[ -8.62999725,  -9.15000153,  -9.66999054],\n",
       "        [ -8.08998871,  -8.54999542,  -8.85999298],\n",
       "        [ -7.29999542,  -7.49999237,  -7.44998932]],\n",
       "\n",
       "       [[ -4.2299881 ,  -4.98999786,  -5.76999664],\n",
       "        [ -3.38999176,  -4.23999786,  -5.01999664],\n",
       "        [ -1.76000214,  -2.37000275,  -2.95999908]],\n",
       "\n",
       "       [[ -6.62999725,  -6.88999176,  -7.2299881 ],\n",
       "        [ -4.94998932,  -5.19998932,  -5.4799881 ],\n",
       "        [ -3.12000275,  -3.20999908,  -3.24999237]],\n",
       "\n",
       "       [[ -3.24999237,  -3.83998871,  -4.51000214],\n",
       "        [ -2.68999481,  -3.40999603,  -4.06999969],\n",
       "        [ -1.96999359,  -2.63999176,  -3.15000153]],\n",
       "\n",
       "       [[ -6.12999725,  -6.49999237,  -6.88999176],\n",
       "        [ -6.02999115,  -6.24999237,  -6.45999908],\n",
       "        [ -5.62999725,  -5.49999237,  -5.40000153]],\n",
       "\n",
       "       [[ -6.9799881 ,  -6.94998932,  -6.90000153],\n",
       "        [ -5.62000275,  -5.48999786,  -5.29000092],\n",
       "        [ -3.4799881 ,  -3.15000153,  -2.76999664]],\n",
       "\n",
       "       [[-10.3299942 , -11.21999359, -12.05998993],\n",
       "        [ -7.68000031,  -8.43000031,  -9.16999054],\n",
       "        [ -5.46999359,  -5.8299942 ,  -6.18999481]],\n",
       "\n",
       "       [[ -6.54999542,  -7.34999847,  -8.18000031],\n",
       "        [ -5.34999847,  -6.20999908,  -7.05998993],\n",
       "        [ -3.98999786,  -4.68000031,  -5.40999603]],\n",
       "\n",
       "       [[ -4.46999359,  -4.99999237,  -5.65999603],\n",
       "        [ -4.49999237,  -5.06999969,  -5.62999725],\n",
       "        [ -4.18999481,  -4.56999969,  -4.85999298]],\n",
       "\n",
       "       [[-11.40000153, -12.29000092, -13.18999481],\n",
       "        [-10.43000031, -11.41999054, -12.40000153],\n",
       "        [ -8.58998871,  -9.40999603, -10.21999359]],\n",
       "\n",
       "       [[ -7.40000153,  -7.05998993,  -6.8299942 ],\n",
       "        [ -5.68999481,  -5.45999908,  -5.2299881 ],\n",
       "        [ -3.08998871,  -2.80998993,  -2.48999786]],\n",
       "\n",
       "       [[ -5.3299942 ,  -5.93999481,  -6.70999908],\n",
       "        [ -4.23999786,  -4.93999481,  -5.68999481],\n",
       "        [ -2.90999603,  -3.44998932,  -3.9799881 ]],\n",
       "\n",
       "       [[ -7.70999908,  -8.02999115,  -8.41999054],\n",
       "        [ -6.69998932,  -7.05998993,  -7.34999847],\n",
       "        [ -4.90000153,  -5.19998932,  -5.37999725]],\n",
       "\n",
       "       [[ -4.15999603,  -4.73999786,  -5.29000092],\n",
       "        [ -2.88999176,  -3.29999542,  -3.62000275],\n",
       "        [ -1.56999969,  -1.65999603,  -1.66999054]],\n",
       "\n",
       "       [[ -5.43999481,  -5.5799942 ,  -5.84999847],\n",
       "        [ -3.18000031,  -3.31999969,  -3.5799942 ],\n",
       "        [ -0.60999298,  -0.5799942 ,  -0.73999786]],\n",
       "\n",
       "       [[-13.0799942 , -13.45999908, -13.96999359],\n",
       "        [-12.65999603, -13.08998871, -13.5799942 ],\n",
       "        [-11.68000031, -11.93999481, -12.12999725]],\n",
       "\n",
       "       [[ -7.93999481,  -7.79999542,  -7.71999359],\n",
       "        [ -6.26000214,  -6.12000275,  -5.96999359],\n",
       "        [ -4.40000153,  -4.05998993,  -3.68999481]],\n",
       "\n",
       "       [[ -3.26000214,  -3.58998871,  -3.94998932],\n",
       "        [ -1.76999664,  -2.20999908,  -2.60999298],\n",
       "        [ -0.25999451,  -0.54000092,  -0.77999115]],\n",
       "\n",
       "       [[ -3.12000275,  -3.5799942 ,  -4.12999725],\n",
       "        [ -2.79000092,  -3.24999237,  -3.77999115],\n",
       "        [ -2.04999542,  -2.51999664,  -3.05998993]],\n",
       "\n",
       "       [[ -8.12000275,  -8.90000153,  -9.68000031],\n",
       "        [ -6.93999481,  -7.93999481,  -8.87999725],\n",
       "        [ -6.05998993,  -6.99999237,  -7.80998993]],\n",
       "\n",
       "       [[-11.94998932, -12.26000214, -12.54000092],\n",
       "        [ -9.76000214, -10.18000031, -10.49999237],\n",
       "        [ -7.18000031,  -7.52999115,  -7.76999664]],\n",
       "\n",
       "       [[ -9.65000153,  -9.43000031,  -9.23999786],\n",
       "        [ -9.3299942 ,  -9.29999542,  -9.15000153],\n",
       "        [ -8.02999115,  -8.04000092,  -7.8299942 ]],\n",
       "\n",
       "       [[ -6.27999115,  -7.02999115,  -7.81999969],\n",
       "        [ -6.26999664,  -7.15999603,  -7.98999786],\n",
       "        [ -5.77999115,  -6.63999176,  -7.38999176]],\n",
       "\n",
       "       [[ -7.23999786,  -7.51000214,  -7.65999603],\n",
       "        [ -5.76000214,  -6.04999542,  -6.13999176],\n",
       "        [ -3.77999115,  -3.91999054,  -3.84999847]],\n",
       "\n",
       "       [[ -6.05998993,  -6.5799942 ,  -7.0799942 ],\n",
       "        [ -4.24999237,  -4.63999176,  -4.99999237],\n",
       "        [ -2.24999237,  -2.37000275,  -2.52999115]],\n",
       "\n",
       "       [[ -8.87000275,  -9.45999908, -10.02999115],\n",
       "        [ -8.15000153,  -8.76000214,  -9.29999542],\n",
       "        [ -6.66999054,  -7.2299881 ,  -7.7299881 ]],\n",
       "\n",
       "       [[ -5.13999176,  -5.09999847,  -5.12999725],\n",
       "        [ -4.15000153,  -4.31999969,  -4.43999481],\n",
       "        [ -2.68999481,  -2.96999359,  -3.09999847]],\n",
       "\n",
       "       [[ -1.76000214,  -2.49999237,  -3.30998993],\n",
       "        [ -1.04999542,  -1.87000275,  -2.70999908],\n",
       "        [ -0.28999329,  -1.0799942 ,  -1.85999298]],\n",
       "\n",
       "       [[ -6.33998871,  -6.5799942 ,  -6.69998932],\n",
       "        [ -5.93000031,  -6.19998932,  -6.20999908],\n",
       "        [ -4.9799881 ,  -5.05998993,  -4.80998993]],\n",
       "\n",
       "       [[ -5.24999237,  -5.19998932,  -5.19998932],\n",
       "        [ -4.69998932,  -4.77999115,  -4.79000092],\n",
       "        [ -3.58998871,  -3.68999481,  -3.56999969]],\n",
       "\n",
       "       [[ -2.76999664,  -3.31999969,  -3.85999298],\n",
       "        [ -1.33998871,  -1.93999481,  -2.44998932],\n",
       "        [ -0.03999329,  -0.54999542,  -0.91999054]],\n",
       "\n",
       "       [[ -5.60999298,  -6.05998993,  -6.44998932],\n",
       "        [ -4.76999664,  -5.18999481,  -5.40999603],\n",
       "        [ -3.27999115,  -3.60999298,  -3.69998932]]])\n",
       "Coordinates:\n",
       "  * lat      (lat) float32 55.0 52.5 50.0\n",
       "  * time     (time) datetime64[ns] 1960-11-01 1961-11-01 1962-11-01 ...\n",
       "  * lon      (lon) float32 65.0 67.5 70.0\n",
       "    level    float32 850.0\n",
       "Attributes:\n",
       "    long_name: Monthly Mean of Air temperature\n",
       "    units: degC\n",
       "    precision: 2\n",
       "    var_desc: Air Temperature\n",
       "    dataset: CDC Derived NCEP Reanalysis Products\n",
       "    level_desc: Multiple levels\n",
       "    statistic: Mean\n",
       "    parent_stat: Other\n",
       "    valid_range: [-200.  300.]\n",
       "    actual_range: [-108.64998627   43.24000549]"
      ]
     },
     "execution_count": 252,
     "metadata": {},
     "output_type": "execute_result"
    }
   ],
   "source": [
    "dsub"
   ]
  },
  {
   "cell_type": "code",
   "execution_count": 249,
   "metadata": {
    "collapsed": false
   },
   "outputs": [
    {
     "name": "stdout",
     "output_type": "stream",
     "text": [
      "Air Temperature\n"
     ]
    }
   ],
   "source": [
    "print dsub.var_desc"
   ]
  },
  {
   "cell_type": "code",
   "execution_count": 257,
   "metadata": {
    "collapsed": false
   },
   "outputs": [
    {
     "data": {
      "text/html": [
       "<div>\n",
       "<table border=\"1\" class=\"dataframe\">\n",
       "  <thead>\n",
       "    <tr style=\"text-align: right;\">\n",
       "      <th></th>\n",
       "      <th>EV</th>\n",
       "      <th>LEVEL</th>\n",
       "      <th>PC_VALUE</th>\n",
       "      <th>VAR_NAME</th>\n",
       "    </tr>\n",
       "  </thead>\n",
       "  <tbody>\n",
       "    <tr>\n",
       "      <th>0</th>\n",
       "      <td>0.940543</td>\n",
       "      <td>850</td>\n",
       "      <td>[-2.54894072146, -1.82229086053, -1.9601484465...</td>\n",
       "      <td>air</td>\n",
       "    </tr>\n",
       "    <tr>\n",
       "      <th>1</th>\n",
       "      <td>0.047580</td>\n",
       "      <td>850</td>\n",
       "      <td>[-0.301738960295, 0.153781085424, -0.767160610...</td>\n",
       "      <td>air</td>\n",
       "    </tr>\n",
       "    <tr>\n",
       "      <th>2</th>\n",
       "      <td>0.010458</td>\n",
       "      <td>850</td>\n",
       "      <td>[-0.20003358422, 0.131881321234, -0.3365029007...</td>\n",
       "      <td>air</td>\n",
       "    </tr>\n",
       "    <tr>\n",
       "      <th>3</th>\n",
       "      <td>0.000879</td>\n",
       "      <td>850</td>\n",
       "      <td>[0.0606965003033, -0.0566384297743, -0.0179074...</td>\n",
       "      <td>air</td>\n",
       "    </tr>\n",
       "  </tbody>\n",
       "</table>\n",
       "</div>"
      ],
      "text/plain": [
       "         EV  LEVEL                                           PC_VALUE VAR_NAME\n",
       "0  0.940543    850  [-2.54894072146, -1.82229086053, -1.9601484465...      air\n",
       "1  0.047580    850  [-0.301738960295, 0.153781085424, -0.767160610...      air\n",
       "2  0.010458    850  [-0.20003358422, 0.131881321234, -0.3365029007...      air\n",
       "3  0.000879    850  [0.0606965003033, -0.0566384297743, -0.0179074...      air"
      ]
     },
     "execution_count": 257,
     "metadata": {},
     "output_type": "execute_result"
    }
   ],
   "source": [
    "get_PCs_info(dsub, threshold=0.999)"
   ]
  },
  {
   "cell_type": "code",
   "execution_count": null,
   "metadata": {
    "collapsed": true
   },
   "outputs": [],
   "source": []
  },
  {
   "cell_type": "code",
   "execution_count": 265,
   "metadata": {
    "collapsed": true
   },
   "outputs": [],
   "source": [
    "# i for interested\n",
    "\n",
    "i_point_lat = 51.8167\n",
    "i_point_lon = 68.3667\n",
    "\n",
    "i_year_start = 1960\n",
    "i_year_end = 2009\n",
    "i_month = 10\n",
    "\n",
    "i_var = 'air'\n",
    "\n",
    "i_level = 850\n",
    "\n",
    "\n"
   ]
  },
  {
   "cell_type": "code",
   "execution_count": 266,
   "metadata": {
    "collapsed": true
   },
   "outputs": [],
   "source": [
    "subset_parameters_dict = extract_subset_dict_for_month_and_point(   i_month = i_month,\n",
    "                                                                    i_year_start = i_year_start,\n",
    "                                                                    i_year_end = i_year_end,\n",
    "                                                                    i_level = i_level,\n",
    "                                                                    i_point_lat = i_point_lat,\n",
    "                                                                    i_point_lon = i_point_lon)"
   ]
  },
  {
   "cell_type": "code",
   "execution_count": 267,
   "metadata": {
    "collapsed": true
   },
   "outputs": [],
   "source": [
    "dsub = dset[i_var].loc[subset_parameters_dict]"
   ]
  },
  {
   "cell_type": "code",
   "execution_count": 268,
   "metadata": {
    "collapsed": false
   },
   "outputs": [
    {
     "data": {
      "text/html": [
       "<div>\n",
       "<table border=\"1\" class=\"dataframe\">\n",
       "  <thead>\n",
       "    <tr style=\"text-align: right;\">\n",
       "      <th></th>\n",
       "      <th>EV</th>\n",
       "      <th>LEVEL</th>\n",
       "      <th>PC_VALUE</th>\n",
       "      <th>VAR_NAME</th>\n",
       "    </tr>\n",
       "  </thead>\n",
       "  <tbody>\n",
       "    <tr>\n",
       "      <th>0</th>\n",
       "      <td>0.975090</td>\n",
       "      <td>850</td>\n",
       "      <td>[-2.40772910514, -4.04392243433, -1.9799161685...</td>\n",
       "      <td>air</td>\n",
       "    </tr>\n",
       "    <tr>\n",
       "      <th>1</th>\n",
       "      <td>0.017911</td>\n",
       "      <td>850</td>\n",
       "      <td>[0.427398545526, -0.154905449243, 0.2344729881...</td>\n",
       "      <td>air</td>\n",
       "    </tr>\n",
       "    <tr>\n",
       "      <th>2</th>\n",
       "      <td>0.005237</td>\n",
       "      <td>850</td>\n",
       "      <td>[0.327101550233, 0.7197010957, -0.026034377483...</td>\n",
       "      <td>air</td>\n",
       "    </tr>\n",
       "    <tr>\n",
       "      <th>3</th>\n",
       "      <td>0.001057</td>\n",
       "      <td>850</td>\n",
       "      <td>[0.0944292173635, 0.0723032386315, 0.007023776...</td>\n",
       "      <td>air</td>\n",
       "    </tr>\n",
       "  </tbody>\n",
       "</table>\n",
       "</div>"
      ],
      "text/plain": [
       "         EV  LEVEL                                           PC_VALUE VAR_NAME\n",
       "0  0.975090    850  [-2.40772910514, -4.04392243433, -1.9799161685...      air\n",
       "1  0.017911    850  [0.427398545526, -0.154905449243, 0.2344729881...      air\n",
       "2  0.005237    850  [0.327101550233, 0.7197010957, -0.026034377483...      air\n",
       "3  0.001057    850  [0.0944292173635, 0.0723032386315, 0.007023776...      air"
      ]
     },
     "execution_count": 268,
     "metadata": {},
     "output_type": "execute_result"
    }
   ],
   "source": [
    "get_PCs_info(dsub, threshold=0.999)"
   ]
  },
  {
   "cell_type": "code",
   "execution_count": 269,
   "metadata": {
    "collapsed": true
   },
   "outputs": [],
   "source": [
    "pc_table = get_PCs_info(dsub, threshold=0.999)"
   ]
  },
  {
   "cell_type": "code",
   "execution_count": 273,
   "metadata": {
    "collapsed": false
   },
   "outputs": [],
   "source": [
    "pc_table['MONTH']=i_month"
   ]
  },
  {
   "cell_type": "code",
   "execution_count": 274,
   "metadata": {
    "collapsed": false
   },
   "outputs": [
    {
     "data": {
      "text/html": [
       "<div>\n",
       "<table border=\"1\" class=\"dataframe\">\n",
       "  <thead>\n",
       "    <tr style=\"text-align: right;\">\n",
       "      <th></th>\n",
       "      <th>EV</th>\n",
       "      <th>LEVEL</th>\n",
       "      <th>PC_VALUE</th>\n",
       "      <th>VAR_NAME</th>\n",
       "      <th>MONTH</th>\n",
       "    </tr>\n",
       "  </thead>\n",
       "  <tbody>\n",
       "    <tr>\n",
       "      <th>0</th>\n",
       "      <td>0.975090</td>\n",
       "      <td>850</td>\n",
       "      <td>[-2.40772910514, -4.04392243433, -1.9799161685...</td>\n",
       "      <td>air</td>\n",
       "      <td>10</td>\n",
       "    </tr>\n",
       "    <tr>\n",
       "      <th>1</th>\n",
       "      <td>0.017911</td>\n",
       "      <td>850</td>\n",
       "      <td>[0.427398545526, -0.154905449243, 0.2344729881...</td>\n",
       "      <td>air</td>\n",
       "      <td>10</td>\n",
       "    </tr>\n",
       "    <tr>\n",
       "      <th>2</th>\n",
       "      <td>0.005237</td>\n",
       "      <td>850</td>\n",
       "      <td>[0.327101550233, 0.7197010957, -0.026034377483...</td>\n",
       "      <td>air</td>\n",
       "      <td>10</td>\n",
       "    </tr>\n",
       "    <tr>\n",
       "      <th>3</th>\n",
       "      <td>0.001057</td>\n",
       "      <td>850</td>\n",
       "      <td>[0.0944292173635, 0.0723032386315, 0.007023776...</td>\n",
       "      <td>air</td>\n",
       "      <td>10</td>\n",
       "    </tr>\n",
       "  </tbody>\n",
       "</table>\n",
       "</div>"
      ],
      "text/plain": [
       "         EV  LEVEL                                           PC_VALUE  \\\n",
       "0  0.975090    850  [-2.40772910514, -4.04392243433, -1.9799161685...   \n",
       "1  0.017911    850  [0.427398545526, -0.154905449243, 0.2344729881...   \n",
       "2  0.005237    850  [0.327101550233, 0.7197010957, -0.026034377483...   \n",
       "3  0.001057    850  [0.0944292173635, 0.0723032386315, 0.007023776...   \n",
       "\n",
       "  VAR_NAME  MONTH  \n",
       "0      air     10  \n",
       "1      air     10  \n",
       "2      air     10  \n",
       "3      air     10  "
      ]
     },
     "execution_count": 274,
     "metadata": {},
     "output_type": "execute_result"
    }
   ],
   "source": [
    "pc_table"
   ]
  },
  {
   "cell_type": "code",
   "execution_count": null,
   "metadata": {
    "collapsed": true
   },
   "outputs": [],
   "source": []
  },
  {
   "cell_type": "code",
   "execution_count": null,
   "metadata": {
    "collapsed": true
   },
   "outputs": [],
   "source": [
    "    # i for interested\n",
    "    i_point_lat = 51.8167\n",
    "    i_point_lon = 68.3667\n",
    "\n",
    "    i_year_start = 1960\n",
    "    i_year_end = 2009\n",
    "    i_month = 10\n",
    "\n",
    "    i_var = 'air'\n",
    "\n",
    "    i_level = 850"
   ]
  },
  {
   "cell_type": "code",
   "execution_count": 310,
   "metadata": {
    "collapsed": true
   },
   "outputs": [],
   "source": [
    "def get_PC_main(dset, i_point_lat, i_point_lon, i_year_start, i_year_end, i_month, i_var, i_level):\n",
    "    \n",
    "    # i for interested\n",
    "    i_point_lat = i_point_lat\n",
    "    i_point_lon = i_point_lon\n",
    "\n",
    "    i_year_start = i_year_start\n",
    "    i_year_end = i_year_end\n",
    "    i_month = i_month\n",
    "\n",
    "    i_var = i_var\n",
    "\n",
    "    i_level = i_level\n",
    "    \n",
    "    \n",
    "    \n",
    "    # select a sub area for both time and spatial dimensions\n",
    "    subset_parameters_dict = extract_subset_dict_for_month_and_point(   i_month = i_month,\n",
    "                                                                    i_year_start = i_year_start,\n",
    "                                                                    i_year_end = i_year_end,\n",
    "                                                                    i_level = i_level,\n",
    "                                                                    i_point_lat = i_point_lat,\n",
    "                                                                    i_point_lon = i_point_lon)\n",
    "    \n",
    "    dsub = dset[i_var].loc[subset_parameters_dict]\n",
    "    \n",
    "    \n",
    "    # extract the first several PCs \n",
    "    \n",
    "    pc_table = get_PCs_info(dsub, threshold=0.9)\n",
    "    \n",
    "    pc_table['MONTH'] = i_month\n",
    "    pc_table['VAR_NAME'] = i_var\n",
    "    pc_table['LEVEL'] = i_level\n",
    "    \n",
    "    return pc_table"
   ]
  },
  {
   "cell_type": "code",
   "execution_count": 290,
   "metadata": {
    "collapsed": true
   },
   "outputs": [],
   "source": [
    "levels = [1000.0, 925.0, 850.0, 700.0, 500.0]"
   ]
  },
  {
   "cell_type": "code",
   "execution_count": 292,
   "metadata": {
    "collapsed": false
   },
   "outputs": [],
   "source": [
    "months = range(1,13)"
   ]
  },
  {
   "cell_type": "code",
   "execution_count": 289,
   "metadata": {
    "collapsed": false,
    "scrolled": true
   },
   "outputs": [
    {
     "data": {
      "text/plain": [
       "<xray.Dataset>\n",
       "Dimensions:  (lat: 73, level: 17, lon: 144, time: 811)\n",
       "Coordinates:\n",
       "  * level    (level) float32 1000.0 925.0 850.0 700.0 600.0 500.0 400.0 ...\n",
       "  * lat      (lat) float32 90.0 87.5 85.0 82.5 80.0 77.5 75.0 72.5 70.0 67.5 ...\n",
       "  * lon      (lon) float32 0.0 2.5 5.0 7.5 10.0 12.5 15.0 17.5 20.0 22.5 ...\n",
       "  * time     (time) datetime64[ns] 1948-01-01 1948-02-01 1948-03-01 ...\n",
       "Data variables:\n",
       "    air      (time, level, lat, lon) float64 -33.91 -33.91 -33.91 -33.91 ...\n",
       "Attributes:\n",
       "    description:  Data from NCEP initialized reanalysis (4x/day).  These are interpolated to pressure surfaces from model (sigma) surfaces.\n",
       "    platform: Model\n",
       "    Conventions: COARDS\n",
       "    references: http://www.esrl.noaa.gov/psd/data/gridded/data.ncep.reanalysis.derived.html\n",
       "    NCO: 20121012\n",
       "    history: Mon Jul  5 21:45:36 1999: ncrcat air.mon.mean.nc /Datasets/ncep.reanalysis.derived/pressure/air.mon.mean.nc /dm/dmwork/nmc.rean.ingest/combinedMMs/air.mon.mean.nc\n",
       "/home/hoop/crdc/cpreanjuke2farm/cpreanjuke2farm Tue Oct 17 20:07:08 1995 from air.85.nc\n",
       "created 95/02/06 by Hoop (netCDF2.3)\n",
       "Converted to chunked, deflated non-packed NetCDF4 2014/09\n",
       "    title: monthly mean air from the NCEP Reanalysis"
      ]
     },
     "execution_count": 289,
     "metadata": {},
     "output_type": "execute_result"
    }
   ],
   "source": [
    "dset"
   ]
  },
  {
   "cell_type": "code",
   "execution_count": 311,
   "metadata": {
    "collapsed": false
   },
   "outputs": [],
   "source": [
    "table_list = []\n",
    "\n",
    "for month in months:    \n",
    "    for level in levels:\n",
    "        table_list.append(get_PC_main(dset, i_point_lat, i_point_lon, i_year_start, i_year_end, month, i_var, level))\n",
    "        \n",
    "result_table = pd.concat(table_list, ignore_index=True)"
   ]
  },
  {
   "cell_type": "code",
   "execution_count": 312,
   "metadata": {
    "collapsed": false,
    "scrolled": true
   },
   "outputs": [
    {
     "data": {
      "text/html": [
       "<div>\n",
       "<table border=\"1\" class=\"dataframe\">\n",
       "  <thead>\n",
       "    <tr style=\"text-align: right;\">\n",
       "      <th></th>\n",
       "      <th>EV</th>\n",
       "      <th>PC_VALUE</th>\n",
       "      <th>MONTH</th>\n",
       "      <th>VAR_NAME</th>\n",
       "      <th>LEVEL</th>\n",
       "    </tr>\n",
       "  </thead>\n",
       "  <tbody>\n",
       "    <tr>\n",
       "      <th>0</th>\n",
       "      <td>0.957742</td>\n",
       "      <td>[0.231015867255, 1.21511850575, 1.35460359533,...</td>\n",
       "      <td>1</td>\n",
       "      <td>air</td>\n",
       "      <td>1000</td>\n",
       "    </tr>\n",
       "    <tr>\n",
       "      <th>1</th>\n",
       "      <td>0.953897</td>\n",
       "      <td>[0.415180042469, 1.96115017241, 1.40648850966,...</td>\n",
       "      <td>1</td>\n",
       "      <td>air</td>\n",
       "      <td>925</td>\n",
       "    </tr>\n",
       "    <tr>\n",
       "      <th>2</th>\n",
       "      <td>0.960076</td>\n",
       "      <td>[-0.889063818399, -1.53264808566, -1.719180777...</td>\n",
       "      <td>1</td>\n",
       "      <td>air</td>\n",
       "      <td>850</td>\n",
       "    </tr>\n",
       "    <tr>\n",
       "      <th>3</th>\n",
       "      <td>0.968946</td>\n",
       "      <td>[-1.89199175203, -1.8798044378, -1.63575838162...</td>\n",
       "      <td>1</td>\n",
       "      <td>air</td>\n",
       "      <td>700</td>\n",
       "    </tr>\n",
       "    <tr>\n",
       "      <th>4</th>\n",
       "      <td>0.969659</td>\n",
       "      <td>[-3.83319171588, -2.11251843693, -2.1773815829...</td>\n",
       "      <td>1</td>\n",
       "      <td>air</td>\n",
       "      <td>500</td>\n",
       "    </tr>\n",
       "    <tr>\n",
       "      <th>5</th>\n",
       "      <td>0.944514</td>\n",
       "      <td>[-1.23488603304, -1.0132805205, -1.30757008545...</td>\n",
       "      <td>2</td>\n",
       "      <td>air</td>\n",
       "      <td>1000</td>\n",
       "    </tr>\n",
       "    <tr>\n",
       "      <th>6</th>\n",
       "      <td>0.946518</td>\n",
       "      <td>[0.162266087912, 1.10908311138, 3.38054641805,...</td>\n",
       "      <td>2</td>\n",
       "      <td>air</td>\n",
       "      <td>925</td>\n",
       "    </tr>\n",
       "    <tr>\n",
       "      <th>7</th>\n",
       "      <td>0.951673</td>\n",
       "      <td>[0.873249184952, 0.16569936929, 4.02716943975,...</td>\n",
       "      <td>2</td>\n",
       "      <td>air</td>\n",
       "      <td>850</td>\n",
       "    </tr>\n",
       "    <tr>\n",
       "      <th>8</th>\n",
       "      <td>0.959489</td>\n",
       "      <td>[-2.00055359328, -0.30161614724, -4.4725123980...</td>\n",
       "      <td>2</td>\n",
       "      <td>air</td>\n",
       "      <td>700</td>\n",
       "    </tr>\n",
       "    <tr>\n",
       "      <th>9</th>\n",
       "      <td>0.962504</td>\n",
       "      <td>[-3.83696287252, -0.410440456747, -4.653205390...</td>\n",
       "      <td>2</td>\n",
       "      <td>air</td>\n",
       "      <td>500</td>\n",
       "    </tr>\n",
       "    <tr>\n",
       "      <th>10</th>\n",
       "      <td>0.960284</td>\n",
       "      <td>[-7.42659212006, 1.24616009109, 2.22541725184,...</td>\n",
       "      <td>3</td>\n",
       "      <td>air</td>\n",
       "      <td>1000</td>\n",
       "    </tr>\n",
       "    <tr>\n",
       "      <th>11</th>\n",
       "      <td>0.950747</td>\n",
       "      <td>[-8.43011736783, 1.51998915858, 2.56961962464,...</td>\n",
       "      <td>3</td>\n",
       "      <td>air</td>\n",
       "      <td>925</td>\n",
       "    </tr>\n",
       "    <tr>\n",
       "      <th>12</th>\n",
       "      <td>0.953168</td>\n",
       "      <td>[-8.42598432948, 2.02786028217, 4.55275102425,...</td>\n",
       "      <td>3</td>\n",
       "      <td>air</td>\n",
       "      <td>850</td>\n",
       "    </tr>\n",
       "    <tr>\n",
       "      <th>13</th>\n",
       "      <td>0.951885</td>\n",
       "      <td>[-8.09653432793, 2.0742161001, 6.45835699204, ...</td>\n",
       "      <td>3</td>\n",
       "      <td>air</td>\n",
       "      <td>700</td>\n",
       "    </tr>\n",
       "    <tr>\n",
       "      <th>14</th>\n",
       "      <td>0.942622</td>\n",
       "      <td>[-6.66704234165, 2.63618378529, 7.88015482569,...</td>\n",
       "      <td>3</td>\n",
       "      <td>air</td>\n",
       "      <td>500</td>\n",
       "    </tr>\n",
       "    <tr>\n",
       "      <th>15</th>\n",
       "      <td>0.933170</td>\n",
       "      <td>[-2.45204701829, -0.313821201247, 0.6935846193...</td>\n",
       "      <td>4</td>\n",
       "      <td>air</td>\n",
       "      <td>1000</td>\n",
       "    </tr>\n",
       "    <tr>\n",
       "      <th>16</th>\n",
       "      <td>0.948924</td>\n",
       "      <td>[-1.42757354782, -0.0172357337411, 0.534584723...</td>\n",
       "      <td>4</td>\n",
       "      <td>air</td>\n",
       "      <td>925</td>\n",
       "    </tr>\n",
       "    <tr>\n",
       "      <th>17</th>\n",
       "      <td>0.958580</td>\n",
       "      <td>[-0.636395985798, -0.438671829903, 0.146896529...</td>\n",
       "      <td>4</td>\n",
       "      <td>air</td>\n",
       "      <td>850</td>\n",
       "    </tr>\n",
       "    <tr>\n",
       "      <th>18</th>\n",
       "      <td>0.954182</td>\n",
       "      <td>[-0.815194213589, 0.482228828943, 0.5870196423...</td>\n",
       "      <td>4</td>\n",
       "      <td>air</td>\n",
       "      <td>700</td>\n",
       "    </tr>\n",
       "    <tr>\n",
       "      <th>19</th>\n",
       "      <td>0.944168</td>\n",
       "      <td>[-1.90452238547, -0.713398705861, 0.3659191093...</td>\n",
       "      <td>4</td>\n",
       "      <td>air</td>\n",
       "      <td>500</td>\n",
       "    </tr>\n",
       "    <tr>\n",
       "      <th>20</th>\n",
       "      <td>0.928601</td>\n",
       "      <td>[-7.63172586915, 1.18171144244, 2.30404272607,...</td>\n",
       "      <td>5</td>\n",
       "      <td>air</td>\n",
       "      <td>1000</td>\n",
       "    </tr>\n",
       "    <tr>\n",
       "      <th>21</th>\n",
       "      <td>0.924977</td>\n",
       "      <td>[-7.5041563537, 1.28419470483, 1.9642358552, -...</td>\n",
       "      <td>5</td>\n",
       "      <td>air</td>\n",
       "      <td>925</td>\n",
       "    </tr>\n",
       "    <tr>\n",
       "      <th>22</th>\n",
       "      <td>0.923347</td>\n",
       "      <td>[-6.6856993344, 3.00481030242, 3.78454745521, ...</td>\n",
       "      <td>5</td>\n",
       "      <td>air</td>\n",
       "      <td>850</td>\n",
       "    </tr>\n",
       "    <tr>\n",
       "      <th>23</th>\n",
       "      <td>0.946015</td>\n",
       "      <td>[-7.88708084357, 3.75314256527, 2.80632789852,...</td>\n",
       "      <td>5</td>\n",
       "      <td>air</td>\n",
       "      <td>700</td>\n",
       "    </tr>\n",
       "    <tr>\n",
       "      <th>24</th>\n",
       "      <td>0.936908</td>\n",
       "      <td>[-8.67214312473, 3.67984371268, 2.15338560275,...</td>\n",
       "      <td>5</td>\n",
       "      <td>air</td>\n",
       "      <td>500</td>\n",
       "    </tr>\n",
       "    <tr>\n",
       "      <th>25</th>\n",
       "      <td>0.918649</td>\n",
       "      <td>[-1.89977021918, -1.97855338048, -2.5858475428...</td>\n",
       "      <td>6</td>\n",
       "      <td>air</td>\n",
       "      <td>1000</td>\n",
       "    </tr>\n",
       "    <tr>\n",
       "      <th>26</th>\n",
       "      <td>0.913230</td>\n",
       "      <td>[-1.80902950895, -2.03815519942, -2.0945068818...</td>\n",
       "      <td>6</td>\n",
       "      <td>air</td>\n",
       "      <td>925</td>\n",
       "    </tr>\n",
       "    <tr>\n",
       "      <th>27</th>\n",
       "      <td>0.907988</td>\n",
       "      <td>[0.0300183421987, 0.544077975446, 0.7249922992...</td>\n",
       "      <td>6</td>\n",
       "      <td>air</td>\n",
       "      <td>850</td>\n",
       "    </tr>\n",
       "    <tr>\n",
       "      <th>28</th>\n",
       "      <td>0.926972</td>\n",
       "      <td>[-0.492995387081, 0.582577980701, 0.9797028357...</td>\n",
       "      <td>6</td>\n",
       "      <td>air</td>\n",
       "      <td>700</td>\n",
       "    </tr>\n",
       "    <tr>\n",
       "      <th>29</th>\n",
       "      <td>0.922648</td>\n",
       "      <td>[-1.57622158233, 0.615875014781, 1.05382049968...</td>\n",
       "      <td>6</td>\n",
       "      <td>air</td>\n",
       "      <td>500</td>\n",
       "    </tr>\n",
       "    <tr>\n",
       "      <th>30</th>\n",
       "      <td>0.919810</td>\n",
       "      <td>[-7.25779749127, -3.70518763854, 1.91664259482...</td>\n",
       "      <td>7</td>\n",
       "      <td>air</td>\n",
       "      <td>1000</td>\n",
       "    </tr>\n",
       "    <tr>\n",
       "      <th>31</th>\n",
       "      <td>0.918367</td>\n",
       "      <td>[-7.39148921508, -3.35145215467, 2.014071947, ...</td>\n",
       "      <td>7</td>\n",
       "      <td>air</td>\n",
       "      <td>925</td>\n",
       "    </tr>\n",
       "    <tr>\n",
       "      <th>32</th>\n",
       "      <td>0.914167</td>\n",
       "      <td>[-6.8328542224, -2.14232020582, 3.08858818369,...</td>\n",
       "      <td>7</td>\n",
       "      <td>air</td>\n",
       "      <td>850</td>\n",
       "    </tr>\n",
       "    <tr>\n",
       "      <th>33</th>\n",
       "      <td>0.922419</td>\n",
       "      <td>[-6.12556208637, -2.46333027891, 4.09933565356...</td>\n",
       "      <td>7</td>\n",
       "      <td>air</td>\n",
       "      <td>700</td>\n",
       "    </tr>\n",
       "    <tr>\n",
       "      <th>34</th>\n",
       "      <td>0.935002</td>\n",
       "      <td>[-4.89856212606, -1.51286382416, 3.81590542031...</td>\n",
       "      <td>7</td>\n",
       "      <td>air</td>\n",
       "      <td>500</td>\n",
       "    </tr>\n",
       "    <tr>\n",
       "      <th>35</th>\n",
       "      <td>0.941248</td>\n",
       "      <td>[-3.39380195082, -1.12272181249, -2.5787802482...</td>\n",
       "      <td>8</td>\n",
       "      <td>air</td>\n",
       "      <td>1000</td>\n",
       "    </tr>\n",
       "    <tr>\n",
       "      <th>36</th>\n",
       "      <td>0.938597</td>\n",
       "      <td>[-3.21116495929, -1.01097689785, -2.2890645524...</td>\n",
       "      <td>8</td>\n",
       "      <td>air</td>\n",
       "      <td>925</td>\n",
       "    </tr>\n",
       "    <tr>\n",
       "      <th>37</th>\n",
       "      <td>0.930760</td>\n",
       "      <td>[-2.08851100308, -1.06027392671, -1.6535388856...</td>\n",
       "      <td>8</td>\n",
       "      <td>air</td>\n",
       "      <td>850</td>\n",
       "    </tr>\n",
       "    <tr>\n",
       "      <th>38</th>\n",
       "      <td>0.909338</td>\n",
       "      <td>[0.148229758232, 1.34048703553, 1.63929857985,...</td>\n",
       "      <td>8</td>\n",
       "      <td>air</td>\n",
       "      <td>700</td>\n",
       "    </tr>\n",
       "    <tr>\n",
       "      <th>39</th>\n",
       "      <td>0.916083</td>\n",
       "      <td>[-1.38623530569, 1.76036660975, 1.15211150938,...</td>\n",
       "      <td>8</td>\n",
       "      <td>air</td>\n",
       "      <td>500</td>\n",
       "    </tr>\n",
       "    <tr>\n",
       "      <th>40</th>\n",
       "      <td>0.927890</td>\n",
       "      <td>[-1.72974810805, -0.693725739647, -1.631830895...</td>\n",
       "      <td>9</td>\n",
       "      <td>air</td>\n",
       "      <td>1000</td>\n",
       "    </tr>\n",
       "    <tr>\n",
       "      <th>41</th>\n",
       "      <td>0.933379</td>\n",
       "      <td>[-1.45134838495, -0.697597554172, -1.447945036...</td>\n",
       "      <td>9</td>\n",
       "      <td>air</td>\n",
       "      <td>925</td>\n",
       "    </tr>\n",
       "    <tr>\n",
       "      <th>42</th>\n",
       "      <td>0.934708</td>\n",
       "      <td>[0.900623578142, 0.255152792203, 0.45049198373...</td>\n",
       "      <td>9</td>\n",
       "      <td>air</td>\n",
       "      <td>850</td>\n",
       "    </tr>\n",
       "    <tr>\n",
       "      <th>43</th>\n",
       "      <td>0.916618</td>\n",
       "      <td>[-1.99094542313, -0.612689163408, -1.177026772...</td>\n",
       "      <td>9</td>\n",
       "      <td>air</td>\n",
       "      <td>700</td>\n",
       "    </tr>\n",
       "    <tr>\n",
       "      <th>44</th>\n",
       "      <td>0.905368</td>\n",
       "      <td>[-1.49349877005, -1.052658494, -1.60100536362,...</td>\n",
       "      <td>9</td>\n",
       "      <td>air</td>\n",
       "      <td>500</td>\n",
       "    </tr>\n",
       "    <tr>\n",
       "      <th>45</th>\n",
       "      <td>0.962256</td>\n",
       "      <td>[-2.99634933917, -3.60401627904, -0.7421707285...</td>\n",
       "      <td>10</td>\n",
       "      <td>air</td>\n",
       "      <td>1000</td>\n",
       "    </tr>\n",
       "    <tr>\n",
       "      <th>46</th>\n",
       "      <td>0.973415</td>\n",
       "      <td>[-3.15808569911, -4.21954180052, -1.6067804322...</td>\n",
       "      <td>10</td>\n",
       "      <td>air</td>\n",
       "      <td>925</td>\n",
       "    </tr>\n",
       "    <tr>\n",
       "      <th>47</th>\n",
       "      <td>0.975090</td>\n",
       "      <td>[-2.40772910514, -4.04392243433, -1.9799161685...</td>\n",
       "      <td>10</td>\n",
       "      <td>air</td>\n",
       "      <td>850</td>\n",
       "    </tr>\n",
       "    <tr>\n",
       "      <th>48</th>\n",
       "      <td>0.966475</td>\n",
       "      <td>[-2.17812876934, -4.44425711532, -1.8801242547...</td>\n",
       "      <td>10</td>\n",
       "      <td>air</td>\n",
       "      <td>700</td>\n",
       "    </tr>\n",
       "    <tr>\n",
       "      <th>49</th>\n",
       "      <td>0.959488</td>\n",
       "      <td>[-0.410007686544, -4.96919506005, -1.632243647...</td>\n",
       "      <td>10</td>\n",
       "      <td>air</td>\n",
       "      <td>500</td>\n",
       "    </tr>\n",
       "    <tr>\n",
       "      <th>50</th>\n",
       "      <td>0.940828</td>\n",
       "      <td>[-4.47461549875, -0.282727183477, -3.258727041...</td>\n",
       "      <td>11</td>\n",
       "      <td>air</td>\n",
       "      <td>1000</td>\n",
       "    </tr>\n",
       "    <tr>\n",
       "      <th>51</th>\n",
       "      <td>0.944141</td>\n",
       "      <td>[-3.8823272775, -1.8510528104, -2.25290785846,...</td>\n",
       "      <td>11</td>\n",
       "      <td>air</td>\n",
       "      <td>925</td>\n",
       "    </tr>\n",
       "    <tr>\n",
       "      <th>52</th>\n",
       "      <td>0.940543</td>\n",
       "      <td>[-2.54894072146, -1.82229086053, -1.9601484465...</td>\n",
       "      <td>11</td>\n",
       "      <td>air</td>\n",
       "      <td>850</td>\n",
       "    </tr>\n",
       "    <tr>\n",
       "      <th>53</th>\n",
       "      <td>0.940396</td>\n",
       "      <td>[-2.18229428353, -1.9758982417, -1.76811680738...</td>\n",
       "      <td>11</td>\n",
       "      <td>air</td>\n",
       "      <td>700</td>\n",
       "    </tr>\n",
       "    <tr>\n",
       "      <th>54</th>\n",
       "      <td>0.922410</td>\n",
       "      <td>[-0.24648602988, -2.19394925309, -1.3201446242...</td>\n",
       "      <td>11</td>\n",
       "      <td>air</td>\n",
       "      <td>500</td>\n",
       "    </tr>\n",
       "    <tr>\n",
       "      <th>55</th>\n",
       "      <td>0.937304</td>\n",
       "      <td>[-0.499937153759, -1.67412023025, 0.6996326335...</td>\n",
       "      <td>12</td>\n",
       "      <td>air</td>\n",
       "      <td>1000</td>\n",
       "    </tr>\n",
       "    <tr>\n",
       "      <th>56</th>\n",
       "      <td>0.953910</td>\n",
       "      <td>[-0.949527662852, 2.66210868629, -1.5646311767...</td>\n",
       "      <td>12</td>\n",
       "      <td>air</td>\n",
       "      <td>925</td>\n",
       "    </tr>\n",
       "    <tr>\n",
       "      <th>57</th>\n",
       "      <td>0.967997</td>\n",
       "      <td>[0.176898952561, -2.69203718885, 1.41252323278...</td>\n",
       "      <td>12</td>\n",
       "      <td>air</td>\n",
       "      <td>850</td>\n",
       "    </tr>\n",
       "    <tr>\n",
       "      <th>58</th>\n",
       "      <td>0.957388</td>\n",
       "      <td>[-1.5928071003, -2.07578320811, 1.13682468111,...</td>\n",
       "      <td>12</td>\n",
       "      <td>air</td>\n",
       "      <td>700</td>\n",
       "    </tr>\n",
       "    <tr>\n",
       "      <th>59</th>\n",
       "      <td>0.943323</td>\n",
       "      <td>[-3.31658900679, -0.785512823581, 0.3435314571...</td>\n",
       "      <td>12</td>\n",
       "      <td>air</td>\n",
       "      <td>500</td>\n",
       "    </tr>\n",
       "  </tbody>\n",
       "</table>\n",
       "</div>"
      ],
      "text/plain": [
       "          EV                                           PC_VALUE  MONTH  \\\n",
       "0   0.957742  [0.231015867255, 1.21511850575, 1.35460359533,...      1   \n",
       "1   0.953897  [0.415180042469, 1.96115017241, 1.40648850966,...      1   \n",
       "2   0.960076  [-0.889063818399, -1.53264808566, -1.719180777...      1   \n",
       "3   0.968946  [-1.89199175203, -1.8798044378, -1.63575838162...      1   \n",
       "4   0.969659  [-3.83319171588, -2.11251843693, -2.1773815829...      1   \n",
       "5   0.944514  [-1.23488603304, -1.0132805205, -1.30757008545...      2   \n",
       "6   0.946518  [0.162266087912, 1.10908311138, 3.38054641805,...      2   \n",
       "7   0.951673  [0.873249184952, 0.16569936929, 4.02716943975,...      2   \n",
       "8   0.959489  [-2.00055359328, -0.30161614724, -4.4725123980...      2   \n",
       "9   0.962504  [-3.83696287252, -0.410440456747, -4.653205390...      2   \n",
       "10  0.960284  [-7.42659212006, 1.24616009109, 2.22541725184,...      3   \n",
       "11  0.950747  [-8.43011736783, 1.51998915858, 2.56961962464,...      3   \n",
       "12  0.953168  [-8.42598432948, 2.02786028217, 4.55275102425,...      3   \n",
       "13  0.951885  [-8.09653432793, 2.0742161001, 6.45835699204, ...      3   \n",
       "14  0.942622  [-6.66704234165, 2.63618378529, 7.88015482569,...      3   \n",
       "15  0.933170  [-2.45204701829, -0.313821201247, 0.6935846193...      4   \n",
       "16  0.948924  [-1.42757354782, -0.0172357337411, 0.534584723...      4   \n",
       "17  0.958580  [-0.636395985798, -0.438671829903, 0.146896529...      4   \n",
       "18  0.954182  [-0.815194213589, 0.482228828943, 0.5870196423...      4   \n",
       "19  0.944168  [-1.90452238547, -0.713398705861, 0.3659191093...      4   \n",
       "20  0.928601  [-7.63172586915, 1.18171144244, 2.30404272607,...      5   \n",
       "21  0.924977  [-7.5041563537, 1.28419470483, 1.9642358552, -...      5   \n",
       "22  0.923347  [-6.6856993344, 3.00481030242, 3.78454745521, ...      5   \n",
       "23  0.946015  [-7.88708084357, 3.75314256527, 2.80632789852,...      5   \n",
       "24  0.936908  [-8.67214312473, 3.67984371268, 2.15338560275,...      5   \n",
       "25  0.918649  [-1.89977021918, -1.97855338048, -2.5858475428...      6   \n",
       "26  0.913230  [-1.80902950895, -2.03815519942, -2.0945068818...      6   \n",
       "27  0.907988  [0.0300183421987, 0.544077975446, 0.7249922992...      6   \n",
       "28  0.926972  [-0.492995387081, 0.582577980701, 0.9797028357...      6   \n",
       "29  0.922648  [-1.57622158233, 0.615875014781, 1.05382049968...      6   \n",
       "30  0.919810  [-7.25779749127, -3.70518763854, 1.91664259482...      7   \n",
       "31  0.918367  [-7.39148921508, -3.35145215467, 2.014071947, ...      7   \n",
       "32  0.914167  [-6.8328542224, -2.14232020582, 3.08858818369,...      7   \n",
       "33  0.922419  [-6.12556208637, -2.46333027891, 4.09933565356...      7   \n",
       "34  0.935002  [-4.89856212606, -1.51286382416, 3.81590542031...      7   \n",
       "35  0.941248  [-3.39380195082, -1.12272181249, -2.5787802482...      8   \n",
       "36  0.938597  [-3.21116495929, -1.01097689785, -2.2890645524...      8   \n",
       "37  0.930760  [-2.08851100308, -1.06027392671, -1.6535388856...      8   \n",
       "38  0.909338  [0.148229758232, 1.34048703553, 1.63929857985,...      8   \n",
       "39  0.916083  [-1.38623530569, 1.76036660975, 1.15211150938,...      8   \n",
       "40  0.927890  [-1.72974810805, -0.693725739647, -1.631830895...      9   \n",
       "41  0.933379  [-1.45134838495, -0.697597554172, -1.447945036...      9   \n",
       "42  0.934708  [0.900623578142, 0.255152792203, 0.45049198373...      9   \n",
       "43  0.916618  [-1.99094542313, -0.612689163408, -1.177026772...      9   \n",
       "44  0.905368  [-1.49349877005, -1.052658494, -1.60100536362,...      9   \n",
       "45  0.962256  [-2.99634933917, -3.60401627904, -0.7421707285...     10   \n",
       "46  0.973415  [-3.15808569911, -4.21954180052, -1.6067804322...     10   \n",
       "47  0.975090  [-2.40772910514, -4.04392243433, -1.9799161685...     10   \n",
       "48  0.966475  [-2.17812876934, -4.44425711532, -1.8801242547...     10   \n",
       "49  0.959488  [-0.410007686544, -4.96919506005, -1.632243647...     10   \n",
       "50  0.940828  [-4.47461549875, -0.282727183477, -3.258727041...     11   \n",
       "51  0.944141  [-3.8823272775, -1.8510528104, -2.25290785846,...     11   \n",
       "52  0.940543  [-2.54894072146, -1.82229086053, -1.9601484465...     11   \n",
       "53  0.940396  [-2.18229428353, -1.9758982417, -1.76811680738...     11   \n",
       "54  0.922410  [-0.24648602988, -2.19394925309, -1.3201446242...     11   \n",
       "55  0.937304  [-0.499937153759, -1.67412023025, 0.6996326335...     12   \n",
       "56  0.953910  [-0.949527662852, 2.66210868629, -1.5646311767...     12   \n",
       "57  0.967997  [0.176898952561, -2.69203718885, 1.41252323278...     12   \n",
       "58  0.957388  [-1.5928071003, -2.07578320811, 1.13682468111,...     12   \n",
       "59  0.943323  [-3.31658900679, -0.785512823581, 0.3435314571...     12   \n",
       "\n",
       "   VAR_NAME  LEVEL  \n",
       "0       air   1000  \n",
       "1       air    925  \n",
       "2       air    850  \n",
       "3       air    700  \n",
       "4       air    500  \n",
       "5       air   1000  \n",
       "6       air    925  \n",
       "7       air    850  \n",
       "8       air    700  \n",
       "9       air    500  \n",
       "10      air   1000  \n",
       "11      air    925  \n",
       "12      air    850  \n",
       "13      air    700  \n",
       "14      air    500  \n",
       "15      air   1000  \n",
       "16      air    925  \n",
       "17      air    850  \n",
       "18      air    700  \n",
       "19      air    500  \n",
       "20      air   1000  \n",
       "21      air    925  \n",
       "22      air    850  \n",
       "23      air    700  \n",
       "24      air    500  \n",
       "25      air   1000  \n",
       "26      air    925  \n",
       "27      air    850  \n",
       "28      air    700  \n",
       "29      air    500  \n",
       "30      air   1000  \n",
       "31      air    925  \n",
       "32      air    850  \n",
       "33      air    700  \n",
       "34      air    500  \n",
       "35      air   1000  \n",
       "36      air    925  \n",
       "37      air    850  \n",
       "38      air    700  \n",
       "39      air    500  \n",
       "40      air   1000  \n",
       "41      air    925  \n",
       "42      air    850  \n",
       "43      air    700  \n",
       "44      air    500  \n",
       "45      air   1000  \n",
       "46      air    925  \n",
       "47      air    850  \n",
       "48      air    700  \n",
       "49      air    500  \n",
       "50      air   1000  \n",
       "51      air    925  \n",
       "52      air    850  \n",
       "53      air    700  \n",
       "54      air    500  \n",
       "55      air   1000  \n",
       "56      air    925  \n",
       "57      air    850  \n",
       "58      air    700  \n",
       "59      air    500  "
      ]
     },
     "execution_count": 312,
     "metadata": {},
     "output_type": "execute_result"
    }
   ],
   "source": [
    "result_table"
   ]
  }
 ],
 "metadata": {
  "kernelspec": {
   "display_name": "Python 2",
   "language": "python",
   "name": "python2"
  },
  "language_info": {
   "codemirror_mode": {
    "name": "ipython",
    "version": 2
   },
   "file_extension": ".py",
   "mimetype": "text/x-python",
   "name": "python",
   "nbconvert_exporter": "python",
   "pygments_lexer": "ipython2",
   "version": "2.7.10"
  }
 },
 "nbformat": 4,
 "nbformat_minor": 0
}
