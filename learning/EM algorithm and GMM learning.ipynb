{
 "cells": [
  {
   "cell_type": "markdown",
   "metadata": {},
   "source": [
    "# Expectation Maximization algorithm\n",
    "\n",
    "Learning it through a case of Gaussian mixture model.\n",
    "\n",
    "ref. to http://blog.csdn.net/chasdmeng/article/details/38709063"
   ]
  },
  {
   "cell_type": "code",
   "execution_count": 1,
   "metadata": {
    "collapsed": true
   },
   "outputs": [],
   "source": [
    "import math  \n",
    "import copy  \n",
    "import numpy as np  \n",
    "import matplotlib.pyplot as plt  "
   ]
  },
  {
   "cell_type": "code",
   "execution_count": 33,
   "metadata": {
    "collapsed": true
   },
   "outputs": [],
   "source": [
    "%matplotlib inline"
   ]
  },
  {
   "cell_type": "code",
   "execution_count": 72,
   "metadata": {
    "collapsed": true
   },
   "outputs": [],
   "source": [
    "Mu1 = 40\n",
    "Mu2 = 20\n",
    "Sigma1 = 16\n",
    "Sigma2 = 3\n",
    "\n",
    "N = 1000"
   ]
  },
  {
   "cell_type": "code",
   "execution_count": 73,
   "metadata": {
    "collapsed": true
   },
   "outputs": [],
   "source": [
    "X = np.zeros((1,N))  \n",
    "\n",
    "for i in xrange(0,N):  \n",
    "    if np.random.random(1) > 0.5:  \n",
    "        X[0,i] = np.random.normal()*Sigma1 + Mu1  \n",
    "    else:  \n",
    "        X[0,i] = np.random.normal()*Sigma2 + Mu2      "
   ]
  },
  {
   "cell_type": "code",
   "execution_count": 78,
   "metadata": {
    "collapsed": false
   },
   "outputs": [
    {
     "data": {
      "image/png": "[encoded data removed]",
      "text/plain": [
       "<matplotlib.figure.Figure at 0x7fd236005b10>"
      ]
     },
     "metadata": {},
     "output_type": "display_data"
    }
   ],
   "source": [
    "ax = plt.hist(X[0,:],50) "
   ]
  },
  {
   "cell_type": "code",
   "execution_count": 75,
   "metadata": {
    "collapsed": true
   },
   "outputs": [],
   "source": [
    "k = 2"
   ]
  },
  {
   "cell_type": "code",
   "execution_count": 76,
   "metadata": {
    "collapsed": false
   },
   "outputs": [],
   "source": [
    "Mu = np.zeros(2)"
   ]
  },
  {
   "cell_type": "code",
   "execution_count": 82,
   "metadata": {
    "collapsed": false
   },
   "outputs": [
    {
     "name": "stdout",
     "output_type": "stream",
     "text": [
      "initial Mu1:31.74\n",
      "initial Mu2:63.47\n"
     ]
    }
   ],
   "source": [
    "for i in range(k):    \n",
    "    Mu[i] = (X.max() - X.min()) * (i+1)/(k+1)\n",
    "    print('initial Mu' + str(i+1) + ':%.2f' % Mu[i])"
   ]
  },
  {
   "cell_type": "code",
   "execution_count": null,
   "metadata": {
    "collapsed": true
   },
   "outputs": [],
   "source": []
  },
  {
   "cell_type": "code",
   "execution_count": null,
   "metadata": {
    "collapsed": true
   },
   "outputs": [],
   "source": []
  },
  {
   "cell_type": "code",
   "execution_count": null,
   "metadata": {
    "collapsed": true
   },
   "outputs": [],
   "source": [
    "Mu = np.random.random(2)  \n",
    "Expectations = np.zeros((N,k))  "
   ]
  },
  {
   "cell_type": "code",
   "execution_count": null,
   "metadata": {
    "collapsed": true
   },
   "outputs": [],
   "source": []
  },
  {
   "cell_type": "code",
   "execution_count": null,
   "metadata": {
    "collapsed": true
   },
   "outputs": [],
   "source": []
  },
  {
   "cell_type": "code",
   "execution_count": 27,
   "metadata": {
    "collapsed": false
   },
   "outputs": [],
   "source": [
    "for i in range(N):\n",
    "    X[0,i] = np.random.normal()*Sigma1+Mu1 + np.random.normal()*Sigma2+Mu2 "
   ]
  },
  {
   "cell_type": "code",
   "execution_count": 34,
   "metadata": {
    "collapsed": false
   },
   "outputs": [
    {
     "data": {
      "text/plain": [
       "(array([  2.,   1.,   0.,   5.,   2.,   7.,  10.,   8.,  15.,  17.,  15.,\n",
       "         25.,  17.,  23.,  26.,  32.,  32.,  40.,  47.,  55.,  50.,  60.,\n",
       "         58.,  53.,  56.,  42.,  43.,  42.,  33.,  35.,  23.,  33.,  19.,\n",
       "         19.,  16.,  15.,   6.,   5.,   3.,   2.,   1.,   2.,   1.,   0.,\n",
       "          0.,   1.,   1.,   1.,   0.,   1.]),\n",
       " array([ 39.99222188,  40.88760697,  41.78299206,  42.67837715,\n",
       "         43.57376224,  44.46914734,  45.36453243,  46.25991752,\n",
       "         47.15530261,  48.0506877 ,  48.94607279,  49.84145788,\n",
       "         50.73684298,  51.63222807,  52.52761316,  53.42299825,\n",
       "         54.31838334,  55.21376843,  56.10915352,  57.00453862,\n",
       "         57.89992371,  58.7953088 ,  59.69069389,  60.58607898,\n",
       "         61.48146407,  62.37684917,  63.27223426,  64.16761935,\n",
       "         65.06300444,  65.95838953,  66.85377462,  67.74915971,\n",
       "         68.64454481,  69.5399299 ,  70.43531499,  71.33070008,\n",
       "         72.22608517,  73.12147026,  74.01685535,  74.91224045,\n",
       "         75.80762554,  76.70301063,  77.59839572,  78.49378081,\n",
       "         79.3891659 ,  80.28455099,  81.17993609,  82.07532118,\n",
       "         82.97070627,  83.86609136,  84.76147645]),\n",
       " <a list of 50 Patch objects>)"
      ]
     },
     "execution_count": 34,
     "metadata": {},
     "output_type": "execute_result"
    },
    {
     "data": {
      "image/png": "[encoded data removed]",
      "text/plain": [
       "<matplotlib.figure.Figure at 0x7fd209e04e50>"
      ]
     },
     "metadata": {},
     "output_type": "display_data"
    }
   ],
   "source": [
    "plt.hist(X[0,:],50) "
   ]
  },
  {
   "cell_type": "code",
   "execution_count": 9,
   "metadata": {
    "collapsed": false
   },
   "outputs": [
    {
     "data": {
      "text/plain": [
       "array([0, 1])"
      ]
     },
     "execution_count": 9,
     "metadata": {},
     "output_type": "execute_result"
    }
   ],
   "source": [
    "np.arange(2)"
   ]
  },
  {
   "cell_type": "code",
   "execution_count": 3,
   "metadata": {
    "collapsed": false
   },
   "outputs": [
    {
     "data": {
      "text/plain": [
       "array([ 0.89594291,  0.73343018])"
      ]
     },
     "execution_count": 3,
     "metadata": {},
     "output_type": "execute_result"
    }
   ],
   "source": [
    "np.random.random(2)"
   ]
  }
 ],
 "metadata": {
  "kernelspec": {
   "display_name": "Python 2",
   "language": "python",
   "name": "python2"
  },
  "language_info": {
   "codemirror_mode": {
    "name": "ipython",
    "version": 2
   },
   "file_extension": ".py",
   "mimetype": "text/x-python",
   "name": "python",
   "nbconvert_exporter": "python",
   "pygments_lexer": "ipython2",
   "version": "2.7.10"
  }
 },
 "nbformat": 4,
 "nbformat_minor": 0
}
