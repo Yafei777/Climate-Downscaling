{
 "cells": [
  {
   "cell_type": "markdown",
   "metadata": {},
   "source": [
    "cdms2 package\n",
    "===\n",
    "+ cdms2 open .nc file\n",
    "+ querying nc file info"
   ]
  },
  {
   "cell_type": "code",
   "execution_count": 1,
   "metadata": {
    "collapsed": false
   },
   "outputs": [],
   "source": [
    "import os\n",
    "\n",
    "\n",
    "nc_path = '/home/ek777/Documents/Downscaling/ncep_monthly_mean/surface'\n",
    "nc_name = 'air.mon.mean.nc'\n",
    "\n",
    "file_name = os.path.join(nc_path, nc_name)"
   ]
  },
  {
   "cell_type": "code",
   "execution_count": 2,
   "metadata": {
    "collapsed": false
   },
   "outputs": [],
   "source": [
    "import cdms2"
   ]
  },
  {
   "cell_type": "code",
   "execution_count": 3,
   "metadata": {
    "collapsed": true
   },
   "outputs": [],
   "source": [
    "f = cdms2.open(file_name)"
   ]
  },
  {
   "cell_type": "code",
   "execution_count": 4,
   "metadata": {
    "collapsed": false
   },
   "outputs": [
    {
     "data": {
      "text/plain": [
       "['description',\n",
       " 'title',\n",
       " 'Conventions',\n",
       " 'platform',\n",
       " 'references',\n",
       " 'NCO',\n",
       " 'history']"
      ]
     },
     "execution_count": 4,
     "metadata": {},
     "output_type": "execute_result"
    }
   ],
   "source": [
    "f.listglobal()"
   ]
  },
  {
   "cell_type": "code",
   "execution_count": 5,
   "metadata": {
    "collapsed": false
   },
   "outputs": [
    {
     "data": {
      "text/plain": [
       "' Data from NCEP initialized reanalysis (4x/day).  These are interpolated to pressure surfaces from model (sigma) surfaces.'"
      ]
     },
     "execution_count": 5,
     "metadata": {},
     "output_type": "execute_result"
    }
   ],
   "source": [
    "f.title\n",
    "f.description"
   ]
  },
  {
   "cell_type": "code",
   "execution_count": 6,
   "metadata": {
    "collapsed": false
   },
   "outputs": [
    {
     "data": {
      "text/plain": [
       "['air']"
      ]
     },
     "execution_count": 6,
     "metadata": {},
     "output_type": "execute_result"
    }
   ],
   "source": [
    "f.listvariables()"
   ]
  },
  {
   "cell_type": "code",
   "execution_count": 7,
   "metadata": {
    "collapsed": false
   },
   "outputs": [
    {
     "data": {
      "text/plain": [
       "['lat', 'level', 'lon', 'time']"
      ]
     },
     "execution_count": 7,
     "metadata": {},
     "output_type": "execute_result"
    }
   ],
   "source": [
    "f.listdimension()"
   ]
  },
  {
   "cell_type": "markdown",
   "metadata": {},
   "source": [
    "####To query a variable without actually loading it in memory first, use a \"File Variable\" by using [] \n",
    "\n",
    "#### When get a variable using [] as shown below, you can .info()"
   ]
  },
  {
   "cell_type": "code",
   "execution_count": 8,
   "metadata": {
    "collapsed": false,
    "scrolled": true
   },
   "outputs": [
    {
     "name": "stdout",
     "output_type": "stream",
     "text": [
      "*** Description of Slab air ***\n",
      "id: air\n",
      "shape: (811, 17, 73, 144)\n",
      "filename: /home/ek777/Documents/Downscaling/ncep_monthly_mean/surface/air.mon.mean.nc\n",
      "missing_value: [ -9.96920997e+36]\n",
      "comments: \n",
      "grid_name: grid_73x144\n",
      "grid_type: None\n",
      "time_statistic: \n",
      "long_name: Monthly Mean of Air temperature\n",
      "units: degC\n",
      "least_significant_digit: [1]\n",
      "var_desc: Air Temperature\n",
      "level_desc: Multiple levels\n",
      "actual_range: [-108.64998627   43.24000549]\n",
      "precision: [2]\n",
      "parent_stat: Other\n",
      "dataset: CDC Derived NCEP Reanalysis Products\n",
      "valid_range: [-200.  300.]\n",
      "statistic: Mean\n",
      "Grid has Python id 0x7fb2631c7cd0.\n",
      "Gridtype: generic\n",
      "Grid shape: (73, 144)\n",
      "Order: yx\n",
      "** Dimension 1 **\n",
      "   id: time\n",
      "   Designated a time axis.\n",
      "   units:  hours since 1800-01-01 00:00:0.0\n",
      "   Length: 811\n",
      "   First:  1297320.0\n",
      "   Last:   1888992.0\n",
      "   Other axis attributes:\n",
      "      avg_period: 0000-01-00 00:00:00\n",
      "      delta_t: 0000-01-00 00:00:00\n",
      "      actual_range: [ 1297320.  1888992.]\n",
      "      long_name: Time\n",
      "      standard_name: time\n",
      "      prev_avg_period: 0000-00-01 00:00:00\n",
      "      axis: T\n",
      "   Python id:  0x7fb2631c7c10\n",
      "** Dimension 2 **\n",
      "   id: level\n",
      "   Designated a level axis.\n",
      "   units:  millibar\n",
      "   Length: 17\n",
      "   First:  1000.0\n",
      "   Last:   10.0\n",
      "   Other axis attributes:\n",
      "      positive: down\n",
      "      actual_range: [ 1000.    10.]\n",
      "      long_name: Level\n",
      "      GRIB_name: hPa\n",
      "      GRIB_id: [100]\n",
      "      axis: Z\n",
      "   Python id:  0x7fb2631c7c90\n",
      "** Dimension 3 **\n",
      "   id: lat\n",
      "   Designated a latitude axis.\n",
      "   units:  degrees_north\n",
      "   Length: 73\n",
      "   First:  90.0\n",
      "   Last:   -90.0\n",
      "   Other axis attributes:\n",
      "      long_name: Latitude\n",
      "      standard_name: latitude\n",
      "      actual_range: [ 90. -90.]\n",
      "      axis: Y\n",
      "   Python id:  0x7fb2631c7bd0\n",
      "** Dimension 4 **\n",
      "   id: lon\n",
      "   Designated a longitude axis.\n",
      "   units:  degrees_east\n",
      "   Length: 144\n",
      "   First:  0.0\n",
      "   Last:   357.5\n",
      "   Other axis attributes:\n",
      "      long_name: Longitude\n",
      "      standard_name: longitude\n",
      "      actual_range: [   0.   357.5]\n",
      "      axis: X\n",
      "   Python id:  0x7fb2631c7c50\n",
      "*** End of description for air ***\n"
     ]
    }
   ],
   "source": [
    "V = f['air']\n",
    "V.info()"
   ]
  },
  {
   "cell_type": "code",
   "execution_count": 9,
   "metadata": {
    "collapsed": false
   },
   "outputs": [
    {
     "data": {
      "text/plain": [
       "['least_significant_digit',\n",
       " 'var_desc',\n",
       " 'level_desc',\n",
       " 'actual_range',\n",
       " 'precision',\n",
       " 'parent_stat',\n",
       " 'dataset',\n",
       " 'long_name',\n",
       " 'valid_range',\n",
       " 'statistic',\n",
       " 'units',\n",
       " 'missing_value']"
      ]
     },
     "execution_count": 9,
     "metadata": {},
     "output_type": "execute_result"
    }
   ],
   "source": [
    "V.listattributes()"
   ]
  },
  {
   "cell_type": "code",
   "execution_count": 10,
   "metadata": {
    "collapsed": false
   },
   "outputs": [
    {
     "data": {
      "text/plain": [
       "['name',\n",
       " 'units',\n",
       " 'length',\n",
       " 'values',\n",
       " 'bounds',\n",
       " 'positive',\n",
       " 'actual_range',\n",
       " 'long_name',\n",
       " 'GRIB_name',\n",
       " 'GRIB_id',\n",
       " 'axis']"
      ]
     },
     "execution_count": 10,
     "metadata": {},
     "output_type": "execute_result"
    }
   ],
   "source": [
    "V.listdimattributes(1)"
   ]
  },
  {
   "cell_type": "markdown",
   "metadata": {},
   "source": [
    "### Query a dimension\n",
    "* To query a dimension you can either get it from the file or from the variable  \n",
    "* Time, Level, Latitude, Longitude can be retrieve directly independently of where they are in the variable, using getTime, getLevel, getLatitude, or getLongitude()"
   ]
  },
  {
   "cell_type": "code",
   "execution_count": 11,
   "metadata": {
    "collapsed": false
   },
   "outputs": [
    {
     "data": {
      "text/plain": [
       "   id: time\n",
       "   Designated a time axis.\n",
       "   units:  hours since 1800-01-01 00:00:0.0\n",
       "   Length: 811\n",
       "   First:  1297320.0\n",
       "   Last:   1888992.0\n",
       "   Other axis attributes:\n",
       "      avg_period: 0000-01-00 00:00:00\n",
       "      delta_t: 0000-01-00 00:00:00\n",
       "      actual_range: [ 1297320.  1888992.]\n",
       "      long_name: Time\n",
       "      standard_name: time\n",
       "      prev_avg_period: 0000-00-01 00:00:00\n",
       "      axis: T\n",
       "   Python id:  0x7fb2631c7c10"
      ]
     },
     "execution_count": 11,
     "metadata": {},
     "output_type": "execute_result"
    }
   ],
   "source": [
    "f['time']"
   ]
  },
  {
   "cell_type": "code",
   "execution_count": 12,
   "metadata": {
    "collapsed": false
   },
   "outputs": [],
   "source": [
    "z = V.getLevel()"
   ]
  },
  {
   "cell_type": "markdown",
   "metadata": {},
   "source": [
    "### Close the file when you don' t neet it to load or write data anymore"
   ]
  },
  {
   "cell_type": "code",
   "execution_count": 13,
   "metadata": {
    "collapsed": false
   },
   "outputs": [],
   "source": [
    "f.close()"
   ]
  },
  {
   "cell_type": "code",
   "execution_count": null,
   "metadata": {
    "collapsed": true
   },
   "outputs": [],
   "source": []
  }
 ],
 "metadata": {
  "kernelspec": {
   "display_name": "Python 2",
   "language": "python",
   "name": "python2"
  },
  "language_info": {
   "codemirror_mode": {
    "name": "ipython",
    "version": 2
   },
   "file_extension": ".py",
   "mimetype": "text/x-python",
   "name": "python",
   "nbconvert_exporter": "python",
   "pygments_lexer": "ipython2",
   "version": "2.7.10"
  }
 },
 "nbformat": 4,
 "nbformat_minor": 0
}
