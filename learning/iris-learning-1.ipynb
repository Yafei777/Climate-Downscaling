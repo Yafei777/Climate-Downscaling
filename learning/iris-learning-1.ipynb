{
 "cells": [
  {
   "cell_type": "code",
   "execution_count": 6,
   "metadata": {
    "collapsed": false
   },
   "outputs": [],
   "source": [
    "%matplotlib inline\n",
    "import matplotlib.pyplot as plt\n"
   ]
  },
  {
   "cell_type": "code",
   "execution_count": 7,
   "metadata": {
    "collapsed": true
   },
   "outputs": [],
   "source": [
    "import os\n",
    "\n",
    "nc_path = '/home/ek777/Documents/Downscaling/ncep_monthly_mean/surface'\n",
    "nc_name = 'air.mon.mean.nc'\n",
    "\n",
    "file_name = os.path.join(nc_path, nc_name)"
   ]
  },
  {
   "cell_type": "code",
   "execution_count": 8,
   "metadata": {
    "collapsed": true
   },
   "outputs": [],
   "source": [
    "import iris\n",
    "import iris.quickplot as qplt"
   ]
  },
  {
   "cell_type": "code",
   "execution_count": 9,
   "metadata": {
    "collapsed": true
   },
   "outputs": [],
   "source": [
    "cubes = iris.load(file_name)"
   ]
  },
  {
   "cell_type": "code",
   "execution_count": 10,
   "metadata": {
    "collapsed": false
   },
   "outputs": [
    {
     "name": "stdout",
     "output_type": "stream",
     "text": [
      "0: Monthly Mean of Air temperature / (degC) (time: 811; Level: 17; latitude: 73; longitude: 144)\n"
     ]
    }
   ],
   "source": [
    "print cubes"
   ]
  },
  {
   "cell_type": "code",
   "execution_count": 11,
   "metadata": {
    "collapsed": false,
    "scrolled": true
   },
   "outputs": [
    {
     "name": "stdout",
     "output_type": "stream",
     "text": [
      "Monthly Mean of Air temperature / (degC) (time: 811; Level: 17; latitude: 73; longitude: 144)\n",
      "     Dimension coordinates:\n",
      "          time                                x           -             -              -\n",
      "          Level                               -           x             -              -\n",
      "          latitude                            -           -             x              -\n",
      "          longitude                           -           -             -              x\n",
      "     Attributes:\n",
      "          Conventions: COARDS\n",
      "          NCO: 20121012\n",
      "          actual_range: [-108.64998627   43.24000549]\n",
      "          dataset: CDC Derived NCEP Reanalysis Products\n",
      "          description:  Data from NCEP initialized reanalysis (4x/day).  These are interpolated...\n",
      "          history: Mon Jul  5 21:45:36 1999: ncrcat air.mon.mean.nc /Datasets/ncep.reanalysis.derived/pressure/air.mon.mean.nc...\n",
      "          least_significant_digit: 1\n",
      "          level_desc: Multiple levels\n",
      "          parent_stat: Other\n",
      "          platform: Model\n",
      "          precision: 2\n",
      "          references: http://www.esrl.noaa.gov/psd/data/gridded/data.ncep.reanalysis.derived...\n",
      "          statistic: Mean\n",
      "          title: monthly mean air from the NCEP Reanalysis\n",
      "          var_desc: Air Temperature\n"
     ]
    }
   ],
   "source": [
    "print cubes[0]"
   ]
  },
  {
   "cell_type": "code",
   "execution_count": null,
   "metadata": {
    "collapsed": true
   },
   "outputs": [],
   "source": []
  }
 ],
 "metadata": {
  "kernelspec": {
   "display_name": "Python 2",
   "language": "python",
   "name": "python2"
  },
  "language_info": {
   "codemirror_mode": {
    "name": "ipython",
    "version": 2
   },
   "file_extension": ".py",
   "mimetype": "text/x-python",
   "name": "python",
   "nbconvert_exporter": "python",
   "pygments_lexer": "ipython2",
   "version": "2.7.10"
  }
 },
 "nbformat": 4,
 "nbformat_minor": 0
}
