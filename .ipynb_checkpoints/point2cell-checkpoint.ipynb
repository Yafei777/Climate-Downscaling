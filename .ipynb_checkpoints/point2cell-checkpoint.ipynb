{
 "cells": [
  {
   "cell_type": "markdown",
   "metadata": {},
   "source": [
    "# transform lat/long of a set of points into  lat/long of grids on a .nc file"
   ]
  },
  {
   "cell_type": "code",
   "execution_count": 1,
   "metadata": {
    "collapsed": true
   },
   "outputs": [],
   "source": [
    "%matplotlib inline\n",
    "import os\n",
    "from datetime import datetime\n",
    "import numpy as np\n",
    "import pandas as pd\n",
    "from matplotlib import pyplot as plt\n",
    "from mpl_toolkits.basemap import Basemap as bma\n",
    "import xray"
   ]
  },
  {
   "cell_type": "code",
   "execution_count": 2,
   "metadata": {
    "collapsed": true
   },
   "outputs": [],
   "source": [
    "nc_path = '/home/ek777/Documents/Downscaling/ncep_monthly_mean/surface'\n",
    "nc_name = 'air.mon.mean.nc'\n",
    "dset = xray.open_dataset(os.path.join(nc_path, nc_name))"
   ]
  },
  {
   "cell_type": "code",
   "execution_count": 3,
   "metadata": {
    "collapsed": false
   },
   "outputs": [
    {
     "data": {
      "text/plain": [
       "<xray.Dataset>\n",
       "Dimensions:  (lat: 73, level: 17, lon: 144, time: 811)\n",
       "Coordinates:\n",
       "  * level    (level) float32 1000.0 925.0 850.0 700.0 600.0 500.0 400.0 ...\n",
       "  * lat      (lat) float32 90.0 87.5 85.0 82.5 80.0 77.5 75.0 72.5 70.0 67.5 ...\n",
       "  * lon      (lon) float32 0.0 2.5 5.0 7.5 10.0 12.5 15.0 17.5 20.0 22.5 ...\n",
       "  * time     (time) datetime64[ns] 1948-01-01 1948-02-01 1948-03-01 ...\n",
       "Data variables:\n",
       "    air      (time, level, lat, lon) float64 -33.91 -33.91 -33.91 -33.91 ...\n",
       "Attributes:\n",
       "    description:  Data from NCEP initialized reanalysis (4x/day).  These are interpolated to pressure surfaces from model (sigma) surfaces.\n",
       "    platform: Model\n",
       "    Conventions: COARDS\n",
       "    references: http://www.esrl.noaa.gov/psd/data/gridded/data.ncep.reanalysis.derived.html\n",
       "    NCO: 20121012\n",
       "    history: Mon Jul  5 21:45:36 1999: ncrcat air.mon.mean.nc /Datasets/ncep.reanalysis.derived/pressure/air.mon.mean.nc /dm/dmwork/nmc.rean.ingest/combinedMMs/air.mon.mean.nc\n",
       "/home/hoop/crdc/cpreanjuke2farm/cpreanjuke2farm Tue Oct 17 20:07:08 1995 from air.85.nc\n",
       "created 95/02/06 by Hoop (netCDF2.3)\n",
       "Converted to chunked, deflated non-packed NetCDF4 2014/09\n",
       "    title: monthly mean air from the NCEP Reanalysis"
      ]
     },
     "execution_count": 3,
     "metadata": {},
     "output_type": "execute_result"
    }
   ],
   "source": [
    "dset"
   ]
  },
  {
   "cell_type": "code",
   "execution_count": 51,
   "metadata": {
    "collapsed": false
   },
   "outputs": [
    {
     "data": {
      "text/plain": [
       "array([[ 26.66000366,  21.82000732],\n",
       "       [ 27.24000549,  23.02000427]])"
      ]
     },
     "execution_count": 51,
     "metadata": {},
     "output_type": "execute_result"
    }
   ],
   "source": [
    "dset.sel(time='1990-06-1', level=1000, lat=np.array([37.5,40]), lon=[115,120])['air'].data"
   ]
  },
  {
   "cell_type": "code",
   "execution_count": 11,
   "metadata": {
    "collapsed": false
   },
   "outputs": [
    {
     "data": {
      "text/plain": [
       "array(26.660003662109375)"
      ]
     },
     "execution_count": 11,
     "metadata": {},
     "output_type": "execute_result"
    }
   ],
   "source": [
    "dsub.data"
   ]
  },
  {
   "cell_type": "code",
   "execution_count": 30,
   "metadata": {
    "collapsed": false
   },
   "outputs": [],
   "source": [
    "def p2c(pLat = 37, pLon = 116,iLat = 2.5,iLon = 2.5):\n",
    "    \n",
    "    pLat = np.array(pLat)\n",
    "    pLon = np.array(pLon)\n",
    "    \n",
    "    cLat = ((pLat + iLat / 2) / iLat).astype(int) * iLat\n",
    "    cLon = ((pLon + iLon / 2) / iLon).astype(int) * iLon\n",
    "\n",
    "    return (cLat,cLon)\n",
    "\n",
    "\n"
   ]
  },
  {
   "cell_type": "code",
   "execution_count": 20,
   "metadata": {
    "collapsed": false
   },
   "outputs": [
    {
     "name": "stdout",
     "output_type": "stream",
     "text": [
      "(37.5, 115.0)\n"
     ]
    },
    {
     "data": {
      "text/plain": [
       "array(26.850006103515625)"
      ]
     },
     "execution_count": 20,
     "metadata": {},
     "output_type": "execute_result"
    }
   ],
   "source": [
    "clat, clon = p2c(37.001,115.9)\n",
    "print (clat, clon)\n",
    "dset.sel(time='1990-06-1', level=1000, lat=clat, lon=clat)['air'].data"
   ]
  },
  {
   "cell_type": "code",
   "execution_count": 31,
   "metadata": {
    "collapsed": false
   },
   "outputs": [
    {
     "name": "stdout",
     "output_type": "stream",
     "text": [
      "(array([ 37.5,  37.5]), array([ 115.,  115.]))\n"
     ]
    }
   ],
   "source": [
    "x=np.array([37,37.1])\n",
    "y=np.array([115.9,116])\n",
    "clat, clon = p2c(x,y)\n",
    "print [clat, clon]"
   ]
  },
  {
   "cell_type": "code",
   "execution_count": 32,
   "metadata": {
    "collapsed": false
   },
   "outputs": [
    {
     "name": "stdout",
     "output_type": "stream",
     "text": [
      "(37.5, 115.0)\n"
     ]
    }
   ],
   "source": [
    "x=37\n",
    "y=115.9\n",
    "clat, clon = p2c(x,y)\n",
    "print (clat, clon)"
   ]
  },
  {
   "cell_type": "code",
   "execution_count": 47,
   "metadata": {
    "collapsed": false
   },
   "outputs": [
    {
     "data": {
      "text/plain": [
       "<matplotlib.collections.PathCollection at 0x7efd08186150>"
      ]
     },
     "execution_count": 47,
     "metadata": {},
     "output_type": "execute_result"
    },
    {
     "data": {
      "image/png": "[encoded data removed]",
      "text/plain": [
       "<matplotlib.figure.Figure at 0x7efd08186b10>"
      ]
     },
     "metadata": {},
     "output_type": "display_data"
    }
   ],
   "source": [
    "xs = np.arange(33,40,0.83)\n",
    "ys = np.arange(114,121,0.83)\n",
    "zx,zy = p2c(xs,ys)\n",
    "zxs,zys = np.meshgrid(zx,zy)\n",
    "xss,yss = np.meshgrid(xs,ys)\n",
    "#zs = p2c(xs,ys)\n",
    "plt.scatter(xss,yss)\n",
    "plt.scatter(zxs,zys,color='red')"
   ]
  }
 ],
 "metadata": {
  "kernelspec": {
   "display_name": "Python 2",
   "language": "python",
   "name": "python2"
  },
  "language_info": {
   "codemirror_mode": {
    "name": "ipython",
    "version": 2
   },
   "file_extension": ".py",
   "mimetype": "text/x-python",
   "name": "python",
   "nbconvert_exporter": "python",
   "pygments_lexer": "ipython2",
   "version": "2.7.10"
  }
 },
 "nbformat": 4,
 "nbformat_minor": 0
}
