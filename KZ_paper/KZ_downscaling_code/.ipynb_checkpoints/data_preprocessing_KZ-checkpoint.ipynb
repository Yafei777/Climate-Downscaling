{
 "cells": [
  {
   "cell_type": "markdown",
   "metadata": {},
   "source": [
    "# Data preprocessing of GHCN in KZ"
   ]
  },
  {
   "cell_type": "code",
   "execution_count": 1,
   "metadata": {
    "collapsed": true
   },
   "outputs": [],
   "source": [
    "import numpy as np\n",
    "from pandas import Series, DataFrame\n",
    "import pandas as pd"
   ]
  },
  {
   "cell_type": "markdown",
   "metadata": {},
   "source": [
    "#### make the display of table more comfortable\n",
    "\n",
    "You don't need .head() to avoid too long table display.\n",
    "\n",
    "In this way, the maxmum of rows displayed will be just 6."
   ]
  },
  {
   "cell_type": "code",
   "execution_count": 2,
   "metadata": {
    "collapsed": false
   },
   "outputs": [],
   "source": [
    "pd.set_option('display.max_rows',6)"
   ]
  },
  {
   "cell_type": "code",
   "execution_count": 3,
   "metadata": {
    "collapsed": false,
    "scrolled": true
   },
   "outputs": [],
   "source": [
    "kz_ghcn_raw = pd.read_csv('KZ_1980_2000_GHCN.csv')"
   ]
  },
  {
   "cell_type": "markdown",
   "metadata": {},
   "source": [
    "Convert DATE column into Datetime type, so that the DATE column can be used as time series index."
   ]
  },
  {
   "cell_type": "code",
   "execution_count": 4,
   "metadata": {
    "collapsed": true
   },
   "outputs": [],
   "source": [
    "kz_ghcn_raw['DATE'] = pd.to_datetime(kz_ghcn_raw['DATE'].astype(str))"
   ]
  },
  {
   "cell_type": "code",
   "execution_count": 5,
   "metadata": {
    "collapsed": false,
    "scrolled": true
   },
   "outputs": [
    {
     "data": {
      "text/html": [
       "<div>\n",
       "<table border=\"1\" class=\"dataframe\">\n",
       "  <thead>\n",
       "    <tr style=\"text-align: right;\">\n",
       "      <th></th>\n",
       "      <th>STATION</th>\n",
       "      <th>STATION_NAME</th>\n",
       "      <th>ELEVATION</th>\n",
       "      <th>LATITUDE</th>\n",
       "      <th>LONGITUDE</th>\n",
       "      <th>DATE</th>\n",
       "      <th>EMXP</th>\n",
       "      <th>Missing</th>\n",
       "      <th>Consecutive Missing</th>\n",
       "      <th>MXSD</th>\n",
       "      <th>...</th>\n",
       "      <th>Consecutive Missing.4</th>\n",
       "      <th>MMXT</th>\n",
       "      <th>Missing.5</th>\n",
       "      <th>Consecutive Missing.5</th>\n",
       "      <th>MMNT</th>\n",
       "      <th>Missing.6</th>\n",
       "      <th>Consecutive Missing.6</th>\n",
       "      <th>MNTM</th>\n",
       "      <th>Missing.7</th>\n",
       "      <th>Consecutive Missing.7</th>\n",
       "    </tr>\n",
       "  </thead>\n",
       "  <tbody>\n",
       "    <tr>\n",
       "      <th>0</th>\n",
       "      <td>GHCND:KZ000036639</td>\n",
       "      <td>URDZHAR KZ</td>\n",
       "      <td>491</td>\n",
       "      <td>47.117</td>\n",
       "      <td>81.617</td>\n",
       "      <td>1953-03-01</td>\n",
       "      <td>-9999</td>\n",
       "      <td>0</td>\n",
       "      <td>0</td>\n",
       "      <td>-9999</td>\n",
       "      <td>...</td>\n",
       "      <td>5</td>\n",
       "      <td>39</td>\n",
       "      <td>5</td>\n",
       "      <td>5</td>\n",
       "      <td>0</td>\n",
       "      <td>5</td>\n",
       "      <td>5</td>\n",
       "      <td>20</td>\n",
       "      <td>5</td>\n",
       "      <td>5</td>\n",
       "    </tr>\n",
       "    <tr>\n",
       "      <th>1</th>\n",
       "      <td>GHCND:KZ000036639</td>\n",
       "      <td>URDZHAR KZ</td>\n",
       "      <td>491</td>\n",
       "      <td>47.117</td>\n",
       "      <td>81.617</td>\n",
       "      <td>1953-05-01</td>\n",
       "      <td>-9999</td>\n",
       "      <td>0</td>\n",
       "      <td>0</td>\n",
       "      <td>-9999</td>\n",
       "      <td>...</td>\n",
       "      <td>30</td>\n",
       "      <td>339</td>\n",
       "      <td>29</td>\n",
       "      <td>29</td>\n",
       "      <td>139</td>\n",
       "      <td>30</td>\n",
       "      <td>30</td>\n",
       "      <td>-9999</td>\n",
       "      <td>0</td>\n",
       "      <td>0</td>\n",
       "    </tr>\n",
       "    <tr>\n",
       "      <th>2</th>\n",
       "      <td>GHCND:KZ000036639</td>\n",
       "      <td>URDZHAR KZ</td>\n",
       "      <td>491</td>\n",
       "      <td>47.117</td>\n",
       "      <td>81.617</td>\n",
       "      <td>1953-06-01</td>\n",
       "      <td>20</td>\n",
       "      <td>0</td>\n",
       "      <td>0</td>\n",
       "      <td>-9999</td>\n",
       "      <td>...</td>\n",
       "      <td>5</td>\n",
       "      <td>277</td>\n",
       "      <td>26</td>\n",
       "      <td>17</td>\n",
       "      <td>128</td>\n",
       "      <td>9</td>\n",
       "      <td>5</td>\n",
       "      <td>200</td>\n",
       "      <td>10</td>\n",
       "      <td>6</td>\n",
       "    </tr>\n",
       "    <tr>\n",
       "      <th>...</th>\n",
       "      <td>...</td>\n",
       "      <td>...</td>\n",
       "      <td>...</td>\n",
       "      <td>...</td>\n",
       "      <td>...</td>\n",
       "      <td>...</td>\n",
       "      <td>...</td>\n",
       "      <td>...</td>\n",
       "      <td>...</td>\n",
       "      <td>...</td>\n",
       "      <td>...</td>\n",
       "      <td>...</td>\n",
       "      <td>...</td>\n",
       "      <td>...</td>\n",
       "      <td>...</td>\n",
       "      <td>...</td>\n",
       "      <td>...</td>\n",
       "      <td>...</td>\n",
       "      <td>...</td>\n",
       "      <td>...</td>\n",
       "      <td>...</td>\n",
       "    </tr>\n",
       "    <tr>\n",
       "      <th>42398</th>\n",
       "      <td>GHCND:KZ000028978</td>\n",
       "      <td>BALKASINO KZ</td>\n",
       "      <td>399</td>\n",
       "      <td>52.533</td>\n",
       "      <td>68.750</td>\n",
       "      <td>2015-07-01</td>\n",
       "      <td>-9999</td>\n",
       "      <td>0</td>\n",
       "      <td>0</td>\n",
       "      <td>-9999</td>\n",
       "      <td>...</td>\n",
       "      <td>4</td>\n",
       "      <td>245</td>\n",
       "      <td>1</td>\n",
       "      <td>1</td>\n",
       "      <td>99</td>\n",
       "      <td>12</td>\n",
       "      <td>4</td>\n",
       "      <td>180</td>\n",
       "      <td>12</td>\n",
       "      <td>4</td>\n",
       "    </tr>\n",
       "    <tr>\n",
       "      <th>42399</th>\n",
       "      <td>GHCND:KZ000028978</td>\n",
       "      <td>BALKASINO KZ</td>\n",
       "      <td>399</td>\n",
       "      <td>52.533</td>\n",
       "      <td>68.750</td>\n",
       "      <td>2015-08-01</td>\n",
       "      <td>-9999</td>\n",
       "      <td>0</td>\n",
       "      <td>0</td>\n",
       "      <td>-9999</td>\n",
       "      <td>...</td>\n",
       "      <td>2</td>\n",
       "      <td>220</td>\n",
       "      <td>0</td>\n",
       "      <td>0</td>\n",
       "      <td>64</td>\n",
       "      <td>10</td>\n",
       "      <td>2</td>\n",
       "      <td>138</td>\n",
       "      <td>10</td>\n",
       "      <td>2</td>\n",
       "    </tr>\n",
       "    <tr>\n",
       "      <th>42400</th>\n",
       "      <td>GHCND:KZ000028978</td>\n",
       "      <td>BALKASINO KZ</td>\n",
       "      <td>399</td>\n",
       "      <td>52.533</td>\n",
       "      <td>68.750</td>\n",
       "      <td>2015-09-01</td>\n",
       "      <td>-9999</td>\n",
       "      <td>0</td>\n",
       "      <td>0</td>\n",
       "      <td>-9999</td>\n",
       "      <td>...</td>\n",
       "      <td>2</td>\n",
       "      <td>171</td>\n",
       "      <td>0</td>\n",
       "      <td>0</td>\n",
       "      <td>22</td>\n",
       "      <td>8</td>\n",
       "      <td>2</td>\n",
       "      <td>103</td>\n",
       "      <td>8</td>\n",
       "      <td>2</td>\n",
       "    </tr>\n",
       "  </tbody>\n",
       "</table>\n",
       "<p>42401 rows × 30 columns</p>\n",
       "</div>"
      ],
      "text/plain": [
       "                 STATION  STATION_NAME  ELEVATION  LATITUDE  LONGITUDE  \\\n",
       "0      GHCND:KZ000036639    URDZHAR KZ        491    47.117     81.617   \n",
       "1      GHCND:KZ000036639    URDZHAR KZ        491    47.117     81.617   \n",
       "2      GHCND:KZ000036639    URDZHAR KZ        491    47.117     81.617   \n",
       "...                  ...           ...        ...       ...        ...   \n",
       "42398  GHCND:KZ000028978  BALKASINO KZ        399    52.533     68.750   \n",
       "42399  GHCND:KZ000028978  BALKASINO KZ        399    52.533     68.750   \n",
       "42400  GHCND:KZ000028978  BALKASINO KZ        399    52.533     68.750   \n",
       "\n",
       "            DATE  EMXP  Missing  Consecutive Missing  MXSD  \\\n",
       "0     1953-03-01 -9999        0                    0 -9999   \n",
       "1     1953-05-01 -9999        0                    0 -9999   \n",
       "2     1953-06-01    20        0                    0 -9999   \n",
       "...          ...   ...      ...                  ...   ...   \n",
       "42398 2015-07-01 -9999        0                    0 -9999   \n",
       "42399 2015-08-01 -9999        0                    0 -9999   \n",
       "42400 2015-09-01 -9999        0                    0 -9999   \n",
       "\n",
       "               ...            Consecutive Missing.4  MMXT  Missing.5  \\\n",
       "0              ...                                5    39          5   \n",
       "1              ...                               30   339         29   \n",
       "2              ...                                5   277         26   \n",
       "...            ...                              ...   ...        ...   \n",
       "42398          ...                                4   245          1   \n",
       "42399          ...                                2   220          0   \n",
       "42400          ...                                2   171          0   \n",
       "\n",
       "       Consecutive Missing.5  MMNT  Missing.6  Consecutive Missing.6  MNTM  \\\n",
       "0                          5     0          5                      5    20   \n",
       "1                         29   139         30                     30 -9999   \n",
       "2                         17   128          9                      5   200   \n",
       "...                      ...   ...        ...                    ...   ...   \n",
       "42398                      1    99         12                      4   180   \n",
       "42399                      0    64         10                      2   138   \n",
       "42400                      0    22          8                      2   103   \n",
       "\n",
       "       Missing.7  Consecutive Missing.7  \n",
       "0              5                      5  \n",
       "1              0                      0  \n",
       "2             10                      6  \n",
       "...          ...                    ...  \n",
       "42398         12                      4  \n",
       "42399         10                      2  \n",
       "42400          8                      2  \n",
       "\n",
       "[42401 rows x 30 columns]"
      ]
     },
     "execution_count": 5,
     "metadata": {},
     "output_type": "execute_result"
    }
   ],
   "source": [
    "kz_ghcn_raw"
   ]
  },
  {
   "cell_type": "code",
   "execution_count": 6,
   "metadata": {
    "collapsed": false
   },
   "outputs": [],
   "source": [
    "kz_ghcn_temp_1980_1999 = kz_ghcn_raw.set_index('DATE').ix['1980':'1999',['STATION_NAME','MNTM','Missing.7','Consecutive Missing.7']]"
   ]
  },
  {
   "cell_type": "markdown",
   "metadata": {},
   "source": [
    "### Quality Control.\n",
    "\n",
    "Here, values when Missing period longer than 15 days will also be set as NaN."
   ]
  },
  {
   "cell_type": "code",
   "execution_count": 7,
   "metadata": {
    "collapsed": false
   },
   "outputs": [],
   "source": [
    "kz_ghcn_temp_1980_1999.loc[kz_ghcn_temp_1980_1999['MNTM']==-9999,'MNTM'] = np.nan"
   ]
  },
  {
   "cell_type": "code",
   "execution_count": 8,
   "metadata": {
    "collapsed": true
   },
   "outputs": [],
   "source": [
    "kz_ghcn_temp_1980_1999.loc[kz_ghcn_temp_1980_1999['Missing.7']>15,'MNTM'] = np.nan"
   ]
  },
  {
   "cell_type": "markdown",
   "metadata": {},
   "source": [
    "### Reshape the table with row index as DATE and column index as STATION_NAME"
   ]
  },
  {
   "cell_type": "code",
   "execution_count": 9,
   "metadata": {
    "collapsed": false
   },
   "outputs": [],
   "source": [
    "kz_ghcn_temp_1980_1999 = kz_ghcn_temp_1980_1999.reset_index()"
   ]
  },
  {
   "cell_type": "code",
   "execution_count": 10,
   "metadata": {
    "collapsed": false
   },
   "outputs": [],
   "source": [
    "kz_time_station_temp = kz_ghcn_temp_1980_1999.set_index(['DATE','STATION_NAME']).ix[:,'MNTM'].unstack('STATION_NAME')"
   ]
  },
  {
   "cell_type": "code",
   "execution_count": 11,
   "metadata": {
    "collapsed": false,
    "scrolled": true
   },
   "outputs": [
    {
     "data": {
      "text/html": [
       "<div>\n",
       "<table border=\"1\" class=\"dataframe\">\n",
       "  <thead>\n",
       "    <tr style=\"text-align: right;\">\n",
       "      <th>STATION_NAME</th>\n",
       "      <th>ACHISAJ KZ</th>\n",
       "      <th>AKKOL KZ</th>\n",
       "      <th>AKKUDUK KZ</th>\n",
       "      <th>AKTOBE KZ</th>\n",
       "      <th>ALMATY KZ</th>\n",
       "      <th>ARALSKOE MORE KZ</th>\n",
       "      <th>ASTANA KZ</th>\n",
       "      <th>ATBASAR KZ</th>\n",
       "      <th>ATYRAU KZ</th>\n",
       "      <th>AUL TURARA RYSKULOV KZ</th>\n",
       "      <th>...</th>\n",
       "      <th>URALSK KZ</th>\n",
       "      <th>URDZHAR KZ</th>\n",
       "      <th>URICKY KZ</th>\n",
       "      <th>ZHALPAKTAL KZ</th>\n",
       "      <th>ZHALTYR KZ</th>\n",
       "      <th>ZHANGIZTOBE KZ</th>\n",
       "      <th>ZHARKENT KZ</th>\n",
       "      <th>ZHARYK KZ</th>\n",
       "      <th>ZHEZKAZGAN KZ</th>\n",
       "      <th>ZLIKHA KZ</th>\n",
       "    </tr>\n",
       "    <tr>\n",
       "      <th>DATE</th>\n",
       "      <th></th>\n",
       "      <th></th>\n",
       "      <th></th>\n",
       "      <th></th>\n",
       "      <th></th>\n",
       "      <th></th>\n",
       "      <th></th>\n",
       "      <th></th>\n",
       "      <th></th>\n",
       "      <th></th>\n",
       "      <th></th>\n",
       "      <th></th>\n",
       "      <th></th>\n",
       "      <th></th>\n",
       "      <th></th>\n",
       "      <th></th>\n",
       "      <th></th>\n",
       "      <th></th>\n",
       "      <th></th>\n",
       "      <th></th>\n",
       "      <th></th>\n",
       "    </tr>\n",
       "  </thead>\n",
       "  <tbody>\n",
       "    <tr>\n",
       "      <th>1980-01-01</th>\n",
       "      <td>NaN</td>\n",
       "      <td>-208</td>\n",
       "      <td>NaN</td>\n",
       "      <td>-173</td>\n",
       "      <td>-57</td>\n",
       "      <td>-160</td>\n",
       "      <td>-178</td>\n",
       "      <td>-207</td>\n",
       "      <td>-131</td>\n",
       "      <td>-2</td>\n",
       "      <td>...</td>\n",
       "      <td>-151</td>\n",
       "      <td>-155</td>\n",
       "      <td>-201</td>\n",
       "      <td>-173</td>\n",
       "      <td>-206</td>\n",
       "      <td>NaN</td>\n",
       "      <td>-70</td>\n",
       "      <td>NaN</td>\n",
       "      <td>-199</td>\n",
       "      <td>-122</td>\n",
       "    </tr>\n",
       "    <tr>\n",
       "      <th>1980-02-01</th>\n",
       "      <td>NaN</td>\n",
       "      <td>-179</td>\n",
       "      <td>-57</td>\n",
       "      <td>-179</td>\n",
       "      <td>-56</td>\n",
       "      <td>-162</td>\n",
       "      <td>-166</td>\n",
       "      <td>-192</td>\n",
       "      <td>-99</td>\n",
       "      <td>-25</td>\n",
       "      <td>...</td>\n",
       "      <td>-151</td>\n",
       "      <td>-79</td>\n",
       "      <td>-192</td>\n",
       "      <td>-156</td>\n",
       "      <td>-186</td>\n",
       "      <td>NaN</td>\n",
       "      <td>-46</td>\n",
       "      <td>-129</td>\n",
       "      <td>-178</td>\n",
       "      <td>-134</td>\n",
       "    </tr>\n",
       "    <tr>\n",
       "      <th>1980-03-01</th>\n",
       "      <td>NaN</td>\n",
       "      <td>-136</td>\n",
       "      <td>13</td>\n",
       "      <td>-102</td>\n",
       "      <td>5</td>\n",
       "      <td>-83</td>\n",
       "      <td>-115</td>\n",
       "      <td>-132</td>\n",
       "      <td>-29</td>\n",
       "      <td>NaN</td>\n",
       "      <td>...</td>\n",
       "      <td>-93</td>\n",
       "      <td>NaN</td>\n",
       "      <td>-135</td>\n",
       "      <td>-100</td>\n",
       "      <td>-131</td>\n",
       "      <td>NaN</td>\n",
       "      <td>32</td>\n",
       "      <td>-89</td>\n",
       "      <td>-101</td>\n",
       "      <td>-33</td>\n",
       "    </tr>\n",
       "    <tr>\n",
       "      <th>...</th>\n",
       "      <td>...</td>\n",
       "      <td>...</td>\n",
       "      <td>...</td>\n",
       "      <td>...</td>\n",
       "      <td>...</td>\n",
       "      <td>...</td>\n",
       "      <td>...</td>\n",
       "      <td>...</td>\n",
       "      <td>...</td>\n",
       "      <td>...</td>\n",
       "      <td>...</td>\n",
       "      <td>...</td>\n",
       "      <td>...</td>\n",
       "      <td>...</td>\n",
       "      <td>...</td>\n",
       "      <td>...</td>\n",
       "      <td>...</td>\n",
       "      <td>...</td>\n",
       "      <td>...</td>\n",
       "      <td>...</td>\n",
       "      <td>...</td>\n",
       "    </tr>\n",
       "    <tr>\n",
       "      <th>1999-10-01</th>\n",
       "      <td>NaN</td>\n",
       "      <td>87</td>\n",
       "      <td>154</td>\n",
       "      <td>87</td>\n",
       "      <td>126</td>\n",
       "      <td>122</td>\n",
       "      <td>80</td>\n",
       "      <td>75</td>\n",
       "      <td>122</td>\n",
       "      <td>NaN</td>\n",
       "      <td>...</td>\n",
       "      <td>88</td>\n",
       "      <td>95</td>\n",
       "      <td>82</td>\n",
       "      <td>NaN</td>\n",
       "      <td>88</td>\n",
       "      <td>NaN</td>\n",
       "      <td>134</td>\n",
       "      <td>85</td>\n",
       "      <td>100</td>\n",
       "      <td>128</td>\n",
       "    </tr>\n",
       "    <tr>\n",
       "      <th>1999-11-01</th>\n",
       "      <td>NaN</td>\n",
       "      <td>-120</td>\n",
       "      <td>45</td>\n",
       "      <td>-66</td>\n",
       "      <td>31</td>\n",
       "      <td>-33</td>\n",
       "      <td>-81</td>\n",
       "      <td>-89</td>\n",
       "      <td>-23</td>\n",
       "      <td>NaN</td>\n",
       "      <td>...</td>\n",
       "      <td>-68</td>\n",
       "      <td>-12</td>\n",
       "      <td>-91</td>\n",
       "      <td>NaN</td>\n",
       "      <td>-138</td>\n",
       "      <td>NaN</td>\n",
       "      <td>40</td>\n",
       "      <td>NaN</td>\n",
       "      <td>-74</td>\n",
       "      <td>-4</td>\n",
       "    </tr>\n",
       "    <tr>\n",
       "      <th>1999-12-01</th>\n",
       "      <td>NaN</td>\n",
       "      <td>-87</td>\n",
       "      <td>26</td>\n",
       "      <td>-51</td>\n",
       "      <td>4</td>\n",
       "      <td>-38</td>\n",
       "      <td>-98</td>\n",
       "      <td>-101</td>\n",
       "      <td>-3</td>\n",
       "      <td>NaN</td>\n",
       "      <td>...</td>\n",
       "      <td>-38</td>\n",
       "      <td>-85</td>\n",
       "      <td>-83</td>\n",
       "      <td>NaN</td>\n",
       "      <td>-111</td>\n",
       "      <td>-95</td>\n",
       "      <td>4</td>\n",
       "      <td>NaN</td>\n",
       "      <td>-86</td>\n",
       "      <td>-37</td>\n",
       "    </tr>\n",
       "  </tbody>\n",
       "</table>\n",
       "<p>240 rows × 55 columns</p>\n",
       "</div>"
      ],
      "text/plain": [
       "STATION_NAME  ACHISAJ KZ  AKKOL KZ  AKKUDUK KZ  AKTOBE KZ  ALMATY KZ  \\\n",
       "DATE                                                                   \n",
       "1980-01-01           NaN      -208         NaN       -173        -57   \n",
       "1980-02-01           NaN      -179         -57       -179        -56   \n",
       "1980-03-01           NaN      -136          13       -102          5   \n",
       "...                  ...       ...         ...        ...        ...   \n",
       "1999-10-01           NaN        87         154         87        126   \n",
       "1999-11-01           NaN      -120          45        -66         31   \n",
       "1999-12-01           NaN       -87          26        -51          4   \n",
       "\n",
       "STATION_NAME  ARALSKOE MORE KZ  ASTANA KZ  ATBASAR KZ  ATYRAU KZ  \\\n",
       "DATE                                                               \n",
       "1980-01-01                -160       -178        -207       -131   \n",
       "1980-02-01                -162       -166        -192        -99   \n",
       "1980-03-01                 -83       -115        -132        -29   \n",
       "...                        ...        ...         ...        ...   \n",
       "1999-10-01                 122         80          75        122   \n",
       "1999-11-01                 -33        -81         -89        -23   \n",
       "1999-12-01                 -38        -98        -101         -3   \n",
       "\n",
       "STATION_NAME  AUL TURARA RYSKULOV KZ    ...      URALSK KZ  URDZHAR KZ  \\\n",
       "DATE                                    ...                              \n",
       "1980-01-01                        -2    ...           -151        -155   \n",
       "1980-02-01                       -25    ...           -151         -79   \n",
       "1980-03-01                       NaN    ...            -93         NaN   \n",
       "...                              ...    ...            ...         ...   \n",
       "1999-10-01                       NaN    ...             88          95   \n",
       "1999-11-01                       NaN    ...            -68         -12   \n",
       "1999-12-01                       NaN    ...            -38         -85   \n",
       "\n",
       "STATION_NAME  URICKY KZ  ZHALPAKTAL KZ  ZHALTYR KZ  ZHANGIZTOBE KZ  \\\n",
       "DATE                                                                 \n",
       "1980-01-01         -201           -173        -206             NaN   \n",
       "1980-02-01         -192           -156        -186             NaN   \n",
       "1980-03-01         -135           -100        -131             NaN   \n",
       "...                 ...            ...         ...             ...   \n",
       "1999-10-01           82            NaN          88             NaN   \n",
       "1999-11-01          -91            NaN        -138             NaN   \n",
       "1999-12-01          -83            NaN        -111             -95   \n",
       "\n",
       "STATION_NAME  ZHARKENT KZ  ZHARYK KZ  ZHEZKAZGAN KZ  ZLIKHA KZ  \n",
       "DATE                                                            \n",
       "1980-01-01            -70        NaN           -199       -122  \n",
       "1980-02-01            -46       -129           -178       -134  \n",
       "1980-03-01             32        -89           -101        -33  \n",
       "...                   ...        ...            ...        ...  \n",
       "1999-10-01            134         85            100        128  \n",
       "1999-11-01             40        NaN            -74         -4  \n",
       "1999-12-01              4        NaN            -86        -37  \n",
       "\n",
       "[240 rows x 55 columns]"
      ]
     },
     "execution_count": 11,
     "metadata": {},
     "output_type": "execute_result"
    }
   ],
   "source": [
    "kz_time_station_temp"
   ]
  },
  {
   "cell_type": "markdown",
   "metadata": {},
   "source": [
    "### Rank stations by missing months"
   ]
  },
  {
   "cell_type": "code",
   "execution_count": 12,
   "metadata": {
    "collapsed": false
   },
   "outputs": [],
   "source": [
    "kz_missing_rank = pd.isnull(kz_time_station_temp).sum(axis=0).sort_values() "
   ]
  },
  {
   "cell_type": "code",
   "execution_count": 13,
   "metadata": {
    "collapsed": false,
    "scrolled": true
   },
   "outputs": [
    {
     "data": {
      "text/plain": [
       "STATION_NAME\n",
       "UIL KZ                      0\n",
       "KAZALINSK KZ                0\n",
       "KOKPEKTY KZ                 0\n",
       "                         ... \n",
       "AUL TURARA RYSKULOV KZ    231\n",
       "MIKHAILOVKA KZ            240\n",
       "ACHISAJ KZ                240\n",
       "dtype: int64"
      ]
     },
     "execution_count": 13,
     "metadata": {},
     "output_type": "execute_result"
    }
   ],
   "source": [
    "kz_missing_rank"
   ]
  },
  {
   "cell_type": "markdown",
   "metadata": {},
   "source": [
    "Here I just select station **without** missing values.\n",
    "\n",
    "Missing_day_threshold value can be set as you wish."
   ]
  },
  {
   "cell_type": "code",
   "execution_count": 14,
   "metadata": {
    "collapsed": true
   },
   "outputs": [],
   "source": [
    "missing_day_threshold = 0"
   ]
  },
  {
   "cell_type": "code",
   "execution_count": 15,
   "metadata": {
    "collapsed": false
   },
   "outputs": [
    {
     "data": {
      "text/plain": [
       "0               UIL KZ\n",
       "1         KAZALINSK KZ\n",
       "2          KOKPEKTY KZ\n",
       "            ...       \n",
       "16    PETROPAVLOVSK KZ\n",
       "17           ATYRAU KZ\n",
       "18         IRTYSHSK KZ\n",
       "Name: STATION_NAME, dtype: object"
      ]
     },
     "execution_count": 15,
     "metadata": {},
     "output_type": "execute_result"
    }
   ],
   "source": [
    "kz_missing_rank = kz_missing_rank.reset_index()\n",
    "names = kz_missing_rank[kz_missing_rank[0]==missing_day_threshold].STATION_NAME\n",
    "names"
   ]
  },
  {
   "cell_type": "markdown",
   "metadata": {},
   "source": [
    "### plot stations onto a map\n",
    "\n",
    "At first, you shold get a table of all station's location, et. longitude and latitude.\n",
    "\n",
    "And select a sub of the all-station table using the list of names above."
   ]
  },
  {
   "cell_type": "code",
   "execution_count": 16,
   "metadata": {
    "collapsed": true
   },
   "outputs": [],
   "source": [
    "xy_all = kz_ghcn_raw[['STATION_NAME','LONGITUDE','LATITUDE']].drop_duplicates()\n",
    "xy_all = xy_all.set_index('STATION_NAME')"
   ]
  },
  {
   "cell_type": "code",
   "execution_count": 17,
   "metadata": {
    "collapsed": false
   },
   "outputs": [
    {
     "data": {
      "text/html": [
       "<div>\n",
       "<table border=\"1\" class=\"dataframe\">\n",
       "  <thead>\n",
       "    <tr style=\"text-align: right;\">\n",
       "      <th></th>\n",
       "      <th>LONGITUDE</th>\n",
       "      <th>LATITUDE</th>\n",
       "    </tr>\n",
       "    <tr>\n",
       "      <th>STATION_NAME</th>\n",
       "      <th></th>\n",
       "      <th></th>\n",
       "    </tr>\n",
       "  </thead>\n",
       "  <tbody>\n",
       "    <tr>\n",
       "      <th>UIL KZ</th>\n",
       "      <td>54.6831</td>\n",
       "      <td>49.0667</td>\n",
       "    </tr>\n",
       "    <tr>\n",
       "      <th>KAZALINSK KZ</th>\n",
       "      <td>62.1170</td>\n",
       "      <td>45.7670</td>\n",
       "    </tr>\n",
       "    <tr>\n",
       "      <th>KOKPEKTY KZ</th>\n",
       "      <td>82.3670</td>\n",
       "      <td>48.7500</td>\n",
       "    </tr>\n",
       "    <tr>\n",
       "      <th>...</th>\n",
       "      <td>...</td>\n",
       "      <td>...</td>\n",
       "    </tr>\n",
       "    <tr>\n",
       "      <th>PETROPAVLOVSK KZ</th>\n",
       "      <td>69.1500</td>\n",
       "      <td>54.8331</td>\n",
       "    </tr>\n",
       "    <tr>\n",
       "      <th>ATYRAU KZ</th>\n",
       "      <td>51.9167</td>\n",
       "      <td>47.1167</td>\n",
       "    </tr>\n",
       "    <tr>\n",
       "      <th>IRTYSHSK KZ</th>\n",
       "      <td>75.4500</td>\n",
       "      <td>53.3500</td>\n",
       "    </tr>\n",
       "  </tbody>\n",
       "</table>\n",
       "<p>19 rows × 2 columns</p>\n",
       "</div>"
      ],
      "text/plain": [
       "                  LONGITUDE  LATITUDE\n",
       "STATION_NAME                         \n",
       "UIL KZ              54.6831   49.0667\n",
       "KAZALINSK KZ        62.1170   45.7670\n",
       "KOKPEKTY KZ         82.3670   48.7500\n",
       "...                     ...       ...\n",
       "PETROPAVLOVSK KZ    69.1500   54.8331\n",
       "ATYRAU KZ           51.9167   47.1167\n",
       "IRTYSHSK KZ         75.4500   53.3500\n",
       "\n",
       "[19 rows x 2 columns]"
      ]
     },
     "execution_count": 17,
     "metadata": {},
     "output_type": "execute_result"
    }
   ],
   "source": [
    "xy = xy_all.ix[names,:]\n",
    "xy"
   ]
  },
  {
   "cell_type": "code",
   "execution_count": 18,
   "metadata": {
    "collapsed": false
   },
   "outputs": [
    {
     "data": {
      "text/plain": [
       "\"\\nlat_KZ = np.array(xy['LATITUDE'])\\nlon_KZ = np.array(xy['LONGITUDE'])\\n\\n\\n%matplotlib inline\\nimport cartopy.crs as ccrs\\nimport matplotlib.pyplot as plt\\nimport cartopy.feature as cfeature\\nax = plt.axes(projection=ccrs.PlateCarree())\\nax.stock_img()\\nax.set_extent([42,88,30,60])\\n\\ncountries = cfeature.NaturalEarthFeature(                                        category='cultural',                                        name='admin_0_countries',                                        scale='50m',                                        facecolor='none')\\nax.add_feature(countries)\\ndots2 = plt.scatter(lon_KZ,lat_KZ, color='red',transform=ccrs.Geodetic(),label='Stations')\\n\\nax.legend()\\nplt.show()\\n\""
      ]
     },
     "execution_count": 18,
     "metadata": {},
     "output_type": "execute_result"
    }
   ],
   "source": [
    "'''\n",
    "lat_KZ = np.array(xy['LATITUDE'])\n",
    "lon_KZ = np.array(xy['LONGITUDE'])\n",
    "\n",
    "\n",
    "%matplotlib inline\n",
    "import cartopy.crs as ccrs\n",
    "import matplotlib.pyplot as plt\n",
    "import cartopy.feature as cfeature\n",
    "ax = plt.axes(projection=ccrs.PlateCarree())\n",
    "ax.stock_img()\n",
    "ax.set_extent([42,88,30,60])\n",
    "\n",
    "countries = cfeature.NaturalEarthFeature(\\\n",
    "                                        category='cultural',\\\n",
    "                                        name='admin_0_countries',\\\n",
    "                                        scale='50m',\\\n",
    "                                        facecolor='none')\n",
    "ax.add_feature(countries)\n",
    "dots2 = plt.scatter(lon_KZ,lat_KZ, color='red',transform=ccrs.Geodetic(),label='Stations')\n",
    "\n",
    "ax.legend()\n",
    "plt.show()\n",
    "'''"
   ]
  },
  {
   "cell_type": "code",
   "execution_count": 19,
   "metadata": {
    "collapsed": true
   },
   "outputs": [],
   "source": [
    "%matplotlib inline\n",
    "import cartopy.crs as ccrs\n",
    "import matplotlib.pyplot as plt\n",
    "import cartopy.feature as cfeature\n",
    "\n",
    "\n",
    "import cartopy.io.shapereader as shpreader\n",
    "\n",
    "shpfilename = shpreader.natural_earth(resolution='110m',\n",
    "                                      category='cultural',\n",
    "                                      name='admin_0_countries')\n",
    "\n",
    "reader = shpreader.Reader(shpfilename)"
   ]
  },
  {
   "cell_type": "code",
   "execution_count": 20,
   "metadata": {
    "collapsed": true
   },
   "outputs": [],
   "source": [
    "import itertools\n",
    "\n",
    "def extract_geometries(reader, select_dict):\n",
    "    records = reader.records()\n",
    "    \n",
    "    key = select_dict.keys()[0]\n",
    "    value = select_dict[key]\n",
    "    \n",
    "    filter_geo = lambda x: x.attributes[key]==value\n",
    "    return [item.geometry for item in itertools.ifilter(filter_geo,records)]"
   ]
  },
  {
   "cell_type": "code",
   "execution_count": 21,
   "metadata": {
    "collapsed": true
   },
   "outputs": [],
   "source": [
    "import seaborn as sns"
   ]
  },
  {
   "cell_type": "code",
   "execution_count": 56,
   "metadata": {
    "collapsed": false,
    "scrolled": true
   },
   "outputs": [
    {
     "data": {
      "text/plain": [
       "<matplotlib.legend.Legend at 0x7f9b0de57e10>"
      ]
     },
     "execution_count": 56,
     "metadata": {},
     "output_type": "execute_result"
    },
    {
     "data": {
      "image/png": "[encoded data removed]",
      "text/plain": [
       "<matplotlib.figure.Figure at 0x7f9b0de6ae90>"
      ]
     },
     "metadata": {},
     "output_type": "display_data"
    }
   ],
   "source": [
    "#sns.set_context('poster')\n",
    "plt.figure(figsize=(8,8))\n",
    "\n",
    "ax = plt.subplot(111,projection=ccrs.PlateCarree())\n",
    "ax.stock_img()\n",
    "extent = [45,90,35,55]\n",
    "ax.set_extent(extent)\n",
    "ax.set_xticks([50,60,70,80])\n",
    "ax.set_yticks([40,45,50,55])\n",
    "#ax.set_global()\n",
    "select_dict = {'name':'Kazakhstan'}\n",
    "\n",
    "ax.add_geometries(extract_geometries(reader,select_dict),ccrs.PlateCarree(),\\\n",
    "                 facecolor='red',edgecolor='black',alpha=0.3,linewidth=3)\n",
    "\n",
    "\n",
    "lat_KZ = np.array(xy['LATITUDE'])\n",
    "lon_KZ = np.array(xy['LONGITUDE'])\n",
    "station_plot = ax.scatter(lon_KZ,lat_KZ, color='b',transform=ccrs.Geodetic(),label='Stations')\n",
    "\n",
    "\n",
    "ax.add_feature(cfeature.LAKES)\n",
    "ax.add_feature(cfeature.BORDERS)\n",
    "ax.add_feature(cfeature.OCEAN)\n",
    "\n",
    "ax.text(50, 55, 'Russia', transform=ccrs.Geodetic(),size=20)\n",
    "ax.text(80, 55, 'Russia', transform=ccrs.Geodetic(),size=20)\n",
    "ax.text(80, 40, 'China', transform=ccrs.Geodetic(),size=20)\n",
    "ax.text(50, 36, 'Iran', transform=ccrs.Geodetic(),size=20)\n",
    "\n",
    "\n",
    "import matplotlib.patches as mpatches\n",
    "\n",
    "# make two proxy artists to add to a legend\n",
    "kz_legend_proxy = mpatches.Rectangle((0, 0), 1, 1, facecolor=\"red\",alpha=0.3)\n",
    "labels = ['Kazakhstan','Stations']\n",
    "\n",
    "plt.legend([kz_legend_proxy,station_plot], labels,\\\n",
    "            loc='lower right')\n",
    "\n",
    "#plt.savefig('/home/ek777/KZ_map.png',dpi=600)"
   ]
  },
  {
   "cell_type": "code",
   "execution_count": 23,
   "metadata": {
    "collapsed": false,
    "scrolled": true
   },
   "outputs": [
    {
     "data": {
      "text/plain": [
       "<cartopy.mpl.feature_artist.FeatureArtist at 0x7f9b10804d50>"
      ]
     },
     "execution_count": 23,
     "metadata": {},
     "output_type": "execute_result"
    },
    {
     "name": "stderr",
     "output_type": "stream",
     "text": [
      "/home/ek777/anaconda/lib/python2.7/site-packages/cartopy/mpl/geoaxes.py:533: UserWarning: Approximating coordinate system <cartopy._crs.Geodetic object at 0x7f9b1080f110> with the PlateCarree projection.\n",
      "  'PlateCarree projection.'.format(crs))\n"
     ]
    },
    {
     "data": {
      "image/png": "[encoded data removed]",
      "text/plain": [
       "<matplotlib.figure.Figure at 0x7f9b1428cd90>"
      ]
     },
     "metadata": {},
     "output_type": "display_data"
    }
   ],
   "source": [
    "plt.figure(figsize=(4,3))\n",
    "\n",
    "\n",
    "from cartopy import feature\n",
    "\n",
    "ax = plt.subplot(111,projection=ccrs.Robinson())\n",
    "\n",
    "ax.add_feature(feature.OCEAN, zorder=0)\n",
    "\n",
    "import shapely.geometry as sgeom\n",
    "extent_box = sgeom.box(extent[0], extent[2], extent[1], extent[3])\n",
    "ax.add_geometries([extent_box], ccrs.Geodetic(), color='none',\n",
    "                          edgecolor='blue', linewidth=2)\n",
    "\n",
    "#plt.savefig('/home/ek777/Documents/Downscaling/Climate-Downscaling/KZ_paper/figures/eagle_eye.eps',dpi=600)\n",
    "#plt.savefig('/home/ek777/eagle_eye.png',dpi=600)"
   ]
  },
  {
   "cell_type": "markdown",
   "metadata": {},
   "source": [
    "### Seaborn Library for plotting"
   ]
  },
  {
   "cell_type": "code",
   "execution_count": 24,
   "metadata": {
    "collapsed": false
   },
   "outputs": [],
   "source": [
    "import seaborn as sns"
   ]
  },
  {
   "cell_type": "code",
   "execution_count": 25,
   "metadata": {
    "collapsed": false,
    "scrolled": false
   },
   "outputs": [
    {
     "data": {
      "text/html": [
       "<div>\n",
       "<table border=\"1\" class=\"dataframe\">\n",
       "  <thead>\n",
       "    <tr style=\"text-align: right;\">\n",
       "      <th>STATION_NAME</th>\n",
       "      <th>UIL KZ</th>\n",
       "      <th>KAZALINSK KZ</th>\n",
       "      <th>KOKPEKTY KZ</th>\n",
       "      <th>SEMEJ KZ</th>\n",
       "      <th>KUSTANAI KZ</th>\n",
       "      <th>URALSK KZ</th>\n",
       "      <th>BALHASH KZ</th>\n",
       "      <th>KZYLZAR KZ</th>\n",
       "      <th>KARAGANDA KZ</th>\n",
       "      <th>ZHARKENT KZ</th>\n",
       "      <th>ATBASAR KZ</th>\n",
       "      <th>ASTANA KZ</th>\n",
       "      <th>ARALSKOE MORE KZ</th>\n",
       "      <th>ALMATY KZ</th>\n",
       "      <th>AKTOBE KZ</th>\n",
       "      <th>SAM KZ</th>\n",
       "      <th>PETROPAVLOVSK KZ</th>\n",
       "      <th>ATYRAU KZ</th>\n",
       "      <th>IRTYSHSK KZ</th>\n",
       "    </tr>\n",
       "    <tr>\n",
       "      <th>DATE</th>\n",
       "      <th></th>\n",
       "      <th></th>\n",
       "      <th></th>\n",
       "      <th></th>\n",
       "      <th></th>\n",
       "      <th></th>\n",
       "      <th></th>\n",
       "      <th></th>\n",
       "      <th></th>\n",
       "      <th></th>\n",
       "      <th></th>\n",
       "      <th></th>\n",
       "      <th></th>\n",
       "      <th></th>\n",
       "      <th></th>\n",
       "      <th></th>\n",
       "      <th></th>\n",
       "      <th></th>\n",
       "      <th></th>\n",
       "    </tr>\n",
       "  </thead>\n",
       "  <tbody>\n",
       "    <tr>\n",
       "      <th>1980-01-01</th>\n",
       "      <td>-16.1</td>\n",
       "      <td>-15.3</td>\n",
       "      <td>-22.3</td>\n",
       "      <td>-15.9</td>\n",
       "      <td>-19.3</td>\n",
       "      <td>-15.1</td>\n",
       "      <td>-14.1</td>\n",
       "      <td>-17.5</td>\n",
       "      <td>-15.0</td>\n",
       "      <td>-7.0</td>\n",
       "      <td>-20.7</td>\n",
       "      <td>-17.8</td>\n",
       "      <td>-16.0</td>\n",
       "      <td>-5.7</td>\n",
       "      <td>-17.3</td>\n",
       "      <td>-14.1</td>\n",
       "      <td>-20.1</td>\n",
       "      <td>-13.1</td>\n",
       "      <td>-19.2</td>\n",
       "    </tr>\n",
       "    <tr>\n",
       "      <th>1980-02-01</th>\n",
       "      <td>-16.3</td>\n",
       "      <td>-15.0</td>\n",
       "      <td>-18.3</td>\n",
       "      <td>-16.3</td>\n",
       "      <td>-20.9</td>\n",
       "      <td>-15.1</td>\n",
       "      <td>-12.5</td>\n",
       "      <td>-16.7</td>\n",
       "      <td>-13.2</td>\n",
       "      <td>-4.6</td>\n",
       "      <td>-19.2</td>\n",
       "      <td>-16.6</td>\n",
       "      <td>-16.2</td>\n",
       "      <td>-5.6</td>\n",
       "      <td>-17.9</td>\n",
       "      <td>-9.7</td>\n",
       "      <td>-18.9</td>\n",
       "      <td>-9.9</td>\n",
       "      <td>-18.3</td>\n",
       "    </tr>\n",
       "    <tr>\n",
       "      <th>1980-03-01</th>\n",
       "      <td>-8.9</td>\n",
       "      <td>-6.4</td>\n",
       "      <td>-13.3</td>\n",
       "      <td>-11.2</td>\n",
       "      <td>-12.4</td>\n",
       "      <td>-9.3</td>\n",
       "      <td>-5.5</td>\n",
       "      <td>-10.3</td>\n",
       "      <td>-9.2</td>\n",
       "      <td>3.2</td>\n",
       "      <td>-13.2</td>\n",
       "      <td>-11.5</td>\n",
       "      <td>-8.3</td>\n",
       "      <td>0.5</td>\n",
       "      <td>-10.2</td>\n",
       "      <td>-2.3</td>\n",
       "      <td>-11.3</td>\n",
       "      <td>-2.9</td>\n",
       "      <td>-11.4</td>\n",
       "    </tr>\n",
       "    <tr>\n",
       "      <th>...</th>\n",
       "      <td>...</td>\n",
       "      <td>...</td>\n",
       "      <td>...</td>\n",
       "      <td>...</td>\n",
       "      <td>...</td>\n",
       "      <td>...</td>\n",
       "      <td>...</td>\n",
       "      <td>...</td>\n",
       "      <td>...</td>\n",
       "      <td>...</td>\n",
       "      <td>...</td>\n",
       "      <td>...</td>\n",
       "      <td>...</td>\n",
       "      <td>...</td>\n",
       "      <td>...</td>\n",
       "      <td>...</td>\n",
       "      <td>...</td>\n",
       "      <td>...</td>\n",
       "      <td>...</td>\n",
       "    </tr>\n",
       "    <tr>\n",
       "      <th>1999-10-01</th>\n",
       "      <td>10.2</td>\n",
       "      <td>12.1</td>\n",
       "      <td>5.6</td>\n",
       "      <td>7.5</td>\n",
       "      <td>8.2</td>\n",
       "      <td>8.8</td>\n",
       "      <td>9.8</td>\n",
       "      <td>8.9</td>\n",
       "      <td>8.3</td>\n",
       "      <td>13.4</td>\n",
       "      <td>7.5</td>\n",
       "      <td>8.0</td>\n",
       "      <td>12.2</td>\n",
       "      <td>12.6</td>\n",
       "      <td>8.7</td>\n",
       "      <td>12.7</td>\n",
       "      <td>7.2</td>\n",
       "      <td>12.2</td>\n",
       "      <td>7.3</td>\n",
       "    </tr>\n",
       "    <tr>\n",
       "      <th>1999-11-01</th>\n",
       "      <td>-5.3</td>\n",
       "      <td>-1.4</td>\n",
       "      <td>-7.0</td>\n",
       "      <td>-4.5</td>\n",
       "      <td>-8.4</td>\n",
       "      <td>-6.8</td>\n",
       "      <td>-2.0</td>\n",
       "      <td>-6.1</td>\n",
       "      <td>-6.6</td>\n",
       "      <td>4.0</td>\n",
       "      <td>-8.9</td>\n",
       "      <td>-8.1</td>\n",
       "      <td>-3.3</td>\n",
       "      <td>3.1</td>\n",
       "      <td>-6.6</td>\n",
       "      <td>-1.3</td>\n",
       "      <td>-9.3</td>\n",
       "      <td>-2.3</td>\n",
       "      <td>-8.0</td>\n",
       "    </tr>\n",
       "    <tr>\n",
       "      <th>1999-12-01</th>\n",
       "      <td>-3.3</td>\n",
       "      <td>-2.4</td>\n",
       "      <td>-14.4</td>\n",
       "      <td>-7.1</td>\n",
       "      <td>-6.4</td>\n",
       "      <td>-3.8</td>\n",
       "      <td>-7.9</td>\n",
       "      <td>-9.6</td>\n",
       "      <td>-8.4</td>\n",
       "      <td>0.4</td>\n",
       "      <td>-10.1</td>\n",
       "      <td>-9.8</td>\n",
       "      <td>-3.8</td>\n",
       "      <td>0.4</td>\n",
       "      <td>-5.1</td>\n",
       "      <td>-0.8</td>\n",
       "      <td>-8.1</td>\n",
       "      <td>-0.3</td>\n",
       "      <td>-9.3</td>\n",
       "    </tr>\n",
       "  </tbody>\n",
       "</table>\n",
       "<p>240 rows × 19 columns</p>\n",
       "</div>"
      ],
      "text/plain": [
       "STATION_NAME  UIL KZ  KAZALINSK KZ  KOKPEKTY KZ  SEMEJ KZ  KUSTANAI KZ  \\\n",
       "DATE                                                                     \n",
       "1980-01-01     -16.1         -15.3        -22.3     -15.9        -19.3   \n",
       "1980-02-01     -16.3         -15.0        -18.3     -16.3        -20.9   \n",
       "1980-03-01      -8.9          -6.4        -13.3     -11.2        -12.4   \n",
       "...              ...           ...          ...       ...          ...   \n",
       "1999-10-01      10.2          12.1          5.6       7.5          8.2   \n",
       "1999-11-01      -5.3          -1.4         -7.0      -4.5         -8.4   \n",
       "1999-12-01      -3.3          -2.4        -14.4      -7.1         -6.4   \n",
       "\n",
       "STATION_NAME  URALSK KZ  BALHASH KZ  KZYLZAR KZ  KARAGANDA KZ  ZHARKENT KZ  \\\n",
       "DATE                                                                         \n",
       "1980-01-01        -15.1       -14.1       -17.5         -15.0         -7.0   \n",
       "1980-02-01        -15.1       -12.5       -16.7         -13.2         -4.6   \n",
       "1980-03-01         -9.3        -5.5       -10.3          -9.2          3.2   \n",
       "...                 ...         ...         ...           ...          ...   \n",
       "1999-10-01          8.8         9.8         8.9           8.3         13.4   \n",
       "1999-11-01         -6.8        -2.0        -6.1          -6.6          4.0   \n",
       "1999-12-01         -3.8        -7.9        -9.6          -8.4          0.4   \n",
       "\n",
       "STATION_NAME  ATBASAR KZ  ASTANA KZ  ARALSKOE MORE KZ  ALMATY KZ  AKTOBE KZ  \\\n",
       "DATE                                                                          \n",
       "1980-01-01         -20.7      -17.8             -16.0       -5.7      -17.3   \n",
       "1980-02-01         -19.2      -16.6             -16.2       -5.6      -17.9   \n",
       "1980-03-01         -13.2      -11.5              -8.3        0.5      -10.2   \n",
       "...                  ...        ...               ...        ...        ...   \n",
       "1999-10-01           7.5        8.0              12.2       12.6        8.7   \n",
       "1999-11-01          -8.9       -8.1              -3.3        3.1       -6.6   \n",
       "1999-12-01         -10.1       -9.8              -3.8        0.4       -5.1   \n",
       "\n",
       "STATION_NAME  SAM KZ  PETROPAVLOVSK KZ  ATYRAU KZ  IRTYSHSK KZ  \n",
       "DATE                                                            \n",
       "1980-01-01     -14.1             -20.1      -13.1        -19.2  \n",
       "1980-02-01      -9.7             -18.9       -9.9        -18.3  \n",
       "1980-03-01      -2.3             -11.3       -2.9        -11.4  \n",
       "...              ...               ...        ...          ...  \n",
       "1999-10-01      12.7               7.2       12.2          7.3  \n",
       "1999-11-01      -1.3              -9.3       -2.3         -8.0  \n",
       "1999-12-01      -0.8              -8.1       -0.3         -9.3  \n",
       "\n",
       "[240 rows x 19 columns]"
      ]
     },
     "execution_count": 25,
     "metadata": {},
     "output_type": "execute_result"
    }
   ],
   "source": [
    "kz_time_station_temp_dropMissing = kz_time_station_temp.ix[:,names]/10\n",
    "kz_time_station_temp_dropMissing"
   ]
  },
  {
   "cell_type": "code",
   "execution_count": 26,
   "metadata": {
    "collapsed": false
   },
   "outputs": [],
   "source": [
    "# kz_time_station_temp_dropMissing.to_csv('kz_ghcn_processed_1981_1999.csv')"
   ]
  },
  {
   "cell_type": "code",
   "execution_count": 27,
   "metadata": {
    "collapsed": false
   },
   "outputs": [
    {
     "data": {
      "text/plain": [
       "<matplotlib.text.Text at 0x7f9b0efc5190>"
      ]
     },
     "execution_count": 27,
     "metadata": {},
     "output_type": "execute_result"
    },
    {
     "data": {
      "image/png": "[encoded data removed]",
      "text/plain": [
       "<matplotlib.figure.Figure at 0x7f9b1428c750>"
      ]
     },
     "metadata": {},
     "output_type": "display_data"
    }
   ],
   "source": [
    "fig, ax = plt.subplots(figsize=(8,5))\n",
    "\n",
    "sns.boxplot(data=kz_time_station_temp_dropMissing.groupby(lambda x: x.month).mean().T,\\\n",
    "           palette=sns.color_palette(\"muted\",1))\n",
    "\n",
    "ax.set_ylabel('Mean temperature ($^\\circ$C)')\n",
    "ax.set_xlabel('')\n",
    "ax.set_xticklabels(['Jan','Feb','Mar','Apr','May','Jun','Jul','Aug','Sep','Oct','Nov','Dec'])\n",
    "ax.set_title('Monthly mean temperature over Kazakhstan')\n",
    "\n",
    "# plt.savefig('/home/ek777/Documents/Downscaling/Climate-Downscaling/KZ_paper/figures/Monthly_mean_temperature.eps',\\\n",
    "#            dpi=600)"
   ]
  },
  {
   "cell_type": "code",
   "execution_count": 28,
   "metadata": {
    "collapsed": true
   },
   "outputs": [],
   "source": [
    "data = kz_time_station_temp_dropMissing.groupby(lambda x: x.month).mean()"
   ]
  },
  {
   "cell_type": "code",
   "execution_count": 29,
   "metadata": {
    "collapsed": false
   },
   "outputs": [
    {
     "data": {
      "text/html": [
       "<div>\n",
       "<table border=\"1\" class=\"dataframe\">\n",
       "  <thead>\n",
       "    <tr style=\"text-align: right;\">\n",
       "      <th>STATION_NAME</th>\n",
       "      <th>UIL KZ</th>\n",
       "      <th>KAZALINSK KZ</th>\n",
       "      <th>KOKPEKTY KZ</th>\n",
       "      <th>SEMEJ KZ</th>\n",
       "      <th>KUSTANAI KZ</th>\n",
       "      <th>URALSK KZ</th>\n",
       "      <th>BALHASH KZ</th>\n",
       "      <th>KZYLZAR KZ</th>\n",
       "      <th>KARAGANDA KZ</th>\n",
       "      <th>ZHARKENT KZ</th>\n",
       "      <th>ATBASAR KZ</th>\n",
       "      <th>ASTANA KZ</th>\n",
       "      <th>ARALSKOE MORE KZ</th>\n",
       "      <th>ALMATY KZ</th>\n",
       "      <th>AKTOBE KZ</th>\n",
       "      <th>SAM KZ</th>\n",
       "      <th>PETROPAVLOVSK KZ</th>\n",
       "      <th>ATYRAU KZ</th>\n",
       "      <th>IRTYSHSK KZ</th>\n",
       "    </tr>\n",
       "  </thead>\n",
       "  <tbody>\n",
       "    <tr>\n",
       "      <th>1</th>\n",
       "      <td>-10.720</td>\n",
       "      <td>-8.865</td>\n",
       "      <td>-19.540</td>\n",
       "      <td>-13.690</td>\n",
       "      <td>-14.665</td>\n",
       "      <td>-10.890</td>\n",
       "      <td>-13.035</td>\n",
       "      <td>-14.055</td>\n",
       "      <td>-12.710</td>\n",
       "      <td>-6.340</td>\n",
       "      <td>-15.960</td>\n",
       "      <td>-14.040</td>\n",
       "      <td>-10.675</td>\n",
       "      <td>-4.145</td>\n",
       "      <td>-12.535</td>\n",
       "      <td>-6.840</td>\n",
       "      <td>-15.655</td>\n",
       "      <td>-6.410</td>\n",
       "      <td>-16.065</td>\n",
       "    </tr>\n",
       "    <tr>\n",
       "      <th>2</th>\n",
       "      <td>-11.310</td>\n",
       "      <td>-8.430</td>\n",
       "      <td>-17.670</td>\n",
       "      <td>-13.465</td>\n",
       "      <td>-14.360</td>\n",
       "      <td>-11.165</td>\n",
       "      <td>-12.380</td>\n",
       "      <td>-14.085</td>\n",
       "      <td>-12.805</td>\n",
       "      <td>-3.525</td>\n",
       "      <td>-16.060</td>\n",
       "      <td>-14.425</td>\n",
       "      <td>-10.480</td>\n",
       "      <td>-2.980</td>\n",
       "      <td>-12.615</td>\n",
       "      <td>-7.015</td>\n",
       "      <td>-14.965</td>\n",
       "      <td>-7.040</td>\n",
       "      <td>-15.645</td>\n",
       "    </tr>\n",
       "    <tr>\n",
       "      <th>3</th>\n",
       "      <td>-5.060</td>\n",
       "      <td>-0.995</td>\n",
       "      <td>-10.100</td>\n",
       "      <td>-7.085</td>\n",
       "      <td>-8.500</td>\n",
       "      <td>-5.345</td>\n",
       "      <td>-4.775</td>\n",
       "      <td>-7.630</td>\n",
       "      <td>-7.390</td>\n",
       "      <td>4.220</td>\n",
       "      <td>-10.485</td>\n",
       "      <td>-8.690</td>\n",
       "      <td>-3.340</td>\n",
       "      <td>2.275</td>\n",
       "      <td>-6.610</td>\n",
       "      <td>-0.365</td>\n",
       "      <td>-8.770</td>\n",
       "      <td>-0.045</td>\n",
       "      <td>-9.265</td>\n",
       "    </tr>\n",
       "    <tr>\n",
       "      <th>...</th>\n",
       "      <td>...</td>\n",
       "      <td>...</td>\n",
       "      <td>...</td>\n",
       "      <td>...</td>\n",
       "      <td>...</td>\n",
       "      <td>...</td>\n",
       "      <td>...</td>\n",
       "      <td>...</td>\n",
       "      <td>...</td>\n",
       "      <td>...</td>\n",
       "      <td>...</td>\n",
       "      <td>...</td>\n",
       "      <td>...</td>\n",
       "      <td>...</td>\n",
       "      <td>...</td>\n",
       "      <td>...</td>\n",
       "      <td>...</td>\n",
       "      <td>...</td>\n",
       "      <td>...</td>\n",
       "    </tr>\n",
       "    <tr>\n",
       "      <th>10</th>\n",
       "      <td>7.655</td>\n",
       "      <td>9.350</td>\n",
       "      <td>4.110</td>\n",
       "      <td>5.750</td>\n",
       "      <td>5.315</td>\n",
       "      <td>6.845</td>\n",
       "      <td>7.365</td>\n",
       "      <td>6.250</td>\n",
       "      <td>5.075</td>\n",
       "      <td>11.470</td>\n",
       "      <td>4.265</td>\n",
       "      <td>4.995</td>\n",
       "      <td>9.090</td>\n",
       "      <td>10.175</td>\n",
       "      <td>6.265</td>\n",
       "      <td>9.725</td>\n",
       "      <td>3.970</td>\n",
       "      <td>9.680</td>\n",
       "      <td>4.490</td>\n",
       "    </tr>\n",
       "    <tr>\n",
       "      <th>11</th>\n",
       "      <td>-1.865</td>\n",
       "      <td>0.545</td>\n",
       "      <td>-7.205</td>\n",
       "      <td>-4.690</td>\n",
       "      <td>-6.525</td>\n",
       "      <td>-2.790</td>\n",
       "      <td>-1.800</td>\n",
       "      <td>-3.695</td>\n",
       "      <td>-5.110</td>\n",
       "      <td>3.575</td>\n",
       "      <td>-7.865</td>\n",
       "      <td>-6.230</td>\n",
       "      <td>-0.485</td>\n",
       "      <td>2.995</td>\n",
       "      <td>-3.915</td>\n",
       "      <td>1.370</td>\n",
       "      <td>-8.280</td>\n",
       "      <td>1.025</td>\n",
       "      <td>-7.690</td>\n",
       "    </tr>\n",
       "    <tr>\n",
       "      <th>12</th>\n",
       "      <td>-7.885</td>\n",
       "      <td>-5.765</td>\n",
       "      <td>-15.900</td>\n",
       "      <td>-10.620</td>\n",
       "      <td>-12.205</td>\n",
       "      <td>-8.155</td>\n",
       "      <td>-9.175</td>\n",
       "      <td>-11.075</td>\n",
       "      <td>-10.590</td>\n",
       "      <td>-2.920</td>\n",
       "      <td>-13.945</td>\n",
       "      <td>-12.120</td>\n",
       "      <td>-7.275</td>\n",
       "      <td>-1.730</td>\n",
       "      <td>-9.780</td>\n",
       "      <td>-4.225</td>\n",
       "      <td>-13.405</td>\n",
       "      <td>-4.060</td>\n",
       "      <td>-13.270</td>\n",
       "    </tr>\n",
       "  </tbody>\n",
       "</table>\n",
       "<p>12 rows × 19 columns</p>\n",
       "</div>"
      ],
      "text/plain": [
       "STATION_NAME  UIL KZ  KAZALINSK KZ  KOKPEKTY KZ  SEMEJ KZ  KUSTANAI KZ  \\\n",
       "1            -10.720        -8.865      -19.540   -13.690      -14.665   \n",
       "2            -11.310        -8.430      -17.670   -13.465      -14.360   \n",
       "3             -5.060        -0.995      -10.100    -7.085       -8.500   \n",
       "..               ...           ...          ...       ...          ...   \n",
       "10             7.655         9.350        4.110     5.750        5.315   \n",
       "11            -1.865         0.545       -7.205    -4.690       -6.525   \n",
       "12            -7.885        -5.765      -15.900   -10.620      -12.205   \n",
       "\n",
       "STATION_NAME  URALSK KZ  BALHASH KZ  KZYLZAR KZ  KARAGANDA KZ  ZHARKENT KZ  \\\n",
       "1               -10.890     -13.035     -14.055       -12.710       -6.340   \n",
       "2               -11.165     -12.380     -14.085       -12.805       -3.525   \n",
       "3                -5.345      -4.775      -7.630        -7.390        4.220   \n",
       "..                  ...         ...         ...           ...          ...   \n",
       "10                6.845       7.365       6.250         5.075       11.470   \n",
       "11               -2.790      -1.800      -3.695        -5.110        3.575   \n",
       "12               -8.155      -9.175     -11.075       -10.590       -2.920   \n",
       "\n",
       "STATION_NAME  ATBASAR KZ  ASTANA KZ  ARALSKOE MORE KZ  ALMATY KZ  AKTOBE KZ  \\\n",
       "1                -15.960    -14.040           -10.675     -4.145    -12.535   \n",
       "2                -16.060    -14.425           -10.480     -2.980    -12.615   \n",
       "3                -10.485     -8.690            -3.340      2.275     -6.610   \n",
       "..                   ...        ...               ...        ...        ...   \n",
       "10                 4.265      4.995             9.090     10.175      6.265   \n",
       "11                -7.865     -6.230            -0.485      2.995     -3.915   \n",
       "12               -13.945    -12.120            -7.275     -1.730     -9.780   \n",
       "\n",
       "STATION_NAME  SAM KZ  PETROPAVLOVSK KZ  ATYRAU KZ  IRTYSHSK KZ  \n",
       "1             -6.840           -15.655     -6.410      -16.065  \n",
       "2             -7.015           -14.965     -7.040      -15.645  \n",
       "3             -0.365            -8.770     -0.045       -9.265  \n",
       "..               ...               ...        ...          ...  \n",
       "10             9.725             3.970      9.680        4.490  \n",
       "11             1.370            -8.280      1.025       -7.690  \n",
       "12            -4.225           -13.405     -4.060      -13.270  \n",
       "\n",
       "[12 rows x 19 columns]"
      ]
     },
     "execution_count": 29,
     "metadata": {},
     "output_type": "execute_result"
    }
   ],
   "source": [
    "data"
   ]
  },
  {
   "cell_type": "code",
   "execution_count": 30,
   "metadata": {
    "collapsed": true
   },
   "outputs": [],
   "source": [
    "t=range(1,13)\n",
    "y_mean = data.values.mean(axis=1)\n",
    "y_std = data.values.std(axis=1)"
   ]
  },
  {
   "cell_type": "code",
   "execution_count": 31,
   "metadata": {
    "collapsed": false
   },
   "outputs": [
    {
     "data": {
      "text/plain": [
       "<matplotlib.legend.Legend at 0x7f9b0ed6e290>"
      ]
     },
     "execution_count": 31,
     "metadata": {},
     "output_type": "execute_result"
    },
    {
     "data": {
      "image/png": "[encoded data removed]",
      "text/plain": [
       "<matplotlib.figure.Figure at 0x7f9b10906650>"
      ]
     },
     "metadata": {},
     "output_type": "display_data"
    }
   ],
   "source": [
    "fig, ax = plt.subplots(1,figsize=(8,6))\n",
    "\n",
    "ax.plot(t,y_mean,lw=4,label='mean')\n",
    "\n",
    "ax.fill_between(t,y_mean+y_std,y_mean-y_std, alpha=0.3, label='std')\n",
    "\n",
    "ax.set_xlim([1,12])\n",
    "\n",
    "ax.set_xticks(range(1,13))\n",
    "#ax.set_xticklabels(['J','F','M','A','M','J','J','A','S','O','N','D'])\n",
    "ax.set_xticklabels(['Jan','Feb','Mar','Apr','May','Jun','Jul','Aug','Sep','Oct','Nov','Dec'])\n",
    "\n",
    "ax.legend()"
   ]
  },
  {
   "cell_type": "code",
   "execution_count": 32,
   "metadata": {
    "collapsed": true
   },
   "outputs": [],
   "source": [
    "month_to_season_dct = {\n",
    "    1: 'DJF', 2: 'DJF',\n",
    "    3: 'MAM', 4: 'MAM', 5: 'MAM',\n",
    "    6: 'JJA', 7: 'JJA', 8: 'JJA',\n",
    "    9: 'SON', 10: 'SON', 11: 'SON',\n",
    "    12: 'DJF'\n",
    "}"
   ]
  },
  {
   "cell_type": "code",
   "execution_count": 33,
   "metadata": {
    "collapsed": true
   },
   "outputs": [],
   "source": [
    "data = kz_time_station_temp_dropMissing.groupby(lambda x: month_to_season_dct[x.month]).mean().T"
   ]
  },
  {
   "cell_type": "code",
   "execution_count": 34,
   "metadata": {
    "collapsed": false
   },
   "outputs": [],
   "source": [
    "data = data.reindex(columns=['MAM','JJA','SON','DJF'])"
   ]
  },
  {
   "cell_type": "code",
   "execution_count": 35,
   "metadata": {
    "collapsed": false
   },
   "outputs": [
    {
     "data": {
      "text/plain": [
       "<matplotlib.axes._subplots.AxesSubplot at 0x7f9b0ecd2b50>"
      ]
     },
     "execution_count": 35,
     "metadata": {},
     "output_type": "execute_result"
    },
    {
     "data": {
      "image/png": "[encoded data removed]",
      "text/plain": [
       "<matplotlib.figure.Figure at 0x7f9b14295910>"
      ]
     },
     "metadata": {},
     "output_type": "display_data"
    }
   ],
   "source": [
    "sns.boxplot(data=data)"
   ]
  },
  {
   "cell_type": "code",
   "execution_count": 36,
   "metadata": {
    "collapsed": false
   },
   "outputs": [
    {
     "data": {
      "text/html": [
       "<div>\n",
       "<table border=\"1\" class=\"dataframe\">\n",
       "  <thead>\n",
       "    <tr style=\"text-align: right;\">\n",
       "      <th></th>\n",
       "      <th>LONGITUDE</th>\n",
       "      <th>LATITUDE</th>\n",
       "    </tr>\n",
       "    <tr>\n",
       "      <th>STATION_NAME</th>\n",
       "      <th></th>\n",
       "      <th></th>\n",
       "    </tr>\n",
       "  </thead>\n",
       "  <tbody>\n",
       "    <tr>\n",
       "      <th>UIL KZ</th>\n",
       "      <td>54.6831</td>\n",
       "      <td>49.0667</td>\n",
       "    </tr>\n",
       "    <tr>\n",
       "      <th>KAZALINSK KZ</th>\n",
       "      <td>62.1170</td>\n",
       "      <td>45.7670</td>\n",
       "    </tr>\n",
       "    <tr>\n",
       "      <th>KOKPEKTY KZ</th>\n",
       "      <td>82.3670</td>\n",
       "      <td>48.7500</td>\n",
       "    </tr>\n",
       "    <tr>\n",
       "      <th>...</th>\n",
       "      <td>...</td>\n",
       "      <td>...</td>\n",
       "    </tr>\n",
       "    <tr>\n",
       "      <th>PETROPAVLOVSK KZ</th>\n",
       "      <td>69.1500</td>\n",
       "      <td>54.8331</td>\n",
       "    </tr>\n",
       "    <tr>\n",
       "      <th>ATYRAU KZ</th>\n",
       "      <td>51.9167</td>\n",
       "      <td>47.1167</td>\n",
       "    </tr>\n",
       "    <tr>\n",
       "      <th>IRTYSHSK KZ</th>\n",
       "      <td>75.4500</td>\n",
       "      <td>53.3500</td>\n",
       "    </tr>\n",
       "  </tbody>\n",
       "</table>\n",
       "<p>19 rows × 2 columns</p>\n",
       "</div>"
      ],
      "text/plain": [
       "                  LONGITUDE  LATITUDE\n",
       "STATION_NAME                         \n",
       "UIL KZ              54.6831   49.0667\n",
       "KAZALINSK KZ        62.1170   45.7670\n",
       "KOKPEKTY KZ         82.3670   48.7500\n",
       "...                     ...       ...\n",
       "PETROPAVLOVSK KZ    69.1500   54.8331\n",
       "ATYRAU KZ           51.9167   47.1167\n",
       "IRTYSHSK KZ         75.4500   53.3500\n",
       "\n",
       "[19 rows x 2 columns]"
      ]
     },
     "execution_count": 36,
     "metadata": {},
     "output_type": "execute_result"
    }
   ],
   "source": [
    "xy"
   ]
  },
  {
   "cell_type": "code",
   "execution_count": 37,
   "metadata": {
    "collapsed": true
   },
   "outputs": [],
   "source": [
    "literature = Series({'CHINA':16,\\\n",
    "    'GERMANY':16,\\\n",
    "    'KAZAKHSTAN':13,\\\n",
    "    'USA':11,\\\n",
    "    'RUSSIA':8,\\\n",
    "    'UZBEKISTAN':4})"
   ]
  },
  {
   "cell_type": "code",
   "execution_count": 38,
   "metadata": {
    "collapsed": false,
    "scrolled": true
   },
   "outputs": [
    {
     "data": {
      "text/plain": [
       "<matplotlib.axes._subplots.AxesSubplot at 0x7f9b0ed09490>"
      ]
     },
     "execution_count": 38,
     "metadata": {},
     "output_type": "execute_result"
    },
    {
     "data": {
      "image/png": "[encoded data removed]",
      "text/plain": [
       "<matplotlib.figure.Figure at 0x7f9b108c6f90>"
      ]
     },
     "metadata": {},
     "output_type": "display_data"
    }
   ],
   "source": [
    "literature.sort_values().plot('barh')"
   ]
  },
  {
   "cell_type": "code",
   "execution_count": 40,
   "metadata": {
    "collapsed": true
   },
   "outputs": [],
   "source": [
    "sns.set()"
   ]
  }
 ],
 "metadata": {
  "kernelspec": {
   "display_name": "Python 2",
   "language": "python",
   "name": "python2"
  },
  "language_info": {
   "codemirror_mode": {
    "name": "ipython",
    "version": 2
   },
   "file_extension": ".py",
   "mimetype": "text/x-python",
   "name": "python",
   "nbconvert_exporter": "python",
   "pygments_lexer": "ipython2",
   "version": "2.7.10"
  }
 },
 "nbformat": 4,
 "nbformat_minor": 0
}
